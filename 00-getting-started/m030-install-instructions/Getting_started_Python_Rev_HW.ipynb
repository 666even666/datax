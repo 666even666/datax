{
  "nbformat": 4,
  "nbformat_minor": 0,
  "metadata": {
    "anaconda-cloud": {},
    "kernelspec": {
      "display_name": "Python 3",
      "language": "python",
      "name": "python3"
    },
    "language_info": {
      "codemirror_mode": {
        "name": "ipython",
        "version": 3
      },
      "file_extension": ".py",
      "mimetype": "text/x-python",
      "name": "python",
      "nbconvert_exporter": "python",
      "pygments_lexer": "ipython3",
      "version": "3.7.6"
    },
    "colab": {
      "name": "Getting started Python Rev HW.ipynb",
      "provenance": []
    }
  },
  "cells": [
    {
      "cell_type": "markdown",
      "metadata": {
        "id": "9XeA1Wxa5K9A",
        "colab_type": "text"
      },
      "source": [
        "# Homework: Python Basics and Getting Started\n",
        "\n"
      ]
    },
    {
      "cell_type": "markdown",
      "metadata": {
        "id": "0eYi3xkY5K9B",
        "colab_type": "text"
      },
      "source": [
        "In this homework you will complete a couple of simple exercises in order to show your understanding with Python. If these exercises are challenging or new to you, you may want to reconsider taking the class and/or brush up on your Python skills. For the following exercises you are not allowed to use any Python packages (i.e. Numpy, Pandas, etc.)."
      ]
    },
    {
      "cell_type": "markdown",
      "metadata": {
        "id": "BIpNxEze5K9H",
        "colab_type": "text"
      },
      "source": [
        "### Please print the output of each question in a new cell below your code"
      ]
    },
    {
      "cell_type": "code",
      "metadata": {
        "id": "h6rGKzBl5K9K",
        "colab_type": "code",
        "colab": {}
      },
      "source": [
        "# These lines load the autograder tests. DO NOT change this\n",
        "from client.api.notebook import Notebook\n",
        "ok = Notebook('hw02.ok')\n",
        "ok.auth(inline=True)\n",
        "score_counter = 0"
      ],
      "execution_count": null,
      "outputs": []
    },
    {
      "cell_type": "markdown",
      "metadata": {
        "id": "GPuJrid85K9Q",
        "colab_type": "text"
      },
      "source": [
        "## Lists"
      ]
    },
    {
      "cell_type": "markdown",
      "metadata": {
        "id": "llAKgpQR5K9R",
        "colab_type": "text"
      },
      "source": [
        "1.1 Create an empty Python list called 'a' in the cell below."
      ]
    },
    {
      "cell_type": "code",
      "metadata": {
        "id": "Cc_BJb3O5K9W",
        "colab_type": "code",
        "colab": {}
      },
      "source": [
        "#your code here"
      ],
      "execution_count": null,
      "outputs": []
    },
    {
      "cell_type": "code",
      "metadata": {
        "id": "L-5sy-uf5K9h",
        "colab_type": "code",
        "colab": {}
      },
      "source": [
        "val = ok.grade(\"q1a\")\n",
        "score_counter = score_counter + 1 if val['passed'] == 1 else score_counter"
      ],
      "execution_count": null,
      "outputs": []
    },
    {
      "cell_type": "markdown",
      "metadata": {
        "id": "zSy-UpeN5K9r",
        "colab_type": "text"
      },
      "source": [
        "1.2 Store all values between 1-100 (inclusive) with increments of 3 (i.e. 1, 4, 7...) in 'a'."
      ]
    },
    {
      "cell_type": "code",
      "metadata": {
        "id": "uIPxpLti5K9s",
        "colab_type": "code",
        "colab": {}
      },
      "source": [
        "#your code here"
      ],
      "execution_count": null,
      "outputs": []
    },
    {
      "cell_type": "code",
      "metadata": {
        "id": "Qep9ymnT5K9x",
        "colab_type": "code",
        "colab": {}
      },
      "source": [
        "val = ok.grade(\"q1b\")\n",
        "score_counter = score_counter + 1 if val['passed'] == 1 else score_counter"
      ],
      "execution_count": null,
      "outputs": []
    },
    {
      "cell_type": "markdown",
      "metadata": {
        "id": "AupUm0e-5K97",
        "colab_type": "text"
      },
      "source": [
        "1.3 Create another list called 'a2' with numbers from 2-46 (inclusive) with increments of 0.5 (i.e. 2, 2.5, 3...)."
      ]
    },
    {
      "cell_type": "code",
      "metadata": {
        "id": "_IN8nuIH5K98",
        "colab_type": "code",
        "colab": {}
      },
      "source": [
        "#your code here"
      ],
      "execution_count": null,
      "outputs": []
    },
    {
      "cell_type": "code",
      "metadata": {
        "id": "gB35QhVB5K-C",
        "colab_type": "code",
        "colab": {}
      },
      "source": [
        "val = ok.grade(\"q1c\")\n",
        "score_counter = score_counter + 1 if val['passed'] == 1 else score_counter"
      ],
      "execution_count": null,
      "outputs": []
    },
    {
      "cell_type": "markdown",
      "metadata": {
        "id": "_R9HKQxi5K-M",
        "colab_type": "text"
      },
      "source": [
        "1.4 Double every even integer element from list 'a'. Store the results back in 'a'."
      ]
    },
    {
      "cell_type": "code",
      "metadata": {
        "id": "iF8zQBav5K-N",
        "colab_type": "code",
        "colab": {}
      },
      "source": [
        "#your code here"
      ],
      "execution_count": null,
      "outputs": []
    },
    {
      "cell_type": "code",
      "metadata": {
        "id": "fta0YL2c5K-T",
        "colab_type": "code",
        "colab": {}
      },
      "source": [
        "val = ok.grade(\"q1d\")\n",
        "score_counter = score_counter + 1 if val['passed'] == 1 else score_counter"
      ],
      "execution_count": null,
      "outputs": []
    },
    {
      "cell_type": "markdown",
      "metadata": {
        "id": "Cm7sxaKb5K-Z",
        "colab_type": "text"
      },
      "source": [
        "1.5 Add all numbers in 'a' except for the 2nd and 21st elements (the 2nd element here means the element at list index 1)."
      ]
    },
    {
      "cell_type": "code",
      "metadata": {
        "id": "HLiYdurH5K-Z",
        "colab_type": "code",
        "colab": {}
      },
      "source": [
        "#your code here"
      ],
      "execution_count": null,
      "outputs": []
    },
    {
      "cell_type": "code",
      "metadata": {
        "id": "RQA7gsWh5K-e",
        "colab_type": "code",
        "colab": {}
      },
      "source": [
        "val = ok.grade(\"q1e\")\n",
        "score_counter = score_counter + 1 if val['passed'] == 1 else score_counter"
      ],
      "execution_count": null,
      "outputs": []
    },
    {
      "cell_type": "markdown",
      "metadata": {
        "id": "NyoEbNuY5K-k",
        "colab_type": "text"
      },
      "source": [
        "1.6 Calculate the mean of 'a'."
      ]
    },
    {
      "cell_type": "code",
      "metadata": {
        "id": "VwjTVT_J5K-k",
        "colab_type": "code",
        "colab": {}
      },
      "source": [
        "#your code here"
      ],
      "execution_count": null,
      "outputs": []
    },
    {
      "cell_type": "code",
      "metadata": {
        "id": "TAhFFiDp5K-o",
        "colab_type": "code",
        "colab": {}
      },
      "source": [
        "val = ok.grade(\"q1f\")\n",
        "score_counter = score_counter + 1 if val['passed'] == 1 else score_counter"
      ],
      "execution_count": null,
      "outputs": []
    },
    {
      "cell_type": "markdown",
      "metadata": {
        "id": "Ip2PG4015K-y",
        "colab_type": "text"
      },
      "source": [
        "1.7 Delete all elements greater than the mean value from list 'a'"
      ]
    },
    {
      "cell_type": "code",
      "metadata": {
        "id": "y8HTbuNa5K-0",
        "colab_type": "code",
        "colab": {}
      },
      "source": [
        "#your code here"
      ],
      "execution_count": null,
      "outputs": []
    },
    {
      "cell_type": "code",
      "metadata": {
        "id": "F1ANJCTm5K-5",
        "colab_type": "code",
        "colab": {}
      },
      "source": [
        "val = ok.grade(\"q1g\")\n",
        "score_counter = score_counter + 1 if val['passed'] == 1 else score_counter"
      ],
      "execution_count": null,
      "outputs": []
    },
    {
      "cell_type": "markdown",
      "metadata": {
        "id": "NIBvBGw95K-_",
        "colab_type": "text"
      },
      "source": [
        "## Strings"
      ]
    },
    {
      "cell_type": "markdown",
      "metadata": {
        "id": "pixIJNdk5K_B",
        "colab_type": "text"
      },
      "source": [
        "2.1 Create an empty list called 'b'."
      ]
    },
    {
      "cell_type": "code",
      "metadata": {
        "id": "RN_tKvmC5K_D",
        "colab_type": "code",
        "colab": {}
      },
      "source": [
        "#your code here"
      ],
      "execution_count": null,
      "outputs": []
    },
    {
      "cell_type": "code",
      "metadata": {
        "id": "BfxnZm3k5K_K",
        "colab_type": "code",
        "colab": {}
      },
      "source": [
        "val = ok.grade(\"q2a\")\n",
        "score_counter = score_counter + 1 if val['passed'] == 1 else score_counter"
      ],
      "execution_count": null,
      "outputs": []
    },
    {
      "cell_type": "markdown",
      "metadata": {
        "id": "cI2xLd_d5K_O",
        "colab_type": "text"
      },
      "source": [
        "2.2 Store the words in the sentence below as elements into the list 'b'.  \n",
        "\n",
        "'I am so excited about Data-X. It is important to be able to work with data.'"
      ]
    },
    {
      "cell_type": "code",
      "metadata": {
        "id": "-pcIV9IC5K_P",
        "colab_type": "code",
        "colab": {}
      },
      "source": [
        "#your code here"
      ],
      "execution_count": null,
      "outputs": []
    },
    {
      "cell_type": "code",
      "metadata": {
        "id": "syi-QRBR5K_S",
        "colab_type": "code",
        "colab": {}
      },
      "source": [
        "val = ok.grade(\"q2b\")\n",
        "score_counter = score_counter + 1 if val['passed'] == 1 else score_counter"
      ],
      "execution_count": null,
      "outputs": []
    },
    {
      "cell_type": "markdown",
      "metadata": {
        "id": "SLrAH-wd5K_V",
        "colab_type": "text"
      },
      "source": [
        "2.3 Return the count of the occurences of the lower-case letter 'e' in the list 'b'."
      ]
    },
    {
      "cell_type": "code",
      "metadata": {
        "id": "vSQY6bQz5K_W",
        "colab_type": "code",
        "colab": {}
      },
      "source": [
        "#your code here"
      ],
      "execution_count": null,
      "outputs": []
    },
    {
      "cell_type": "code",
      "metadata": {
        "id": "eSfBf4lz5K_Z",
        "colab_type": "code",
        "colab": {}
      },
      "source": [
        "val = ok.grade(\"q2c\")\n",
        "score_counter = score_counter + 1 if val['passed'] == 1 else score_counter"
      ],
      "execution_count": null,
      "outputs": []
    },
    {
      "cell_type": "markdown",
      "metadata": {
        "id": "cxIsoaFY5K_e",
        "colab_type": "text"
      },
      "source": [
        "2.4 Replace every lower- or upper-case letter 'i' in the list b with a '1'."
      ]
    },
    {
      "cell_type": "code",
      "metadata": {
        "id": "8qfFpxCK5K_f",
        "colab_type": "code",
        "colab": {}
      },
      "source": [
        "#your code here"
      ],
      "execution_count": null,
      "outputs": []
    },
    {
      "cell_type": "code",
      "metadata": {
        "id": "PXYVWJ_R5K_k",
        "colab_type": "code",
        "colab": {}
      },
      "source": [
        "val = ok.grade(\"q2d\")\n",
        "score_counter = score_counter + 1 if val['passed'] == 1 else score_counter"
      ],
      "execution_count": null,
      "outputs": []
    },
    {
      "cell_type": "markdown",
      "metadata": {
        "id": "7Jzmd25C5K_o",
        "colab_type": "text"
      },
      "source": [
        "2.5 Append the string \"This is the end of the first HW.\" to the list 'b'."
      ]
    },
    {
      "cell_type": "code",
      "metadata": {
        "id": "clPBG0nm5K_p",
        "colab_type": "code",
        "colab": {}
      },
      "source": [
        "#your code here"
      ],
      "execution_count": null,
      "outputs": []
    },
    {
      "cell_type": "code",
      "metadata": {
        "id": "x6dxVUBL5K_t",
        "colab_type": "code",
        "colab": {}
      },
      "source": [
        "val = ok.grade(\"q2e\")\n",
        "score_counter = score_counter + 1 if val['passed'] == 1 else score_counter"
      ],
      "execution_count": null,
      "outputs": []
    },
    {
      "cell_type": "markdown",
      "metadata": {
        "id": "LMQk4fge5K_z",
        "colab_type": "text"
      },
      "source": [
        "2.6 Print 'b' as ONE string backwards (starting with \"WH tsrif...\")."
      ]
    },
    {
      "cell_type": "code",
      "metadata": {
        "id": "Y4wYkpkd5K_0",
        "colab_type": "code",
        "colab": {}
      },
      "source": [
        "#your code here"
      ],
      "execution_count": null,
      "outputs": []
    },
    {
      "cell_type": "code",
      "metadata": {
        "id": "OYNMhECg5K_3",
        "colab_type": "code",
        "colab": {}
      },
      "source": [
        "val = ok.grade(\"q2f\")\n",
        "score_counter = score_counter + 1 if val['passed'] == 1 else score_counter"
      ],
      "execution_count": null,
      "outputs": []
    },
    {
      "cell_type": "markdown",
      "metadata": {
        "id": "v2A1I1aR5K_9",
        "colab_type": "text"
      },
      "source": [
        "## Dictionaries"
      ]
    },
    {
      "cell_type": "markdown",
      "metadata": {
        "collapsed": true,
        "id": "ESaYVnwv5K_-",
        "colab_type": "text"
      },
      "source": [
        "3.1 Put the following in a dictionary called 'codes':\n",
        "\n",
        "Keys: 1001, 1002, 1003, 1004, 1005   \n",
        "Values: 'Alpha', 'Beta', 'Gamma', 'Delta', 'Tau'\n",
        "\n",
        "then traverse the dictionary by its keys and change every value to be all lower case."
      ]
    },
    {
      "cell_type": "code",
      "metadata": {
        "id": "wxOvZswh5K_-",
        "colab_type": "code",
        "colab": {}
      },
      "source": [
        "#your code here"
      ],
      "execution_count": null,
      "outputs": []
    },
    {
      "cell_type": "code",
      "metadata": {
        "id": "iAFNF2xb5LAC",
        "colab_type": "code",
        "colab": {}
      },
      "source": [
        "val = ok.grade(\"q3a\")\n",
        "score_counter = score_counter + 1 if val['passed'] == 1 else score_counter"
      ],
      "execution_count": null,
      "outputs": []
    },
    {
      "cell_type": "markdown",
      "metadata": {
        "id": "f4u9cAXP5LAG",
        "colab_type": "text"
      },
      "source": [
        "3.2 Delete 'alpha' from the dictionary."
      ]
    },
    {
      "cell_type": "code",
      "metadata": {
        "id": "-qj3HJac5LAH",
        "colab_type": "code",
        "colab": {}
      },
      "source": [
        "#your code here"
      ],
      "execution_count": null,
      "outputs": []
    },
    {
      "cell_type": "code",
      "metadata": {
        "id": "xN1AsiCp5LAK",
        "colab_type": "code",
        "colab": {}
      },
      "source": [
        "val = ok.grade(\"q3b\")\n",
        "score_counter = score_counter + 1 if val['passed'] == 1 else score_counter"
      ],
      "execution_count": null,
      "outputs": []
    },
    {
      "cell_type": "markdown",
      "metadata": {
        "id": "gd8BjIaB5LAN",
        "colab_type": "text"
      },
      "source": [
        "## Sets"
      ]
    },
    {
      "cell_type": "markdown",
      "metadata": {
        "id": "B1LbEHg75LAO",
        "colab_type": "text"
      },
      "source": [
        "4.1 Create a set called 'c' with the all the odd numbers less than 10."
      ]
    },
    {
      "cell_type": "code",
      "metadata": {
        "id": "fc4wUPfc5LAO",
        "colab_type": "code",
        "colab": {}
      },
      "source": [
        "#your code here"
      ],
      "execution_count": null,
      "outputs": []
    },
    {
      "cell_type": "code",
      "metadata": {
        "id": "H0WuIWwc5LAT",
        "colab_type": "code",
        "colab": {}
      },
      "source": [
        "val = ok.grade(\"q4a\")\n",
        "score_counter = score_counter + 1 if val['passed'] == 1 else score_counter"
      ],
      "execution_count": null,
      "outputs": []
    },
    {
      "cell_type": "markdown",
      "metadata": {
        "id": "bHF3JZkD5LAX",
        "colab_type": "text"
      },
      "source": [
        "4.2 Create another set called 'd' with elements 2, 5, 10, 30."
      ]
    },
    {
      "cell_type": "code",
      "metadata": {
        "id": "eOfBQ8-k5LAY",
        "colab_type": "code",
        "colab": {}
      },
      "source": [
        "#your code here"
      ],
      "execution_count": null,
      "outputs": []
    },
    {
      "cell_type": "code",
      "metadata": {
        "id": "qcc9h7Rb5LAc",
        "colab_type": "code",
        "colab": {}
      },
      "source": [
        "val = ok.grade(\"q4b\")\n",
        "score_counter = score_counter + 1 if val['passed'] == 1 else score_counter"
      ],
      "execution_count": null,
      "outputs": []
    },
    {
      "cell_type": "markdown",
      "metadata": {
        "id": "CE9vlcbN5LAk",
        "colab_type": "text"
      },
      "source": [
        "4.3 Find the union between sets 'c' and 'd' and store this in a new set called 'e'."
      ]
    },
    {
      "cell_type": "code",
      "metadata": {
        "id": "j-9OfJLc5LAl",
        "colab_type": "code",
        "colab": {}
      },
      "source": [
        "#your code here"
      ],
      "execution_count": null,
      "outputs": []
    },
    {
      "cell_type": "code",
      "metadata": {
        "id": "UUnhy72f5LAt",
        "colab_type": "code",
        "colab": {}
      },
      "source": [
        "val = ok.grade(\"q4c\")\n",
        "score_counter = score_counter + 1 if val['passed'] == 1 else score_counter"
      ],
      "execution_count": null,
      "outputs": []
    },
    {
      "cell_type": "markdown",
      "metadata": {
        "id": "TigaAnSt5LAz",
        "colab_type": "text"
      },
      "source": [
        "4.4 Find the intersection between sets 'c' and 'd' and assign it to a variable `result`."
      ]
    },
    {
      "cell_type": "code",
      "metadata": {
        "id": "7OqfSBc75LA0",
        "colab_type": "code",
        "colab": {}
      },
      "source": [
        "#your code here"
      ],
      "execution_count": null,
      "outputs": []
    },
    {
      "cell_type": "code",
      "metadata": {
        "id": "iGUuQ2_U5LA6",
        "colab_type": "code",
        "colab": {}
      },
      "source": [
        "val = ok.grade(\"q4d\")\n",
        "score_counter = score_counter + 1 if val['passed'] == 1 else score_counter"
      ],
      "execution_count": null,
      "outputs": []
    },
    {
      "cell_type": "markdown",
      "metadata": {
        "id": "VZpA04jd5LA_",
        "colab_type": "text"
      },
      "source": [
        "### Make sure you save and run the entire file at this point: Kernel -> Restart and Run All"
      ]
    },
    {
      "cell_type": "markdown",
      "metadata": {
        "id": "_idWxqmR5LBA",
        "colab_type": "text"
      },
      "source": [
        "Use the bottom cell for calculating your total expected score for your own reference."
      ]
    },
    {
      "cell_type": "code",
      "metadata": {
        "id": "XFdaEPix5LBC",
        "colab_type": "code",
        "colab": {}
      },
      "source": [
        "import os\n",
        "max_score = len([1 for q in os.listdir(\"tests\") if q.startswith('q')])"
      ],
      "execution_count": null,
      "outputs": []
    },
    {
      "cell_type": "code",
      "metadata": {
        "id": "TzUKXuQB5LBK",
        "colab_type": "code",
        "colab": {}
      },
      "source": [
        "## For your reference only\n",
        "print(f'Your score: {score_counter}')\n",
        "print(f'Max expected score: {max_score}')"
      ],
      "execution_count": null,
      "outputs": []
    },
    {
      "cell_type": "markdown",
      "metadata": {
        "id": "6f4EL0dE5LBP",
        "colab_type": "text"
      },
      "source": [
        "### Submission\n",
        "\n",
        "Save this notebook as a pdf file: Ctrl (Cmd) + P for print preview -> Save as PDF and upload the pdf onto the Gradescope assignment."
      ]
    },
    {
      "cell_type": "markdown",
      "metadata": {
        "id": "mzkUnGZt5LBQ",
        "colab_type": "text"
      },
      "source": [
        "## Contributors:\n",
        "Ikhlaq Sidhu: sidhu @ berkeley edu\n",
        "\n",
        "Arash Nourian: nourian @ berkeley edu\n",
        "\n",
        "Alexander Fred-Ojala: afo @ berkeley edu\n",
        "\n",
        "Lillian Dong: lilliandong @ berkeley edu\n",
        "\n",
        "Ishaan Malhi: ishaan.malhi @ berkeley edu\n",
        "\n",
        "Sana Iqbal: sanaiqbalsana @ yahoo in"
      ]
    }
  ]
}