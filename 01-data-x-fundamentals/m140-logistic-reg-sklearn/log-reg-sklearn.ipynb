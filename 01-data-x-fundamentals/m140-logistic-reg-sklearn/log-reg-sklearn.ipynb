{
 "cells": [
  {
   "cell_type": "markdown",
   "metadata": {},
   "source": [
    "# Logistic Regression Classification with SciKit-Learn\n",
    "\n",
    "***Summary***\n",
    "- Scikit-Learn Features\n",
    "- Multiclass Logistic Regression (Iris Dataset)\n",
    "\n",
    "***Table of Contents:*** \n",
    "- [SciKit-Learn Overview](#scikit-learn)\n",
    "- [Understanding the Data](#understanding-data)\n",
    "- [Building the Logistic Regression Model](#build-model)\n",
    "- [Visualizing the Results](#visualizing-results)\n",
    "- [Scaling Data Features](#scaling)\n",
    "\n",
    "\n",
    "**Author List**: Chad Wakamiya (Summer 2020); Sana Iqbal (Fall 2017); Kevin Li, Ikhlaq Sidhu (Spring 2017) <br>\n",
    "**Original Sources**: http://scikit-learn.org,http://archive.ics.uci.edu/ml/datasets/Iris <br>\n",
    "**License**: Feel free to do whatever you want to with this code <br>"
   ]
  },
  {
   "cell_type": "markdown",
   "metadata": {},
   "source": [
    "***\n",
    "<a id='scikit-learn'></a>\n",
    "## Scikit-learn Overview\n",
    "\n",
    "SciKit-learn provides a range of supervised and unsupervised learning algorithms via a consistent interface in Python. The library is focused on modeling data. It is not focused on loading, manipulating and summarizing data. SciKit methods include:\n",
    "- [Regression](https://scikit-learn.org/stable/supervised_learning.html#supervised-learning)\n",
    "- [Classification](https://scikit-learn.org/stable/supervised_learning.html#supervised-learning)\n",
    "- [Clustering](https://scikit-learn.org/stable/modules/clustering.html#clustering)\n",
    "- [Dimensionality Reduction](https://scikit-learn.org/stable/modules/decomposition.html#decompositions)\n",
    "- [Model Selection](https://scikit-learn.org/stable/model_selection.html#model-selection)\n",
    "- [Preprocessing](https://scikit-learn.org/stable/modules/preprocessing.html#preprocessing)\n",
    "\n",
    "### Machine Learing Model Steps\n",
    "\n",
    "**1. Understand the data:** Create graphs, visualize feature distributions, look for missing values, check for categorical or numerical features.\n",
    "\n",
    "**2. Data preprocessing:** Clean and prepare data for model ingestion.\n",
    "- Impute missing values, normalize/scale data features\n",
    "- Create categorical variables\n",
    "\n",
    "**3. Building the model:** Build using appropriate algorithms. Fit models with training data using scikit-learn library. Calculate training error to understand the bias in your model.\n",
    "- Divide the dataset into training and validation subsets\n",
    "- Fit popular models (random forecasts, SVM, regression, nearest neighbors, clustering etc.)\n",
    "\n",
    "**4. Testing and iteration:** Having testing outcomes and improve through each iteration. Test model prediction accuracy using validation data. This gives you bias and variance error in the model.\n",
    "- Scoring models by calculating accuracy and other performance metrics\n"
   ]
  },
  {
   "cell_type": "markdown",
   "metadata": {},
   "source": [
    "***\n",
    "# Iris Classification Example\n",
    "\n",
    "**Problem**: 'Iris 'setosa' species has medicinal benefits and we want to make the process of identifying an iris species scalable'. Using sepal length and width measurements predict the iris species.\n",
    "\n",
    "<img src=\"assets/iris.png\" width=\"800\"/>\n",
    "<center> <a href=\"http://suruchifialoke.com/2016-10-13-machine-learning-tutorial-iris-classification/\">Image by Suruchi Fialoke </a>"
   ]
  },
  {
   "cell_type": "markdown",
   "metadata": {},
   "source": [
    "<a id='understanding-data'></a>\n",
    "## I. Understanding the data"
   ]
  },
  {
   "cell_type": "code",
   "execution_count": 1,
   "metadata": {},
   "outputs": [],
   "source": [
    "import numpy as np\n",
    "import pandas as pd \n",
    "import matplotlib.pyplot as plt"
   ]
  },
  {
   "cell_type": "code",
   "execution_count": 2,
   "metadata": {},
   "outputs": [
    {
     "data": {
      "text/html": [
       "<div>\n",
       "<style scoped>\n",
       "    .dataframe tbody tr th:only-of-type {\n",
       "        vertical-align: middle;\n",
       "    }\n",
       "\n",
       "    .dataframe tbody tr th {\n",
       "        vertical-align: top;\n",
       "    }\n",
       "\n",
       "    .dataframe thead th {\n",
       "        text-align: right;\n",
       "    }\n",
       "</style>\n",
       "<table border=\"1\" class=\"dataframe\">\n",
       "  <thead>\n",
       "    <tr style=\"text-align: right;\">\n",
       "      <th></th>\n",
       "      <th>sepal_length</th>\n",
       "      <th>sepal_width</th>\n",
       "      <th>species</th>\n",
       "    </tr>\n",
       "  </thead>\n",
       "  <tbody>\n",
       "    <tr>\n",
       "      <th>0</th>\n",
       "      <td>5.1</td>\n",
       "      <td>3.5</td>\n",
       "      <td>setosa</td>\n",
       "    </tr>\n",
       "    <tr>\n",
       "      <th>1</th>\n",
       "      <td>4.9</td>\n",
       "      <td>3.0</td>\n",
       "      <td>setosa</td>\n",
       "    </tr>\n",
       "    <tr>\n",
       "      <th>2</th>\n",
       "      <td>4.7</td>\n",
       "      <td>3.2</td>\n",
       "      <td>setosa</td>\n",
       "    </tr>\n",
       "    <tr>\n",
       "      <th>3</th>\n",
       "      <td>4.6</td>\n",
       "      <td>3.1</td>\n",
       "      <td>setosa</td>\n",
       "    </tr>\n",
       "    <tr>\n",
       "      <th>4</th>\n",
       "      <td>5.0</td>\n",
       "      <td>3.6</td>\n",
       "      <td>setosa</td>\n",
       "    </tr>\n",
       "  </tbody>\n",
       "</table>\n",
       "</div>"
      ],
      "text/plain": [
       "   sepal_length  sepal_width species\n",
       "0           5.1          3.5  setosa\n",
       "1           4.9          3.0  setosa\n",
       "2           4.7          3.2  setosa\n",
       "3           4.6          3.1  setosa\n",
       "4           5.0          3.6  setosa"
      ]
     },
     "execution_count": 2,
     "metadata": {},
     "output_type": "execute_result"
    }
   ],
   "source": [
    "data=pd.read_csv('iris_classification.csv')\n",
    "\n",
    "# lets us look at the data\n",
    "data.head(5)"
   ]
  },
  {
   "cell_type": "markdown",
   "metadata": {},
   "source": [
    "### i. How many observations for each label?"
   ]
  },
  {
   "cell_type": "code",
   "execution_count": 3,
   "metadata": {},
   "outputs": [
    {
     "data": {
      "text/plain": [
       "versicolor    50\n",
       "virginica     50\n",
       "setosa        50\n",
       "Name: species, dtype: int64"
      ]
     },
     "execution_count": 3,
     "metadata": {},
     "output_type": "execute_result"
    }
   ],
   "source": [
    "data['species'].value_counts()"
   ]
  },
  {
   "cell_type": "code",
   "execution_count": 4,
   "metadata": {},
   "outputs": [],
   "source": [
    "from sklearn.utils import shuffle\n",
    "\n",
    "# SHUFFLE data instances to randomize the distribution of different classes\n",
    "data = shuffle(data).reset_index(drop=True)"
   ]
  },
  {
   "cell_type": "markdown",
   "metadata": {},
   "source": [
    "### ii. Check for NaN values"
   ]
  },
  {
   "cell_type": "code",
   "execution_count": 5,
   "metadata": {},
   "outputs": [
    {
     "name": "stdout",
     "output_type": "stream",
     "text": [
      "Number of NaNs in the dataframe:\n",
      " sepal_length    0\n",
      "sepal_width     0\n",
      "species         0\n",
      "dtype: int64\n"
     ]
    }
   ],
   "source": [
    "# Check if data has any NAN  values, you can choose to drop NAN\n",
    "#containing rows or replace NAN  values with mean. median,or any assumed value.\n",
    "\n",
    "print('Number of NaNs in the dataframe:\\n',data.isnull().sum())"
   ]
  },
  {
   "cell_type": "markdown",
   "metadata": {},
   "source": [
    "### iii. Split into X and Y vectors"
   ]
  },
  {
   "cell_type": "code",
   "execution_count": 6,
   "metadata": {},
   "outputs": [
    {
     "data": {
      "text/html": [
       "<div>\n",
       "<style scoped>\n",
       "    .dataframe tbody tr th:only-of-type {\n",
       "        vertical-align: middle;\n",
       "    }\n",
       "\n",
       "    .dataframe tbody tr th {\n",
       "        vertical-align: top;\n",
       "    }\n",
       "\n",
       "    .dataframe thead th {\n",
       "        text-align: right;\n",
       "    }\n",
       "</style>\n",
       "<table border=\"1\" class=\"dataframe\">\n",
       "  <thead>\n",
       "    <tr style=\"text-align: right;\">\n",
       "      <th></th>\n",
       "      <th>sepal_length</th>\n",
       "      <th>sepal_width</th>\n",
       "    </tr>\n",
       "  </thead>\n",
       "  <tbody>\n",
       "    <tr>\n",
       "      <th>0</th>\n",
       "      <td>7.4</td>\n",
       "      <td>2.8</td>\n",
       "    </tr>\n",
       "    <tr>\n",
       "      <th>1</th>\n",
       "      <td>7.7</td>\n",
       "      <td>3.8</td>\n",
       "    </tr>\n",
       "    <tr>\n",
       "      <th>2</th>\n",
       "      <td>4.6</td>\n",
       "      <td>3.6</td>\n",
       "    </tr>\n",
       "    <tr>\n",
       "      <th>3</th>\n",
       "      <td>5.2</td>\n",
       "      <td>4.1</td>\n",
       "    </tr>\n",
       "    <tr>\n",
       "      <th>4</th>\n",
       "      <td>7.7</td>\n",
       "      <td>2.6</td>\n",
       "    </tr>\n",
       "  </tbody>\n",
       "</table>\n",
       "</div>"
      ],
      "text/plain": [
       "   sepal_length  sepal_width\n",
       "0           7.4          2.8\n",
       "1           7.7          3.8\n",
       "2           4.6          3.6\n",
       "3           5.2          4.1\n",
       "4           7.7          2.6"
      ]
     },
     "execution_count": 6,
     "metadata": {},
     "output_type": "execute_result"
    }
   ],
   "source": [
    "# Our functions take in features and labels as arrays  so we need to separate them \n",
    "\n",
    "# GET FEATURES X FROM THE DATA\n",
    "X = data.iloc[:,:-1]\n",
    "X.head()"
   ]
  },
  {
   "cell_type": "code",
   "execution_count": 7,
   "metadata": {},
   "outputs": [
    {
     "data": {
      "text/plain": [
       "0    virginica\n",
       "1    virginica\n",
       "2       setosa\n",
       "3       setosa\n",
       "4    virginica\n",
       "Name: species, dtype: object"
      ]
     },
     "execution_count": 7,
     "metadata": {},
     "output_type": "execute_result"
    }
   ],
   "source": [
    "# GET LABELS Y FROM THE DATA\n",
    "Y = data['species']\n",
    "Y.head()"
   ]
  },
  {
   "cell_type": "code",
   "execution_count": 8,
   "metadata": {},
   "outputs": [
    {
     "name": "stdout",
     "output_type": "stream",
     "text": [
      "Feature vector shape = (150, 2)\n",
      "Class shape = (150,)\n"
     ]
    }
   ],
   "source": [
    "# should do sanity check on data often\n",
    "print(\"Feature vector shape =\", X.shape)\n",
    "print(\"Class shape =\", Y.shape)\n"
   ]
  },
  {
   "cell_type": "markdown",
   "metadata": {},
   "source": [
    "### iv. Map class labels to integers"
   ]
  },
  {
   "cell_type": "code",
   "execution_count": 9,
   "metadata": {},
   "outputs": [
    {
     "name": "stdout",
     "output_type": "stream",
     "text": [
      "Our new Y vector is:\n"
     ]
    },
    {
     "data": {
      "text/plain": [
       "0    1\n",
       "1    1\n",
       "2    2\n",
       "3    2\n",
       "4    1\n",
       "Name: species, dtype: int64"
      ]
     },
     "execution_count": 9,
     "metadata": {},
     "output_type": "execute_result"
    }
   ],
   "source": [
    "Y = Y.map({'versicolor': 0, 'virginica': 1,'setosa' :2})\n",
    "\n",
    "print(\"Our new Y vector is:\")\n",
    "Y.head()"
   ]
  },
  {
   "cell_type": "markdown",
   "metadata": {},
   "source": [
    "### iv. Visualize feature distributions"
   ]
  },
  {
   "cell_type": "code",
   "execution_count": 10,
   "metadata": {},
   "outputs": [
    {
     "data": {
      "text/html": [
       "<div>\n",
       "<style scoped>\n",
       "    .dataframe tbody tr th:only-of-type {\n",
       "        vertical-align: middle;\n",
       "    }\n",
       "\n",
       "    .dataframe tbody tr th {\n",
       "        vertical-align: top;\n",
       "    }\n",
       "\n",
       "    .dataframe thead th {\n",
       "        text-align: right;\n",
       "    }\n",
       "</style>\n",
       "<table border=\"1\" class=\"dataframe\">\n",
       "  <thead>\n",
       "    <tr style=\"text-align: right;\">\n",
       "      <th></th>\n",
       "      <th>sepal_length</th>\n",
       "      <th>sepal_width</th>\n",
       "    </tr>\n",
       "  </thead>\n",
       "  <tbody>\n",
       "    <tr>\n",
       "      <th>count</th>\n",
       "      <td>150.000000</td>\n",
       "      <td>150.000000</td>\n",
       "    </tr>\n",
       "    <tr>\n",
       "      <th>mean</th>\n",
       "      <td>5.843333</td>\n",
       "      <td>3.054000</td>\n",
       "    </tr>\n",
       "    <tr>\n",
       "      <th>std</th>\n",
       "      <td>0.828066</td>\n",
       "      <td>0.433594</td>\n",
       "    </tr>\n",
       "    <tr>\n",
       "      <th>min</th>\n",
       "      <td>4.300000</td>\n",
       "      <td>2.000000</td>\n",
       "    </tr>\n",
       "    <tr>\n",
       "      <th>25%</th>\n",
       "      <td>5.100000</td>\n",
       "      <td>2.800000</td>\n",
       "    </tr>\n",
       "    <tr>\n",
       "      <th>50%</th>\n",
       "      <td>5.800000</td>\n",
       "      <td>3.000000</td>\n",
       "    </tr>\n",
       "    <tr>\n",
       "      <th>75%</th>\n",
       "      <td>6.400000</td>\n",
       "      <td>3.300000</td>\n",
       "    </tr>\n",
       "    <tr>\n",
       "      <th>max</th>\n",
       "      <td>7.900000</td>\n",
       "      <td>4.400000</td>\n",
       "    </tr>\n",
       "  </tbody>\n",
       "</table>\n",
       "</div>"
      ],
      "text/plain": [
       "       sepal_length  sepal_width\n",
       "count    150.000000   150.000000\n",
       "mean       5.843333     3.054000\n",
       "std        0.828066     0.433594\n",
       "min        4.300000     2.000000\n",
       "25%        5.100000     2.800000\n",
       "50%        5.800000     3.000000\n",
       "75%        6.400000     3.300000\n",
       "max        7.900000     4.400000"
      ]
     },
     "execution_count": 10,
     "metadata": {},
     "output_type": "execute_result"
    }
   ],
   "source": [
    "# More summary about our data\n",
    "data.describe()"
   ]
  },
  {
   "cell_type": "code",
   "execution_count": 11,
   "metadata": {},
   "outputs": [
    {
     "data": {
      "image/png": "[encoded data removed]",
      "text/plain": [
       "<Figure size 1080x216 with 2 Axes>"
      ]
     },
     "metadata": {
      "needs_background": "light"
     },
     "output_type": "display_data"
    }
   ],
   "source": [
    "# Get feature distribution of each continuous valued feature (sepal_length and sepal_width)\n",
    "data.hist(figsize=(15,3))\n",
    "plt.show()"
   ]
  },
  {
   "cell_type": "code",
   "execution_count": 12,
   "metadata": {},
   "outputs": [
    {
     "name": "stdout",
     "output_type": "stream",
     "text": [
      "            sepal_length  sepal_width\n",
      "species                              \n",
      "setosa                50           50\n",
      "versicolor            50           50\n",
      "virginica             50           50\n"
     ]
    },
    {
     "data": {
      "image/png": "[encoded data removed]",
      "text/plain": [
       "<Figure size 1080x216 with 2 Axes>"
      ]
     },
     "metadata": {
      "needs_background": "light"
     },
     "output_type": "display_data"
    },
    {
     "data": {
      "image/png": "[encoded data removed]",
      "text/plain": [
       "<Figure size 1080x216 with 2 Axes>"
      ]
     },
     "metadata": {
      "needs_background": "light"
     },
     "output_type": "display_data"
    },
    {
     "data": {
      "image/png": "[encoded data removed]",
      "text/plain": [
       "<Figure size 1080x216 with 2 Axes>"
      ]
     },
     "metadata": {
      "needs_background": "light"
     },
     "output_type": "display_data"
    }
   ],
   "source": [
    "# Check feature distribution of each class to get an overview of feature and class relationshhip, and validating data\n",
    "print(data.groupby('species').count())\n",
    "\n",
    "data.groupby('species').hist(figsize=(15,3))\n",
    "plt.show()"
   ]
  },
  {
   "cell_type": "markdown",
   "metadata": {},
   "source": [
    "<a id='build-model'></a>\n",
    "## II. Building the Logistic Regression Model\n",
    "\n",
    "### i. Split into Training, Validation, and Test Set\n",
    "\n",
    "Our Hypothesis : Species of Iris is dependent on sepal length and width of the flower. \n",
    "In order to check the validity of our trained model, we keep a part of our dataset hidden from the model during training, called  __Test data__.\n",
    "\n",
    "Test data labels are predicted using the trained model and compared with the actual labels of the data.This gives us the idea about how well the model can be trusted for its predictive power.\n",
    "\n",
    "* __Training set__ : The sample of data used to fit your model.\n",
    "\n",
    "* __Test set__ : The sample of data used to provide an unbiased evaluation of a final model fit on the training dataset. \n",
    "\n",
    "* __Validation set__: The sample of data used to provide an unbiased evaluation of a model fit on the training dataset while tuning model hyperparameters\n",
    "\n",
    "![image.png](assets/splitting-data.PNG)"
   ]
  },
  {
   "cell_type": "code",
   "execution_count": 13,
   "metadata": {},
   "outputs": [
    {
     "name": "stdout",
     "output_type": "stream",
     "text": [
      "Number of samples in training data: 120\n",
      "Number of samples in test data: 30\n"
     ]
    }
   ],
   "source": [
    "from sklearn.model_selection import train_test_split\n",
    "\n",
    "# Split data into training and test set using sklearn function\n",
    "x_train, x_test, y_train, y_test = train_test_split(X, Y, test_size=0.2, random_state=100)\n",
    "\n",
    "print ('Number of samples in training data:', len(x_train))\n",
    "print ('Number of samples in test data:', len(x_test))"
   ]
  },
  {
   "cell_type": "markdown",
   "metadata": {},
   "source": [
    "### ii. Training a Logistic Regression Model with Scikit-Learn\n",
    "\n",
    "You can specify the type of multiclass logistic regression model by the `multi_class` parameter in `linear_model.LogisticRegression(...)`\n",
    "- One-vs-Rest (One-vs-All): `multi_class = 'ovr'`\n",
    "- Softmax Regression (Multinomial): `multi_class = 'multinomial'`\n",
    "    \n",
    "Further Reading: http://scikitlearn.org/stable/modules/generated/sklearn.linear_model.LogisticRegression.html#sklearn.linear_model.LogisticRegression.fit"
   ]
  },
  {
   "cell_type": "code",
   "execution_count": 14,
   "metadata": {},
   "outputs": [
    {
     "data": {
      "text/plain": [
       "LogisticRegression(multi_class='multinomial', solver='newton-cg')"
      ]
     },
     "execution_count": 14,
     "metadata": {},
     "output_type": "execute_result"
    }
   ],
   "source": [
    "from sklearn import linear_model\n",
    "\n",
    "# Name our logistic regression object\n",
    "LogisticRegressionModel = linear_model.LogisticRegression(solver = 'newton-cg', multi_class='multinomial')\n",
    "\n",
    "# we create an instance of logistic Regression Classifier and fit the data.\n",
    "LogisticRegressionModel.fit(x_train, y_train)"
   ]
  },
  {
   "cell_type": "markdown",
   "metadata": {},
   "source": [
    "### iii. Training Accuracy"
   ]
  },
  {
   "cell_type": "code",
   "execution_count": 15,
   "metadata": {},
   "outputs": [
    {
     "name": "stdout",
     "output_type": "stream",
     "text": [
      "Training Accuracy: 0.8083333333333333\n"
     ]
    }
   ],
   "source": [
    "# TRAINING ACCURACY\n",
    "training_accuracy=LogisticRegressionModel.score(x_train,y_train)\n",
    "\n",
    "print ('Training Accuracy:',training_accuracy)"
   ]
  },
  {
   "cell_type": "code",
   "execution_count": 16,
   "metadata": {
    "scrolled": true
   },
   "outputs": [
    {
     "name": "stdout",
     "output_type": "stream",
     "text": [
      "Y-actualLabel   Z-predictedLabel   Error \n",
      "\n",
      "0 \t\t 0 \t\t 0.0\n",
      "0 \t\t 0 \t\t 0.0\n",
      "1 \t\t 1 \t\t 0.0\n",
      "2 \t\t 2 \t\t 0.0\n",
      "0 \t\t 0 \t\t 0.0\n",
      "0 \t\t 0 \t\t 0.0\n",
      "1 \t\t 0 \t\t 1.0\n",
      "1 \t\t 0 \t\t 1.0\n",
      "0 \t\t 1 \t\t 1.0\n",
      "0 \t\t 0 \t\t 0.0\n",
      "1 \t\t 1 \t\t 0.0\n",
      "1 \t\t 0 \t\t 1.0\n",
      "2 \t\t 2 \t\t 0.0\n",
      "1 \t\t 1 \t\t 0.0\n",
      "0 \t\t 1 \t\t 1.0\n",
      "2 \t\t 2 \t\t 0.0\n",
      "0 \t\t 0 \t\t 0.0\n",
      "0 \t\t 0 \t\t 0.0\n",
      "1 \t\t 1 \t\t 0.0\n",
      "1 \t\t 1 \t\t 0.0\n",
      "0 \t\t 0 \t\t 0.0\n",
      "2 \t\t 2 \t\t 0.0\n",
      "2 \t\t 2 \t\t 0.0\n",
      "2 \t\t 2 \t\t 0.0\n",
      "2 \t\t 2 \t\t 0.0\n",
      "0 \t\t 1 \t\t 1.0\n",
      "1 \t\t 0 \t\t 1.0\n",
      "1 \t\t 1 \t\t 0.0\n",
      "0 \t\t 0 \t\t 0.0\n",
      "2 \t\t 2 \t\t 0.0\n",
      "1 \t\t 1 \t\t 0.0\n",
      "1 \t\t 1 \t\t 0.0\n",
      "1 \t\t 0 \t\t 1.0\n",
      "0 \t\t 0 \t\t 0.0\n",
      "1 \t\t 1 \t\t 0.0\n",
      "1 \t\t 0 \t\t 1.0\n",
      "2 \t\t 2 \t\t 0.0\n",
      "2 \t\t 2 \t\t 0.0\n",
      "0 \t\t 1 \t\t 1.0\n",
      "2 \t\t 2 \t\t 0.0\n",
      "2 \t\t 2 \t\t 0.0\n",
      "1 \t\t 0 \t\t 1.0\n",
      "0 \t\t 1 \t\t 1.0\n",
      "2 \t\t 2 \t\t 0.0\n",
      "0 \t\t 0 \t\t 0.0\n",
      "2 \t\t 2 \t\t 0.0\n",
      "1 \t\t 1 \t\t 0.0\n",
      "0 \t\t 0 \t\t 0.0\n",
      "2 \t\t 2 \t\t 0.0\n",
      "1 \t\t 1 \t\t 0.0\n",
      "1 \t\t 0 \t\t 1.0\n",
      "0 \t\t 0 \t\t 0.0\n",
      "1 \t\t 1 \t\t 0.0\n",
      "0 \t\t 0 \t\t 0.0\n",
      "0 \t\t 1 \t\t 1.0\n",
      "1 \t\t 1 \t\t 0.0\n",
      "1 \t\t 1 \t\t 0.0\n",
      "0 \t\t 1 \t\t 1.0\n",
      "0 \t\t 0 \t\t 0.0\n",
      "2 \t\t 2 \t\t 0.0\n",
      "2 \t\t 2 \t\t 0.0\n",
      "0 \t\t 0 \t\t 0.0\n",
      "2 \t\t 2 \t\t 0.0\n",
      "1 \t\t 1 \t\t 0.0\n",
      "1 \t\t 1 \t\t 0.0\n",
      "1 \t\t 1 \t\t 0.0\n",
      "0 \t\t 0 \t\t 0.0\n",
      "2 \t\t 2 \t\t 0.0\n",
      "1 \t\t 1 \t\t 0.0\n",
      "2 \t\t 2 \t\t 0.0\n",
      "1 \t\t 1 \t\t 0.0\n",
      "0 \t\t 0 \t\t 0.0\n",
      "2 \t\t 2 \t\t 0.0\n",
      "1 \t\t 0 \t\t 1.0\n",
      "0 \t\t 0 \t\t 0.0\n",
      "2 \t\t 2 \t\t 0.0\n",
      "1 \t\t 0 \t\t 1.0\n",
      "2 \t\t 2 \t\t 0.0\n",
      "0 \t\t 0 \t\t 0.0\n",
      "0 \t\t 0 \t\t 0.0\n",
      "0 \t\t 1 \t\t 1.0\n",
      "2 \t\t 2 \t\t 0.0\n",
      "1 \t\t 1 \t\t 0.0\n",
      "2 \t\t 2 \t\t 0.0\n",
      "2 \t\t 2 \t\t 0.0\n",
      "2 \t\t 2 \t\t 0.0\n",
      "0 \t\t 0 \t\t 0.0\n",
      "2 \t\t 2 \t\t 0.0\n",
      "1 \t\t 1 \t\t 0.0\n",
      "0 \t\t 0 \t\t 0.0\n",
      "2 \t\t 2 \t\t 0.0\n",
      "2 \t\t 2 \t\t 0.0\n",
      "2 \t\t 2 \t\t 0.0\n",
      "1 \t\t 1 \t\t 0.0\n",
      "1 \t\t 1 \t\t 0.0\n",
      "1 \t\t 1 \t\t 0.0\n",
      "1 \t\t 0 \t\t 1.0\n",
      "1 \t\t 1 \t\t 0.0\n",
      "0 \t\t 0 \t\t 0.0\n",
      "0 \t\t 0 \t\t 0.0\n",
      "2 \t\t 2 \t\t 0.0\n",
      "1 \t\t 1 \t\t 0.0\n",
      "0 \t\t 1 \t\t 1.0\n",
      "2 \t\t 2 \t\t 0.0\n",
      "2 \t\t 2 \t\t 0.0\n",
      "2 \t\t 2 \t\t 0.0\n",
      "2 \t\t 2 \t\t 0.0\n",
      "0 \t\t 1 \t\t 1.0\n",
      "1 \t\t 1 \t\t 0.0\n",
      "2 \t\t 2 \t\t 0.0\n",
      "2 \t\t 2 \t\t 0.0\n",
      "1 \t\t 1 \t\t 0.0\n",
      "2 \t\t 2 \t\t 0.0\n",
      "0 \t\t 0 \t\t 0.0\n",
      "0 \t\t 1 \t\t 1.0\n",
      "1 \t\t 0 \t\t 1.0\n",
      "2 \t\t 2 \t\t 0.0\n",
      "2 \t\t 2 \t\t 0.0\n",
      "0 \t\t 0 \t\t 0.0\n",
      "2 \t\t 2 \t\t 0.0\n",
      "\n",
      "The error rate is  0.19166666666666668\n",
      "\n",
      "The accuracy of the model is  0.8083333333333333\n"
     ]
    }
   ],
   "source": [
    "# Let's see how accuracy is calculated\n",
    "\n",
    "# Predict a category for every row in x_train\n",
    "predicted_label = LogisticRegressionModel.predict(x_train)    \n",
    "\n",
    "def find_error(actual_label,predicted_label):\n",
    "    '''Print the error rate given a series or array of `actual_labels` and `predicted_labels`. '''\n",
    "    \n",
    "    # Create an empty array to store loss values\n",
    "    Loss_Array = np.zeros(len(actual_label)) \n",
    "    \n",
    "    # Loop through predictions  and count number of incorrect labels.\n",
    "    print (\"Y-actualLabel   Z-predictedLabel   Error \\n\")\n",
    "    \n",
    "    for i,value in enumerate(actual_label):\n",
    "        if value == predicted_label[i]: \n",
    "            Loss_Array[i] = 0\n",
    "        else:\n",
    "            Loss_Array[i] = 1\n",
    "        print (value,\"\\t\\t\" ,predicted_label[i],\"\\t\\t\",Loss_Array[i])\n",
    "    \n",
    "    # Print average error and accuracy.\n",
    "    error_rate=np.average(Loss_Array)\n",
    "    print (\"\\nThe error rate is \", error_rate)\n",
    "    print ('\\nThe accuracy of the model is ',1-error_rate )   \n",
    "    \n",
    "find_error(y_train,predicted_label)"
   ]
  },
  {
   "cell_type": "markdown",
   "metadata": {},
   "source": [
    "<a id='measure-performance'></a>\n",
    "## III. Measuring Performance with a Confusion Matrix"
   ]
  },
  {
   "cell_type": "code",
   "execution_count": 17,
   "metadata": {},
   "outputs": [
    {
     "name": "stdout",
     "output_type": "stream",
     "text": [
      "Accuracy of the model on unseen test data:  0.8666666666666667\n"
     ]
    }
   ],
   "source": [
    "# Find the TEST ACCURACY - model accuracy on data not used in to build the model\n",
    "test_accuracy = LogisticRegressionModel.score(x_test,y_test)\n",
    "\n",
    "print('Accuracy of the model on unseen test data: ', test_accuracy)"
   ]
  },
  {
   "cell_type": "markdown",
   "metadata": {},
   "source": [
    "> **Accuracy can be misleading.** Accuracy measures how many samples the model was able to predict correctly. We also should look at incorrect predictions."
   ]
  },
  {
   "cell_type": "markdown",
   "metadata": {},
   "source": [
    "### i. Accuracy, Precision, Recall\n",
    "\n",
    "To formally define this error, we classify predications as:\n",
    "- **True Positive** - predicted positive correctly\n",
    "- **True Negative** - predicted negative correctly\n",
    "- **False Positive** - predicted positive, actually negative (wrong)\n",
    "- **False Negative** - predicted negative, actually positive (wrong)\n",
    "\n",
    "**Accuracy** measures the number correctly classified positive and negative observations out of all observations in the dataset.\n",
    "\n",
    " $$ Accuracy = \\frac{True \\space Positive + True \\space Negative } {All \\space Observations} $$\n",
    "\n",
    "\n",
    "**Precision** measures the the number of correctly classified positive observations out of all observations that were *predicted* positive.\n",
    "\n",
    " $$ Precision = \\frac{True \\space Positive} {True  \\space Positives + False \\space Positives} $$\n",
    " \n",
    " **Recall** measures the number correctly classified positive observations out of all observations that are *actually* positive.\n",
    "\n",
    " $$ Recall = \\frac{True \\space Positive} {True  \\space Positives + False \\space Negatives} $$"
   ]
  },
  {
   "cell_type": "code",
   "execution_count": 18,
   "metadata": {},
   "outputs": [
    {
     "name": "stdout",
     "output_type": "stream",
     "text": [
      "Classification report for classifier LogisticRegression(multi_class='multinomial', solver='newton-cg'):\n",
      "              precision    recall  f1-score   support\n",
      "\n",
      "           0       0.90      0.75      0.82        12\n",
      "           1       0.75      0.90      0.82        10\n",
      "           2       1.00      1.00      1.00         8\n",
      "\n",
      "    accuracy                           0.87        30\n",
      "   macro avg       0.88      0.88      0.88        30\n",
      "weighted avg       0.88      0.87      0.87        30\n",
      "\n",
      "\n"
     ]
    }
   ],
   "source": [
    "from sklearn import metrics\n",
    "\n",
    "y_pred = LogisticRegressionModel.predict(x_test)\n",
    "\n",
    "#Print classification report\n",
    "print(\"Classification report for classifier %s:\\n%s\\n\"\n",
    "      % (LogisticRegressionModel, metrics.classification_report(y_test, y_pred)))"
   ]
  },
  {
   "cell_type": "markdown",
   "metadata": {},
   "source": [
    "We can also calculate the precision and recall through the following methods:"
   ]
  },
  {
   "cell_type": "code",
   "execution_count": 19,
   "metadata": {},
   "outputs": [
    {
     "name": "stdout",
     "output_type": "stream",
     "text": [
      "Average precision for the 3 classes is -  [0.9  0.75 1.  ]\n",
      "Average recall for the 3 classes is -  [0.75 0.9  1.  ]\n"
     ]
    }
   ],
   "source": [
    "from sklearn.metrics import precision_score, recall_score\n",
    "print(\"Average precision for the 3 classes is - \", precision_score(y_test, y_pred, average = None) )\n",
    "print(\"Average recall for the 3 classes is - \", recall_score(y_test, y_pred, average = None) )"
   ]
  },
  {
   "cell_type": "markdown",
   "metadata": {},
   "source": [
    "### ii. Confusion matrix \n",
    "\n",
    "A confusion matrix is a table that is often used to describe the performance of a classification model on a set of test data for which the true values are known.\n",
    "\n",
    "![image.png](assets/confusion-matrix.PNG)"
   ]
  },
  {
   "cell_type": "code",
   "execution_count": 20,
   "metadata": {},
   "outputs": [
    {
     "name": "stdout",
     "output_type": "stream",
     "text": [
      "Confusion matrix of test data is: \n",
      "           Predicted 0  Predicted 1  Predicted 2\n",
      "Actual 0            9            3            0\n",
      "Actual 1            1            9            0\n",
      "Actual 2            0            0            8\n"
     ]
    }
   ],
   "source": [
    "from sklearn.metrics import confusion_matrix\n",
    "y_true = y_test\n",
    "y_pred = LogisticRegressionModel.predict(x_test)\n",
    "ConfusionMatrix=pd.DataFrame(confusion_matrix(y_true, y_pred),columns=['Predicted 0','Predicted 1','Predicted 2'],index=['Actual 0','Actual 1','Actual 2'])\n",
    "print ('Confusion matrix of test data is: \\n',ConfusionMatrix)"
   ]
  },
  {
   "cell_type": "markdown",
   "metadata": {},
   "source": [
    "Here's another way to create a confusion matrix."
   ]
  },
  {
   "cell_type": "code",
   "execution_count": 21,
   "metadata": {},
   "outputs": [
    {
     "name": "stdout",
     "output_type": "stream",
     "text": [
      "Confusion matrix:\n",
      "[[9 3 0]\n",
      " [1 9 0]\n",
      " [0 0 8]]\n"
     ]
    },
    {
     "data": {
      "image/png": "[encoded data removed]",
      "text/plain": [
       "<Figure size 432x288 with 2 Axes>"
      ]
     },
     "metadata": {
      "needs_background": "light"
     },
     "output_type": "display_data"
    }
   ],
   "source": [
    "from sklearn import metrics\n",
    "from sklearn.model_selection import train_test_split\n",
    "\n",
    "#Print classification report\n",
    "disp = metrics.plot_confusion_matrix(LogisticRegressionModel, x_test,y_test)\n",
    "disp.figure_.suptitle(\"Confusion Matrix\");\n",
    "print(\"Confusion matrix:\\n%s\" % disp.confusion_matrix)"
   ]
  },
  {
   "cell_type": "markdown",
   "metadata": {},
   "source": [
    "<a id='visualizing-results'></a>\n",
    "## IV.  Visualizing the Results"
   ]
  },
  {
   "cell_type": "markdown",
   "metadata": {},
   "source": [
    "### i. Plot decision boundaries"
   ]
  },
  {
   "cell_type": "code",
   "execution_count": 22,
   "metadata": {},
   "outputs": [
    {
     "name": "stdout",
     "output_type": "stream",
     "text": [
      "Finished predicting species\n"
     ]
    }
   ],
   "source": [
    "# PLOT THE DECISION BOUNDARIES:\n",
    "# 1.create meshgrid of all points between \n",
    "\n",
    "'''\n",
    "For that we will create a mesh between [x_min, x_max]x[y_min, y_max].\n",
    "We will choose a 2d vector space ranging from values +- 0.5 from our \n",
    "min and max values of sepal_length and sepal_width.\n",
    "Then we will divide that whole region in a grid of  0.02 units cell size.\n",
    "'''\n",
    "\n",
    "# Find the min and max sepal length and widths boundaries for the graph\n",
    "h = 0.02  # step size in the mesh\n",
    "x_min = X['sepal_length'].min() - .5\n",
    "x_max = X['sepal_length'].max() + .5\n",
    "y_min = X['sepal_width'].min() - .5\n",
    "y_max = X['sepal_width'].max() + .5\n",
    "\n",
    "sepal_length_range = np.arange(x_min, x_max, h)\n",
    "sepal_width_range = np.arange(y_min, y_max, h)\n",
    "\n",
    "# Create datapoints for the mesh\n",
    "sepal_length_values, sepal_width_values = np.meshgrid(sepal_length_range, sepal_width_range)\n",
    "\n",
    "# Predict species for the fictious data in meshgrid\n",
    "predicted_species = LogisticRegressionModel.predict(np.c_[sepal_length_values.ravel(), sepal_width_values.ravel()])\n",
    "\n",
    "print ('Finished predicting species')"
   ]
  },
  {
   "cell_type": "code",
   "execution_count": 23,
   "metadata": {},
   "outputs": [
    {
     "data": {
      "image/png": "[encoded data removed]",
      "text/plain": [
       "<Figure size 504x504 with 1 Axes>"
      ]
     },
     "metadata": {
      "needs_background": "light"
     },
     "output_type": "display_data"
    }
   ],
   "source": [
    "# Put the result into a color plot\n",
    "def plot_decision_boundaries(ax):\n",
    "    predicted_species_reshaped = predicted_species.reshape(sepal_length_values.shape)\n",
    "    ax.set_xlabel('Sepal length')\n",
    "    ax.set_ylabel('Sepal width')\n",
    "    ax.pcolormesh(sepal_length_values,sepal_width_values,predicted_species_reshaped , cmap=plt.cm.Paired)\n",
    "    ax.set_title('Decision Boundaries and Class Regions identified by the trained model ')\n",
    "    #plt.colorbar()\n",
    "\n",
    "fig, ax = plt.subplots(nrows=1,ncols=1,figsize=(7,7))\n",
    "plot_decision_boundaries(ax)"
   ]
  },
  {
   "cell_type": "markdown",
   "metadata": {},
   "source": [
    "### ii. Plot training actual and predicted labels"
   ]
  },
  {
   "cell_type": "code",
   "execution_count": 24,
   "metadata": {},
   "outputs": [
    {
     "data": {
      "image/png": "[encoded data removed]",
      "text/plain": [
       "<Figure size 1080x504 with 2 Axes>"
      ]
     },
     "metadata": {
      "needs_background": "light"
     },
     "output_type": "display_data"
    }
   ],
   "source": [
    "fig, ax = plt.subplots(nrows=1,ncols=2,figsize=(15,7))\n",
    "\n",
    "# Plot the training set actual labels\n",
    "plot_decision_boundaries(ax[0])\n",
    "ax[0].scatter(x_train['sepal_length'], x_train['sepal_width'], c=y_train, edgecolors='k', cmap=plt.cm.Paired)\n",
    "ax[0].set_title('ACTUAL data points on colored decision regions of the model ')\n",
    "\n",
    "# Plot the training set predicted labels\n",
    "plot_decision_boundaries(ax[1])\n",
    "ax[1].scatter(x_train['sepal_length'], x_train['sepal_width'], c=predicted_label, edgecolors='k', cmap=plt.cm.Paired)\n",
    "ax[1].set_title('PREDICTED labels of points on colored decision regions of the model ');"
   ]
  },
  {
   "cell_type": "markdown",
   "metadata": {},
   "source": [
    "### iii. Plot test actual and predicted labels"
   ]
  },
  {
   "cell_type": "code",
   "execution_count": 25,
   "metadata": {},
   "outputs": [
    {
     "data": {
      "image/png": "[encoded data removed]",
      "text/plain": [
       "<Figure size 1080x504 with 2 Axes>"
      ]
     },
     "metadata": {
      "needs_background": "light"
     },
     "output_type": "display_data"
    }
   ],
   "source": [
    "fig, ax = plt.subplots(nrows=1,ncols=2,figsize=(15,7))\n",
    "\n",
    "# Plot the training set actual labels\n",
    "plot_decision_boundaries(ax[0])\n",
    "ax[0].scatter(x_test['sepal_length'], x_test['sepal_width'], c=y_test, edgecolors='k', cmap=plt.cm.Paired)\n",
    "ax[0].set_title('TEST DATA -ACTUAL LABELS')\n",
    "\n",
    "# Plot the training set predicted labels\n",
    "plot_decision_boundaries(ax[1])\n",
    "ax[1].scatter(x_test['sepal_length'], x_test['sepal_width'], c=LogisticRegressionModel.predict(x_test), edgecolors='k', cmap=plt.cm.Paired)\n",
    "ax[1].set_title('TEST DATA -PREDICTED LABELS');"
   ]
  },
  {
   "cell_type": "markdown",
   "metadata": {},
   "source": [
    "<a id='scaling'></a>\n",
    "## V. Scaling Data Features\n",
    "Model performance can sometime be improved if the features are normalized.\n",
    "\n",
    "### i. Min Max Scaler\n",
    "Scaling the variables using  **`sklearn.preprocessing.MinMaxScaler`** makes all the values between [0, 1].\n",
    "> `# Min Max Scaler\n",
    ">  X_std = (X - X.min(axis=0)) / (X.max(axis=0) - X.min(axis=0))\n",
    ">  X_scaled = X_std * (max - min) + min`\n",
    ">   <br> where min, max = feature range\n",
    "\n",
    "### ii. Standard Scaler\n",
    "Scaling the variables using  **`sklearn.preprocessing.StandardScaler`** makes the values have a mean of 0 and standard deviation of 1.<br>\n",
    "The standard score of a sample $x$ is calculated as: $$ z = \\frac{x - \\mu} {\\sigma} $$ where $\\mu$ is the mean of the column and $\\sigma$ is the standard deviation."
   ]
  },
  {
   "cell_type": "code",
   "execution_count": 26,
   "metadata": {},
   "outputs": [],
   "source": [
    "from sklearn.preprocessing import StandardScaler, MinMaxScaler\n",
    "\n",
    "scaler = StandardScaler()\n",
    "scaler.fit(X)\n",
    "X_scaled = scaler.transform(X)"
   ]
  },
  {
   "cell_type": "code",
   "execution_count": 27,
   "metadata": {},
   "outputs": [
    {
     "data": {
      "text/html": [
       "<div>\n",
       "<style scoped>\n",
       "    .dataframe tbody tr th:only-of-type {\n",
       "        vertical-align: middle;\n",
       "    }\n",
       "\n",
       "    .dataframe tbody tr th {\n",
       "        vertical-align: top;\n",
       "    }\n",
       "\n",
       "    .dataframe thead th {\n",
       "        text-align: right;\n",
       "    }\n",
       "</style>\n",
       "<table border=\"1\" class=\"dataframe\">\n",
       "  <thead>\n",
       "    <tr style=\"text-align: right;\">\n",
       "      <th></th>\n",
       "      <th>sepal_length</th>\n",
       "      <th>sepal_width</th>\n",
       "    </tr>\n",
       "  </thead>\n",
       "  <tbody>\n",
       "    <tr>\n",
       "      <th>mean</th>\n",
       "      <td>-4.141132e-16</td>\n",
       "      <td>-6.635433e-16</td>\n",
       "    </tr>\n",
       "    <tr>\n",
       "      <th>std</th>\n",
       "      <td>1.003350e+00</td>\n",
       "      <td>1.003350e+00</td>\n",
       "    </tr>\n",
       "  </tbody>\n",
       "</table>\n",
       "</div>"
      ],
      "text/plain": [
       "      sepal_length   sepal_width\n",
       "mean -4.141132e-16 -6.635433e-16\n",
       "std   1.003350e+00  1.003350e+00"
      ]
     },
     "execution_count": 27,
     "metadata": {},
     "output_type": "execute_result"
    }
   ],
   "source": [
    "# lets check if the mean is ~0 and the std dev is ~1.\n",
    "pd.DataFrame(X_scaled).rename(columns = {0:'sepal_length', 1:'sepal_width'}).describe().loc[['mean','std'],:]"
   ]
  },
  {
   "cell_type": "code",
   "execution_count": 28,
   "metadata": {},
   "outputs": [
    {
     "name": "stdout",
     "output_type": "stream",
     "text": [
      "Training Accuracy: 0.8083333333333333\n",
      "Test Accuracy:  0.8333333333333334\n"
     ]
    }
   ],
   "source": [
    "# Split into training and test datasets\n",
    "x_train_s, x_test_s, y_train, y_test = train_test_split(X_scaled, Y, test_size=0.2, random_state=100)\n",
    "\n",
    "# Create a logistic regression object\n",
    "LogisticRegressionModel_s = linear_model.LogisticRegression(solver = 'newton-cg', multi_class='multinomial')\n",
    "\n",
    "# Fit the data\n",
    "LogisticRegressionModel_s.fit(x_train_s, y_train)\n",
    "\n",
    "# Calculate training accuracy\n",
    "training_accuracy_s = LogisticRegressionModel_s.score(x_train_s,y_train)\n",
    "print ('Training Accuracy:',training_accuracy_s)\n",
    "\n",
    "# Calculate test accuracy\n",
    "test_accuracy_s = LogisticRegressionModel_s.score(x_test_s,y_test)\n",
    "print('Test Accuracy: ',test_accuracy_s)"
   ]
  },
  {
   "cell_type": "markdown",
   "metadata": {},
   "source": [
    "**Note:** Scaling does not significantly improve the model in this case. Some models/datasets do vastly change when scaling is applied (ex: neural networks, datasets with vastly different ranges in different columns)"
   ]
  }
 ],
 "metadata": {
  "kernelspec": {
   "display_name": "Python 3",
   "language": "python",
   "name": "python3"
  },
  "language_info": {
   "codemirror_mode": {
    "name": "ipython",
    "version": 3
   },
   "file_extension": ".py",
   "mimetype": "text/x-python",
   "name": "python",
   "nbconvert_exporter": "python",
   "pygments_lexer": "ipython3",
   "version": "3.7.4"
  }
 },
 "nbformat": 4,
 "nbformat_minor": 4
}
