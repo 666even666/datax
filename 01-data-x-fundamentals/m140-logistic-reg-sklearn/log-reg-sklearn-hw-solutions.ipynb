{
 "cells": [
  {
   "cell_type": "markdown",
   "metadata": {},
   "source": [
    "# Homework: Logistic Regression Classification with SciKit-Learn\n",
    "\n",
    "This homework demonstrates how SciKit-Learn can be used to build logistic regression models, improve models with feature scaling, and measure performance. You'll predict energy load usage and build a simple handwriten digit classifier.\n",
    "\n",
    "***Summary***\n",
    "1. [Understanding the Data](#understand-the-data)\n",
    "2. [Classification with Feature Scaling](#feature-scaling)\n",
    "3. [Precision, Recall, and Confusion Matrix](#confusion-matrices)"
   ]
  },
  {
   "cell_type": "markdown",
   "metadata": {},
   "source": [
    "***\n",
    "<a id='understand-the-data'></a>\n",
    "## 1. Understanding the Data\n",
    "\n",
    "The dataset was created by Angeliki Xifara ( Civil/Structural Engineer) and was processed by Athanasios Tsanas, Oxford Centre for Industrial and Applied Mathematics, University of Oxford, UK). The Data file should be next to your notebook file called : `Energy.csv`"
   ]
  },
  {
   "cell_type": "code",
   "execution_count": 1,
   "metadata": {},
   "outputs": [],
   "source": [
    "import pandas as pd\n",
    "import numpy as np"
   ]
  },
  {
   "cell_type": "code",
   "execution_count": 2,
   "metadata": {},
   "outputs": [
    {
     "data": {
      "text/html": [
       "<div>\n",
       "<style scoped>\n",
       "    .dataframe tbody tr th:only-of-type {\n",
       "        vertical-align: middle;\n",
       "    }\n",
       "\n",
       "    .dataframe tbody tr th {\n",
       "        vertical-align: top;\n",
       "    }\n",
       "\n",
       "    .dataframe thead th {\n",
       "        text-align: right;\n",
       "    }\n",
       "</style>\n",
       "<table border=\"1\" class=\"dataframe\">\n",
       "  <thead>\n",
       "    <tr style=\"text-align: right;\">\n",
       "      <th></th>\n",
       "      <th>X1</th>\n",
       "      <th>X2</th>\n",
       "      <th>X3</th>\n",
       "      <th>X4</th>\n",
       "      <th>X5</th>\n",
       "      <th>X6</th>\n",
       "      <th>X7</th>\n",
       "      <th>X8</th>\n",
       "      <th>Y1</th>\n",
       "    </tr>\n",
       "  </thead>\n",
       "  <tbody>\n",
       "    <tr>\n",
       "      <th>0</th>\n",
       "      <td>0.98</td>\n",
       "      <td>514.5</td>\n",
       "      <td>294.0</td>\n",
       "      <td>110.25</td>\n",
       "      <td>7.0</td>\n",
       "      <td>2</td>\n",
       "      <td>0.0</td>\n",
       "      <td>0</td>\n",
       "      <td>15.55</td>\n",
       "    </tr>\n",
       "    <tr>\n",
       "      <th>1</th>\n",
       "      <td>0.98</td>\n",
       "      <td>514.5</td>\n",
       "      <td>294.0</td>\n",
       "      <td>110.25</td>\n",
       "      <td>7.0</td>\n",
       "      <td>3</td>\n",
       "      <td>0.0</td>\n",
       "      <td>0</td>\n",
       "      <td>15.55</td>\n",
       "    </tr>\n",
       "    <tr>\n",
       "      <th>2</th>\n",
       "      <td>0.98</td>\n",
       "      <td>514.5</td>\n",
       "      <td>294.0</td>\n",
       "      <td>110.25</td>\n",
       "      <td>7.0</td>\n",
       "      <td>4</td>\n",
       "      <td>0.0</td>\n",
       "      <td>0</td>\n",
       "      <td>15.55</td>\n",
       "    </tr>\n",
       "    <tr>\n",
       "      <th>3</th>\n",
       "      <td>0.98</td>\n",
       "      <td>514.5</td>\n",
       "      <td>294.0</td>\n",
       "      <td>110.25</td>\n",
       "      <td>7.0</td>\n",
       "      <td>5</td>\n",
       "      <td>0.0</td>\n",
       "      <td>0</td>\n",
       "      <td>15.55</td>\n",
       "    </tr>\n",
       "    <tr>\n",
       "      <th>4</th>\n",
       "      <td>0.90</td>\n",
       "      <td>563.5</td>\n",
       "      <td>318.5</td>\n",
       "      <td>122.50</td>\n",
       "      <td>7.0</td>\n",
       "      <td>2</td>\n",
       "      <td>0.0</td>\n",
       "      <td>0</td>\n",
       "      <td>20.84</td>\n",
       "    </tr>\n",
       "  </tbody>\n",
       "</table>\n",
       "</div>"
      ],
      "text/plain": [
       "     X1     X2     X3      X4   X5  X6   X7  X8     Y1\n",
       "0  0.98  514.5  294.0  110.25  7.0   2  0.0   0  15.55\n",
       "1  0.98  514.5  294.0  110.25  7.0   3  0.0   0  15.55\n",
       "2  0.98  514.5  294.0  110.25  7.0   4  0.0   0  15.55\n",
       "3  0.98  514.5  294.0  110.25  7.0   5  0.0   0  15.55\n",
       "4  0.90  563.5  318.5  122.50  7.0   2  0.0   0  20.84"
      ]
     },
     "execution_count": 2,
     "metadata": {},
     "output_type": "execute_result"
    }
   ],
   "source": [
    "file_path='./Energy.csv'\n",
    "data = pd.read_csv(file_path)\n",
    "\n",
    "# Check top 5 rows of the data\n",
    "data.head(5)"
   ]
  },
  {
   "cell_type": "markdown",
   "metadata": {},
   "source": [
    "The dataset contains eight attributes of a building (or features, denoted by `X1` ... `X8`) and response being the heating load on the building, `Y1`. \n",
    "\n",
    "* `X1` relative Compactness \n",
    "* `X2`\tSurface Area \n",
    "* `X3`\tWall Area \n",
    "*  `X4`\tRoof Area \n",
    "*  `X5`\tOverall Height \n",
    "* `X6`\tOrientation \n",
    "*  `X7`\tGlazing Area \n",
    "*  `X8`\tGlazing Area Distribution \n",
    "*  `Y1`\tHeating Load "
   ]
  },
  {
   "cell_type": "markdown",
   "metadata": {},
   "source": [
    " **Q1 a) Describe the distribution range of the data features. Create a dataframe where the columns are data features and response variables and the rows indices are count, mean, min, and max (in *this exact* order). Store the output of the above operation result in a new variable called `distribution`.*** \n",
    " \n",
    " Your plotted image should look like this:<br>\n",
    "<center><img src='assets/q1a_expected.png' width = 500>\n",
    "    \n",
    "*Hint:* Use [`pandas.DataFrame.describe`](https://pandas.pydata.org/pandas-docs/stable/reference/api/pandas.DataFrame.describe.html)"
   ]
  },
  {
   "cell_type": "code",
   "execution_count": 3,
   "metadata": {},
   "outputs": [
    {
     "data": {
      "text/html": [
       "<div>\n",
       "<style scoped>\n",
       "    .dataframe tbody tr th:only-of-type {\n",
       "        vertical-align: middle;\n",
       "    }\n",
       "\n",
       "    .dataframe tbody tr th {\n",
       "        vertical-align: top;\n",
       "    }\n",
       "\n",
       "    .dataframe thead th {\n",
       "        text-align: right;\n",
       "    }\n",
       "</style>\n",
       "<table border=\"1\" class=\"dataframe\">\n",
       "  <thead>\n",
       "    <tr style=\"text-align: right;\">\n",
       "      <th></th>\n",
       "      <th>X1</th>\n",
       "      <th>X2</th>\n",
       "      <th>X3</th>\n",
       "      <th>X4</th>\n",
       "      <th>X5</th>\n",
       "      <th>X6</th>\n",
       "      <th>X7</th>\n",
       "      <th>X8</th>\n",
       "      <th>Y1</th>\n",
       "    </tr>\n",
       "  </thead>\n",
       "  <tbody>\n",
       "    <tr>\n",
       "      <th>count</th>\n",
       "      <td>768.000000</td>\n",
       "      <td>768.000000</td>\n",
       "      <td>768.0</td>\n",
       "      <td>768.000000</td>\n",
       "      <td>768.00</td>\n",
       "      <td>768.0</td>\n",
       "      <td>768.000000</td>\n",
       "      <td>768.0000</td>\n",
       "      <td>768.000000</td>\n",
       "    </tr>\n",
       "    <tr>\n",
       "      <th>mean</th>\n",
       "      <td>0.764167</td>\n",
       "      <td>671.708333</td>\n",
       "      <td>318.5</td>\n",
       "      <td>176.604167</td>\n",
       "      <td>5.25</td>\n",
       "      <td>3.5</td>\n",
       "      <td>0.234375</td>\n",
       "      <td>2.8125</td>\n",
       "      <td>22.307201</td>\n",
       "    </tr>\n",
       "    <tr>\n",
       "      <th>min</th>\n",
       "      <td>0.620000</td>\n",
       "      <td>514.500000</td>\n",
       "      <td>245.0</td>\n",
       "      <td>110.250000</td>\n",
       "      <td>3.50</td>\n",
       "      <td>2.0</td>\n",
       "      <td>0.000000</td>\n",
       "      <td>0.0000</td>\n",
       "      <td>6.010000</td>\n",
       "    </tr>\n",
       "    <tr>\n",
       "      <th>max</th>\n",
       "      <td>0.980000</td>\n",
       "      <td>808.500000</td>\n",
       "      <td>416.5</td>\n",
       "      <td>220.500000</td>\n",
       "      <td>7.00</td>\n",
       "      <td>5.0</td>\n",
       "      <td>0.400000</td>\n",
       "      <td>5.0000</td>\n",
       "      <td>43.100000</td>\n",
       "    </tr>\n",
       "  </tbody>\n",
       "</table>\n",
       "</div>"
      ],
      "text/plain": [
       "               X1          X2     X3          X4      X5     X6          X7  \\\n",
       "count  768.000000  768.000000  768.0  768.000000  768.00  768.0  768.000000   \n",
       "mean     0.764167  671.708333  318.5  176.604167    5.25    3.5    0.234375   \n",
       "min      0.620000  514.500000  245.0  110.250000    3.50    2.0    0.000000   \n",
       "max      0.980000  808.500000  416.5  220.500000    7.00    5.0    0.400000   \n",
       "\n",
       "             X8          Y1  \n",
       "count  768.0000  768.000000  \n",
       "mean     2.8125   22.307201  \n",
       "min      0.0000    6.010000  \n",
       "max      5.0000   43.100000  "
      ]
     },
     "execution_count": 3,
     "metadata": {},
     "output_type": "execute_result"
    }
   ],
   "source": [
    "distribution = data.describe()\n",
    "distribution.drop(['std', '25%', '50%', '75%'], inplace = True)\n",
    "distribution"
   ]
  },
  {
   "cell_type": "markdown",
   "metadata": {},
   "source": [
    "__Q1 b) Check if there are any NaN/null values. Store the anaswer as boolean True or False in the variable `any_nulls`.__\n"
   ]
  },
  {
   "cell_type": "code",
   "execution_count": 4,
   "metadata": {},
   "outputs": [
    {
     "data": {
      "text/plain": [
       "False"
      ]
     },
     "execution_count": 4,
     "metadata": {},
     "output_type": "execute_result"
    }
   ],
   "source": [
    "any_nulls = pd.isna(data).all().all()\n",
    "any_nulls"
   ]
  },
  {
   "cell_type": "markdown",
   "metadata": {},
   "source": [
    "**Q1 c) Separate the data into features and output labels. Take the columns labelled `X1` to `X8` and store them in a new variable called `X`. Store the column `Y1` into a new variable called `Y`.**"
   ]
  },
  {
   "cell_type": "code",
   "execution_count": 5,
   "metadata": {},
   "outputs": [
    {
     "name": "stdout",
     "output_type": "stream",
     "text": [
      "X:\n"
     ]
    },
    {
     "data": {
      "text/html": [
       "<div>\n",
       "<style scoped>\n",
       "    .dataframe tbody tr th:only-of-type {\n",
       "        vertical-align: middle;\n",
       "    }\n",
       "\n",
       "    .dataframe tbody tr th {\n",
       "        vertical-align: top;\n",
       "    }\n",
       "\n",
       "    .dataframe thead th {\n",
       "        text-align: right;\n",
       "    }\n",
       "</style>\n",
       "<table border=\"1\" class=\"dataframe\">\n",
       "  <thead>\n",
       "    <tr style=\"text-align: right;\">\n",
       "      <th></th>\n",
       "      <th>X1</th>\n",
       "      <th>X2</th>\n",
       "      <th>X3</th>\n",
       "      <th>X4</th>\n",
       "      <th>X5</th>\n",
       "      <th>X6</th>\n",
       "      <th>X7</th>\n",
       "      <th>X8</th>\n",
       "    </tr>\n",
       "  </thead>\n",
       "  <tbody>\n",
       "    <tr>\n",
       "      <th>0</th>\n",
       "      <td>0.98</td>\n",
       "      <td>514.5</td>\n",
       "      <td>294.0</td>\n",
       "      <td>110.25</td>\n",
       "      <td>7.0</td>\n",
       "      <td>2</td>\n",
       "      <td>0.0</td>\n",
       "      <td>0</td>\n",
       "    </tr>\n",
       "    <tr>\n",
       "      <th>1</th>\n",
       "      <td>0.98</td>\n",
       "      <td>514.5</td>\n",
       "      <td>294.0</td>\n",
       "      <td>110.25</td>\n",
       "      <td>7.0</td>\n",
       "      <td>3</td>\n",
       "      <td>0.0</td>\n",
       "      <td>0</td>\n",
       "    </tr>\n",
       "    <tr>\n",
       "      <th>2</th>\n",
       "      <td>0.98</td>\n",
       "      <td>514.5</td>\n",
       "      <td>294.0</td>\n",
       "      <td>110.25</td>\n",
       "      <td>7.0</td>\n",
       "      <td>4</td>\n",
       "      <td>0.0</td>\n",
       "      <td>0</td>\n",
       "    </tr>\n",
       "    <tr>\n",
       "      <th>3</th>\n",
       "      <td>0.98</td>\n",
       "      <td>514.5</td>\n",
       "      <td>294.0</td>\n",
       "      <td>110.25</td>\n",
       "      <td>7.0</td>\n",
       "      <td>5</td>\n",
       "      <td>0.0</td>\n",
       "      <td>0</td>\n",
       "    </tr>\n",
       "    <tr>\n",
       "      <th>4</th>\n",
       "      <td>0.90</td>\n",
       "      <td>563.5</td>\n",
       "      <td>318.5</td>\n",
       "      <td>122.50</td>\n",
       "      <td>7.0</td>\n",
       "      <td>2</td>\n",
       "      <td>0.0</td>\n",
       "      <td>0</td>\n",
       "    </tr>\n",
       "  </tbody>\n",
       "</table>\n",
       "</div>"
      ],
      "text/plain": [
       "     X1     X2     X3      X4   X5  X6   X7  X8\n",
       "0  0.98  514.5  294.0  110.25  7.0   2  0.0   0\n",
       "1  0.98  514.5  294.0  110.25  7.0   3  0.0   0\n",
       "2  0.98  514.5  294.0  110.25  7.0   4  0.0   0\n",
       "3  0.98  514.5  294.0  110.25  7.0   5  0.0   0\n",
       "4  0.90  563.5  318.5  122.50  7.0   2  0.0   0"
      ]
     },
     "metadata": {},
     "output_type": "display_data"
    },
    {
     "name": "stdout",
     "output_type": "stream",
     "text": [
      "Y:\n"
     ]
    },
    {
     "data": {
      "text/plain": [
       "0    15.55\n",
       "1    15.55\n",
       "2    15.55\n",
       "3    15.55\n",
       "4    20.84\n",
       "Name: Y1, dtype: float64"
      ]
     },
     "metadata": {},
     "output_type": "display_data"
    }
   ],
   "source": [
    "X = data.loc[:, 'X1':'X8']\n",
    "Y = data['Y1']\n",
    "print('X:')\n",
    "display(X.head())\n",
    "print('Y:')\n",
    "display(Y.head())"
   ]
  },
  {
   "cell_type": "markdown",
   "metadata": {},
   "source": [
    "**Q1 d) [OPTIONAL] Plot feature distributions. This step should give you clues about data sufficiency. (This question is not graded, it's intended for your reference only.)***\n",
    "\n",
    "Your plotted image should look like this: <br>\n",
    "<center><img src='assets/q1d_expected.PNG' width = 400>"
   ]
  },
  {
   "cell_type": "code",
   "execution_count": 6,
   "metadata": {},
   "outputs": [
    {
     "data": {
      "image/png": "[encoded data removed]",
      "text/plain": [
       "<Figure size 648x648 with 9 Axes>"
      ]
     },
     "metadata": {
      "needs_background": "light"
     },
     "output_type": "display_data"
    }
   ],
   "source": [
    "import matplotlib.pyplot as plt\n",
    "\n",
    "plt.rcParams['figure.figsize'] = (9, 9)\n",
    "f, ax = plt.subplots(nrows=3,ncols=3)\n",
    "\n",
    "data_cols = X.columns\n",
    "\n",
    "k = 0\n",
    "for i in range(3):\n",
    "    for j in range(3):\n",
    "        if k < 8:\n",
    "            ax[i,j].hist(X[data_cols[k]])\n",
    "            ax[i,j].set_title(data_cols[k])\n",
    "            k += 1\n",
    "        else:\n",
    "            ax[i,j].axis('off')\n",
    "        \n",
    "plt.subplots_adjust(hspace=0.4)        \n",
    "plt.show()  "
   ]
  },
  {
   "cell_type": "markdown",
   "metadata": {},
   "source": [
    "<a id='feature-scaling'></a>\n",
    "## 2. Classification with Feature Scaling\n",
    "- Labels are discrete values in classification tasks.\n",
    "- Here the model is trained to classify each instance into a set of predefined  discrete classes.\n",
    "- On inputting a feature vector into the model, the trained model is able to predict a  class of that instance. You can also output the probabilities of an instance belnging to a class.  "
   ]
  },
  {
   "cell_type": "markdown",
   "metadata": {},
   "source": [
    "**Q2 a):  Bucket the response variable `Y1` (`Heating Load`) from the original dataset into 3 classes based on the ranges below. Save this new column in a `pd.Series` named `Y_class`. Then use `pd.Series.value_counts()` to see how many values are in each class.**\n",
    "\n",
    "- `Low` : (0, 14]  \n",
    "-  `Medium` : (14, 28]\n",
    "-  `High` :  (28, Inf]\n",
    "\n",
    "This converts the given dataset into a classification problem where the classes to predict are the heating load types (`Low`, `Medium`, `High`). We will use this new datset with the transformed heating load column to create a  logistic regression classification model. \n",
    "\n",
    "*HINT:* Use [`pandas.cut`](https://pandas.pydata.org/pandas-docs/stable/reference/api/pandas.cut.html)"
   ]
  },
  {
   "cell_type": "code",
   "execution_count": 7,
   "metadata": {},
   "outputs": [
    {
     "data": {
      "text/plain": [
       "High      283\n",
       "Medium    267\n",
       "Low       218\n",
       "Name: Y1, dtype: int64"
      ]
     },
     "execution_count": 7,
     "metadata": {},
     "output_type": "execute_result"
    }
   ],
   "source": [
    "Y_class = pd.cut(data['Y1'], bins = [0, 14, 28, np.inf], labels = ['Low', 'Medium', 'High'])\n",
    "Y_class.value_counts()"
   ]
  },
  {
   "cell_type": "markdown",
   "metadata": {},
   "source": [
    "**Q2 b) Split the dataset into training and test.**\n",
    "- Use test-train split ratio of 0.8 : 0.2 (`test_size = 0.2`) and `random_state = 100`\n",
    "- When initialize your logistic regression model set `max_iter = 1e4`"
   ]
  },
  {
   "cell_type": "code",
   "execution_count": 8,
   "metadata": {},
   "outputs": [
    {
     "name": "stdout",
     "output_type": "stream",
     "text": [
      "Number of samples in training data: 614\n",
      "Number of samples in validation data: 154\n"
     ]
    }
   ],
   "source": [
    "from sklearn.model_selection import train_test_split\n",
    "\n",
    "random_state=100 # Use this random state in your model\n",
    "test_size = 0.2\n",
    "\n",
    "x_train, x_test, y_train, y_test = train_test_split(X, Y_class, test_size = 0.2, random_state = 100)\n",
    "print ('Number of samples in training data:', len(x_train))\n",
    "print ('Number of samples in validation data:', len(x_test))"
   ]
  },
  {
   "cell_type": "markdown",
   "metadata": {},
   "source": [
    "**Q2 c) Fit two logistic regression models to the training data. One model should use Softmax Regression (multinomial) and the other should use the One-vs-Rest procedure.**\n",
    "\n",
    "- For both models, initialize your model with `max_iter = 1e4`\n",
    "- You can specify the type of multiclass logistic regression model by the `multi_class` parameter in `linear_model.LogisticRegression(...)`\n",
    "    - One-vs-Rest (One-vs-All): `multi_class = 'ovr'`\n",
    "    - Softmax Regression (Multinomial): `multi_class = 'multinomial'`"
   ]
  },
  {
   "cell_type": "code",
   "execution_count": 9,
   "metadata": {},
   "outputs": [
    {
     "data": {
      "text/plain": [
       "LogisticRegression(max_iter=10000.0, multi_class='multinomial')"
      ]
     },
     "execution_count": 9,
     "metadata": {},
     "output_type": "execute_result"
    }
   ],
   "source": [
    "from sklearn import linear_model\n",
    "\n",
    "# Name our regression objects\n",
    "logreg_model_ovr = linear_model.LogisticRegression(max_iter=1e4, multi_class = 'ovr')\n",
    "logreg_model_mult = linear_model.LogisticRegression(max_iter=1e4, multi_class = 'multinomial')\n",
    "\n",
    "# Fit the training data to our models\n",
    "logreg_model_ovr.fit(x_train, y_train)\n",
    "logreg_model_mult.fit(x_train, y_train)"
   ]
  },
  {
   "cell_type": "markdown",
   "metadata": {},
   "source": [
    "**Q2 d) Calculate the training and test accuracies for both the One-vs-Rest and Softmax Regression Models. (You should report a total of 4 accuracy measurements)**"
   ]
  },
  {
   "cell_type": "code",
   "execution_count": 10,
   "metadata": {},
   "outputs": [
    {
     "name": "stdout",
     "output_type": "stream",
     "text": [
      "One-vs-Rest (One-vs-All):\n",
      "\t Training Accuracy: 0.8110749185667753\n",
      "\t Testing Accuracy: 0.7727272727272727\n",
      "Softmax Regression (Multinomial):\n",
      "\t Training Accuracy: 0.7964169381107492\n",
      "\t Testing Accuracy: 0.7857142857142857\n"
     ]
    }
   ],
   "source": [
    "def print_train_test_accuracy(model, x_train, x_test, y_train, y_test):\n",
    "    training_accuracy = model.score(x_train,y_train)\n",
    "    test_accuracy = model.score(x_test,y_test)\n",
    "    print ('\\t Training Accuracy:', training_accuracy)\n",
    "    print ('\\t Testing Accuracy:', test_accuracy)\n",
    "\n",
    "# Calculate training and test accuracies for OvR\n",
    "print('One-vs-Rest (One-vs-All):')\n",
    "print_train_test_accuracy(logreg_model_ovr, x_train, x_test, y_train, y_test)\n",
    "\n",
    "# Calculate training and test accuracies for multinomial regression\n",
    "print('Softmax Regression (Multinomial):')\n",
    "print_train_test_accuracy(logreg_model_mult, x_train, x_test, y_train, y_test)"
   ]
  },
  {
   "cell_type": "markdown",
   "metadata": {},
   "source": [
    "__Q2 e): Perform unity based normalization on the above dataset and train the model again. You will compare the performance of the models trained on scaled data with the training and test accuracies of your original model.__  \n",
    "\n",
    "One of the preprocessing steps in Data science is Feature Scaling i.e getting all our data on the same scale by setting same Min-Max of feature values. \n",
    "This makes training less sensitive to the scale of features . \n",
    "Scaling is important in algorithms that use distance based classification, SVM or K means or those that involve gradient descent optimization. If we  scale features in the range [0,1] it is called unity based normalization or Min-Max scaling.\n",
    "\n",
    "Refer: http://scikit-learn.org/stable/modules/preprocessing.html#preprocessing-scaler  \n",
    "More at: https://en.wikipedia.org/wiki/Feature_scaling\n",
    "\n",
    "In this question, you will be comparing the performance of the Min-Max Scaler to the Standard Normal Scaler. You should use the same training and test split from **Q2 b**. Follow the guidelines below:\n",
    "\n",
    "1. You should create two transformed `X` datasets. Scale (transform) `X` with the Min-Max Scaler. Save this dataset as `X_minmax_scaler`\n",
    "2. Scale `X` by the Standard Normal Scaler and save this dataset as `X_std_scaled`\n",
    "3. Split `X_minmax_scaled` and `X_std_scaled` using the same parameters: `random_state = 100` and `test_size = 0.2`\n",
    "4. Initialize, train and fit separate models for each scaler. Use `max_iter=1e4` and `multi_class = multinomial`\n",
    "5. Report the both the Training and Test Accuracy for each of the two scalers."
   ]
  },
  {
   "cell_type": "code",
   "execution_count": 11,
   "metadata": {},
   "outputs": [
    {
     "name": "stdout",
     "output_type": "stream",
     "text": [
      "Standard Scaler:\n",
      "\t Training Accuracy: 0.8713355048859935\n",
      "\t Testing Accuracy: 0.922077922077922\n",
      "Min-Max Scaler:\n",
      "\t Training Accuracy: 0.8599348534201955\n",
      "\t Testing Accuracy: 0.9090909090909091\n"
     ]
    }
   ],
   "source": [
    "from sklearn.preprocessing import StandardScaler, MinMaxScaler\n",
    "\n",
    "# Create scalers\n",
    "std_scaled = StandardScaler().fit(X)\n",
    "minmax_scaled = MinMaxScaler().fit(X)\n",
    "\n",
    "# Scale (transform) datasets\n",
    "X_std_scaled = std_scaled.transform(X)\n",
    "X_minmax_scaled = minmax_scaled.transform(X)\n",
    "\n",
    "# Split data\n",
    "x1_train, x1_test, y1_train, y1_test = train_test_split(X_std_scaled, Y_class, test_size = 0.2, random_state = 100)\n",
    "x2_train, x2_test, y2_train, y2_test = train_test_split(X_minmax_scaled, Y_class, test_size = 0.2, random_state = 100)\n",
    "\n",
    "# Train\n",
    "logreg_model_std = linear_model.LogisticRegression(max_iter=1e4, multi_class = 'multinomial')\n",
    "logreg_model_minmax = linear_model.LogisticRegression(max_iter=1e4, multi_class = 'multinomial')\n",
    "\n",
    "# Fit the training data to our models\n",
    "logreg_model_std.fit(x1_train, y1_train)\n",
    "logreg_model_minmax.fit(x2_train, y2_train)\n",
    "\n",
    "# Calculate training and test accuracies for OvR\n",
    "print('Standard Scaler:')\n",
    "print_train_test_accuracy(logreg_model_std, x1_train, x1_test, y1_train, y1_test)\n",
    "\n",
    "print('Min-Max Scaler:')\n",
    "print_train_test_accuracy(logreg_model_minmax, x2_train, x2_test, y2_train, y2_test)"
   ]
  },
  {
   "cell_type": "markdown",
   "metadata": {},
   "source": [
    "<a id='confusion-matrices'></a>\n",
    "## 3. Precision, Recall, and Confusion Matrix"
   ]
  },
  {
   "cell_type": "markdown",
   "metadata": {},
   "source": [
    "In this section, we will be training a logistic regression model to classify handwritten digits. SciKit learn has a collection of ready-to-use datasets which we will use here.\n",
    "Parts of this questions were drawn from: https://scikit-learn.org/stable/auto_examples/classification/plot_digits_classification.html"
   ]
  },
  {
   "cell_type": "code",
   "execution_count": 12,
   "metadata": {},
   "outputs": [
    {
     "name": "stdout",
     "output_type": "stream",
     "text": [
      "Images in this dataset: 1797\n"
     ]
    }
   ],
   "source": [
    "import matplotlib.pyplot as plt\n",
    "from sklearn.datasets import load_digits\n",
    "\n",
    "digits = load_digits()\n",
    "print('Images in this dataset: %i' % len(digits.images))"
   ]
  },
  {
   "cell_type": "markdown",
   "metadata": {},
   "source": [
    "For this question, we'll access the following attributes of `digits`:\n",
    "- `digits.images`: All the images stored as 8x8 arrays.\n",
    "- `digits.data`: All the images stored as 1x64 arrays. (The images have been \"flattened\" so we can train our model.)\n",
    "- `digits.target`: The label for each of the images. (The first label corresponds to the first image in `digits.images` and `digits.data` and the second matches the second image and so on...)\n",
    "- `target_names`: List of unique labels (i.e. 0, 1, 2 ... 9)"
   ]
  },
  {
   "cell_type": "markdown",
   "metadata": {},
   "source": [
    "Each image is stored as an 8x8 array. When building our model we will use the flattened 1x64 array representation, but for now let's look at an 8x8 array. The first image in the data set is stored as:"
   ]
  },
  {
   "cell_type": "code",
   "execution_count": 13,
   "metadata": {},
   "outputs": [
    {
     "data": {
      "text/plain": [
       "array([[ 0.,  0.,  5., 13.,  9.,  1.,  0.,  0.],\n",
       "       [ 0.,  0., 13., 15., 10., 15.,  5.,  0.],\n",
       "       [ 0.,  3., 15.,  2.,  0., 11.,  8.,  0.],\n",
       "       [ 0.,  4., 12.,  0.,  0.,  8.,  8.,  0.],\n",
       "       [ 0.,  5.,  8.,  0.,  0.,  9.,  8.,  0.],\n",
       "       [ 0.,  4., 11.,  0.,  1., 12.,  7.,  0.],\n",
       "       [ 0.,  2., 14.,  5., 10., 12.,  0.,  0.],\n",
       "       [ 0.,  0.,  6., 13., 10.,  0.,  0.,  0.]])"
      ]
     },
     "execution_count": 13,
     "metadata": {},
     "output_type": "execute_result"
    }
   ],
   "source": [
    "digits.images[0]"
   ]
  },
  {
   "cell_type": "markdown",
   "metadata": {},
   "source": [
    "The 0's correspond to white squares and the higher numbers correspond to darker squares. The first image looks like this:"
   ]
  },
  {
   "cell_type": "code",
   "execution_count": 14,
   "metadata": {},
   "outputs": [
    {
     "data": {
      "image/png": "[encoded data removed]",
      "text/plain": [
       "<Figure size 144x144 with 1 Axes>"
      ]
     },
     "metadata": {
      "needs_background": "light"
     },
     "output_type": "display_data"
    }
   ],
   "source": [
    "plt.figure(figsize = (2,2))\n",
    "plt.imshow(digits.images[0], cmap=plt.cm.gray_r, interpolation='nearest');"
   ]
  },
  {
   "cell_type": "markdown",
   "metadata": {},
   "source": [
    "Let's take a look at the first 10 handwritten digits in the dataset."
   ]
  },
  {
   "cell_type": "code",
   "execution_count": 15,
   "metadata": {},
   "outputs": [
    {
     "data": {
      "image/png": "[encoded data removed]",
      "text/plain": [
       "<Figure size 1440x1440 with 10 Axes>"
      ]
     },
     "metadata": {
      "needs_background": "light"
     },
     "output_type": "display_data"
    }
   ],
   "source": [
    "fig, axes = plt.subplots(1, 10,figsize=(20,20))\n",
    "images_and_labels = list(zip(digits.images, digits.target))\n",
    "for ax, (image, label) in zip(axes.reshape(10,), images_and_labels[:10]):\n",
    "    #ax.set_axis_off()\n",
    "    ax.imshow(image, cmap=plt.cm.gray_r, interpolation='nearest')\n",
    "    ax.set_title('Label: %i' % label)"
   ]
  },
  {
   "cell_type": "markdown",
   "metadata": {},
   "source": [
    "**Q3 a):  Create a histogram to show how many images exist for each label in the dataset. Does there appear to be an even distribution of labels?**\n",
    "\n",
    "*HINT:* Use `digits.target` "
   ]
  },
  {
   "cell_type": "code",
   "execution_count": 16,
   "metadata": {},
   "outputs": [
    {
     "data": {
      "image/png": "[encoded data removed]",
      "text/plain": [
       "<Figure size 360x360 with 1 Axes>"
      ]
     },
     "metadata": {
      "needs_background": "light"
     },
     "output_type": "display_data"
    }
   ],
   "source": [
    "plt.figure(figsize=(5,5))\n",
    "plt.hist(digits.target);"
   ]
  },
  {
   "cell_type": "markdown",
   "metadata": {},
   "source": [
    "**Q3 b)  Train a logistic regression model to classify the images. Use the following parameters.**\n",
    "1. Split the data into training and test sets. Use `random_state=100` and `test_size=0.90`. (Note: Our model we be fairly good, so we can use a small training set.)\n",
    "2. Intialize and fit a logistic regression model using `max_iter=1e4` and `multi_class = 'multinomial'`\n",
    "3. Report the training and test accuracies.\n"
   ]
  },
  {
   "cell_type": "code",
   "execution_count": 17,
   "metadata": {},
   "outputs": [
    {
     "name": "stdout",
     "output_type": "stream",
     "text": [
      "Training Accuracy: 1.0\n",
      "Test Accuracy: 0.9128553770086527\n"
     ]
    }
   ],
   "source": [
    "## Split the train and testing data\n",
    "random_state=100 # don't change these lines\n",
    "test_size=0.90 # don't change these lines\n",
    "\n",
    "X = digits.data\n",
    "Y = digits.target\n",
    "\n",
    "# Split the data\n",
    "x3_train, x3_test, y3_train, y3_test = train_test_split(X, Y, test_size = 0.90, random_state = 100)\n",
    "\n",
    "# Intialize and fit our logistic regression model\n",
    "logreg_image_classifier = linear_model.LogisticRegression(max_iter=1e4, multi_class = 'multinomial')\n",
    "logreg_image_classifier.fit(x3_train, y3_train)\n",
    "\n",
    "training_accuracy= logreg_image_classifier.score(x3_train, y3_train)\n",
    "print ('Training Accuracy:', training_accuracy)\n",
    "\n",
    "training_accuracy= logreg_image_classifier.score(x3_test, y3_test)\n",
    "print ('Test Accuracy:', training_accuracy)"
   ]
  },
  {
   "cell_type": "markdown",
   "metadata": {},
   "source": [
    "**Q3 c)  Create a confusion matrix for the logistic regression model you created in the previous question. From visually inspecting the confusion matrix, which digit does the model appear to have the hardest time classifying (i.e. digit with the least correctly labeled instances)?**"
   ]
  },
  {
   "cell_type": "code",
   "execution_count": 18,
   "metadata": {},
   "outputs": [
    {
     "name": "stdout",
     "output_type": "stream",
     "text": [
      "Confusion matrix:\n",
      "[[157   0   0   0   1   0   2   0   0   0]\n",
      " [  0 150   4   5   0   0   7   0   1   0]\n",
      " [  1   5 141  13   0   0   0   1   1   0]\n",
      " [  0   0   0 161   0   0   0   1   3   1]\n",
      " [  0  13   0   0 149   0   2   2   0   0]\n",
      " [  0   1   0   3   1 155   2   2   0   2]\n",
      " [  0   1   0   0   0   0 155   0   1   0]\n",
      " [  0   1   1   1   2   0   0 148   2   2]\n",
      " [  0  14   2   4   2   2   3   1 124   2]\n",
      " [  2   3   0   9   0   4   0   2   6 137]]\n"
     ]
    },
    {
     "data": {
      "image/png": "[encoded data removed]",
      "text/plain": [
       "<Figure size 648x648 with 2 Axes>"
      ]
     },
     "metadata": {
      "needs_background": "light"
     },
     "output_type": "display_data"
    }
   ],
   "source": [
    "from sklearn import datasets, metrics\n",
    "from sklearn.model_selection import train_test_split\n",
    "\n",
    "disp = metrics.plot_confusion_matrix(logreg_image_classifier, x3_test, y3_test)\n",
    "print(\"Confusion matrix:\\n%s\" % disp.confusion_matrix)"
   ]
  },
  {
   "cell_type": "markdown",
   "metadata": {},
   "source": [
    "*The model has a hard time classifiying 8.*"
   ]
  },
  {
   "cell_type": "markdown",
   "metadata": {},
   "source": [
    "**Q3 d) What is the proportion of images with a *predicted* label of `1` that have the correct label? Is this precision or recall?**\n",
    "\n",
    "*HINT*: Use [`sklearn.metrics.classification_report`](https://scikit-learn.org/stable/modules/generated/sklearn.metrics.classification_report.html)"
   ]
  },
  {
   "cell_type": "code",
   "execution_count": 19,
   "metadata": {},
   "outputs": [
    {
     "name": "stdout",
     "output_type": "stream",
     "text": [
      "Classification report for classifier LogisticRegression(max_iter=10000.0, multi_class='multinomial'):\n",
      "              precision    recall  f1-score   support\n",
      "\n",
      "           0       0.98      0.98      0.98       160\n",
      "           1       0.80      0.90      0.85       167\n",
      "           2       0.95      0.87      0.91       162\n",
      "           3       0.82      0.97      0.89       166\n",
      "           4       0.96      0.90      0.93       166\n",
      "           5       0.96      0.93      0.95       166\n",
      "           6       0.91      0.99      0.95       157\n",
      "           7       0.94      0.94      0.94       157\n",
      "           8       0.90      0.81      0.85       154\n",
      "           9       0.95      0.84      0.89       163\n",
      "\n",
      "    accuracy                           0.91      1618\n",
      "   macro avg       0.92      0.91      0.91      1618\n",
      "weighted avg       0.92      0.91      0.91      1618\n",
      "\n",
      "\n"
     ]
    }
   ],
   "source": [
    "# Predict the image labels on the test set\n",
    "predicted = logreg_image_classifier.predict(x3_test)\n",
    "\n",
    "print(\"Classification report for classifier %s:\\n%s\\n\" % (logreg_image_classifier, metrics.classification_report(y3_test, predicted)))"
   ]
  },
  {
   "cell_type": "markdown",
   "metadata": {},
   "source": [
    "*Precision. Class 1 has a precision = 0.80*"
   ]
  },
  {
   "cell_type": "markdown",
   "metadata": {},
   "source": [
    "**Q3 e) What is the proportion of images with an *actual* label of `8` that have the correct label? Is this precision or recall?**"
   ]
  },
  {
   "cell_type": "markdown",
   "metadata": {},
   "source": [
    "*Recall. Class 8 has a recall = 0.81*"
   ]
  }
 ],
 "metadata": {
  "kernelspec": {
   "display_name": "Python 3",
   "language": "python",
   "name": "python3"
  },
  "language_info": {
   "codemirror_mode": {
    "name": "ipython",
    "version": 3
   },
   "file_extension": ".py",
   "mimetype": "text/x-python",
   "name": "python",
   "nbconvert_exporter": "python",
   "pygments_lexer": "ipython3",
   "version": "3.7.4"
  }
 },
 "nbformat": 4,
 "nbformat_minor": 4
}
