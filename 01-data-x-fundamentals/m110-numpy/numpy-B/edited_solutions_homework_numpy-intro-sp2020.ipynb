{
 "cells": [
  {
   "cell_type": "markdown",
   "metadata": {},
   "source": [
    "![data-x](https://raw.githubusercontent.com/afo/data-x-plaksha/master/imgsource/dx_logo.png)"
   ]
  },
  {
   "cell_type": "markdown",
   "metadata": {},
   "source": [
    "___\n",
    "\n",
    "#### NAME:\n",
    "\n",
    "#### STUDENT ID:\n",
    "___"
   ]
  },
  {
   "cell_type": "markdown",
   "metadata": {},
   "source": [
    "## Numpy Introduction"
   ]
  },
  {
   "cell_type": "code",
   "execution_count": 1,
   "metadata": {},
   "outputs": [],
   "source": [
    "# Load required modules\n",
    "import numpy as np"
   ]
  },
  {
   "cell_type": "markdown",
   "metadata": {},
   "source": [
    "<br>\n",
    "\n",
    "**1a) Create two numpy arrays called** ```a``` **and** ```b``` **where** ```a``` **should be all integers between 25-34 (inclusive), and** ```b``` **should be ten evenly spaced numbers between 1-6 (inclusive). Print** ```a``` **and** ```b```"
   ]
  },
  {
   "cell_type": "code",
   "execution_count": 2,
   "metadata": {
    "colab": {},
    "colab_type": "code",
    "id": "RYaAV-KWwVcF",
    "outputId": "b148182c-a5fd-41a3-9848-6de5f3678f17"
   },
   "outputs": [
    {
     "name": "stdout",
     "output_type": "stream",
     "text": [
      "[25 26 27 28 29 30 31 32 33 34]\n",
      "[1.         1.55555556 2.11111111 2.66666667 3.22222222 3.77777778\n",
      " 4.33333333 4.88888889 5.44444444 6.        ]\n"
     ]
    }
   ],
   "source": [
    "a = np.arange(25, 35, 1)\n",
    "b = np.linspace(1, 6, 10)\n",
    "print(a)\n",
    "print(b)"
   ]
  },
  {
   "cell_type": "markdown",
   "metadata": {},
   "source": [
    "<br>\n",
    "\n",
    "**1b) [Cube](https://numpy.org/doc/stable/reference/routines.math.html) (i.e. raise to the power of 3) all the elements in both** ```a``` **and** ```b``` **(element-wise). Store the results in two new arrays called** ```cubed_a``` **and** ```cubed_b```**. Print** ```cubed_a``` **and** ```cubed_b```"
   ]
  },
  {
   "cell_type": "code",
   "execution_count": 3,
   "metadata": {},
   "outputs": [
    {
     "name": "stdout",
     "output_type": "stream",
     "text": [
      "[15625 17576 19683 21952 24389 27000 29791 32768 35937 39304]\n",
      "[  1.           3.76406036   9.40877915  18.96296296  33.45541838\n",
      "  53.91495199  81.37037037 116.85048011 161.38408779 216.        ]\n"
     ]
    }
   ],
   "source": [
    "cubed_a = a**3\n",
    "cubed_b = b**3\n",
    "print(cubed_a)\n",
    "print(cubed_b)"
   ]
  },
  {
   "cell_type": "markdown",
   "metadata": {},
   "source": [
    "<br>\n",
    "\n",
    "**1c) [Add](https://numpy.org/doc/stable/reference/routines.math.html) the two cubed arrays (e.g.** ```[1,2] + [3,4] = [4,6]```**) and store the result in an array called** ```c```**. Print** ```c```"
   ]
  },
  {
   "cell_type": "code",
   "execution_count": 4,
   "metadata": {},
   "outputs": [
    {
     "name": "stdout",
     "output_type": "stream",
     "text": [
      "[15626.         17579.76406036 19692.40877915 21970.96296296\n",
      " 24422.45541838 27053.91495199 29872.37037037 32884.85048011\n",
      " 36098.38408779 39520.        ]\n"
     ]
    }
   ],
   "source": [
    "c = np.add(cubed_a, cubed_b)\n",
    "print(c)"
   ]
  },
  {
   "cell_type": "markdown",
   "metadata": {},
   "source": [
    "<br>\n",
    "\n",
    "**1d) [Sum](https://numpy.org/doc/stable/reference/routines.math.html) the elements with even indices of** ```c``` **and store the result in a variable called** ```d```**. Print** ```d```"
   ]
  },
  {
   "cell_type": "code",
   "execution_count": 5,
   "metadata": {
    "colab": {},
    "colab_type": "code",
    "id": "vxnHmer6wVcS",
    "outputId": "07422bde-d80c-4401-9fe0-d08f415abe56"
   },
   "outputs": [
    {
     "name": "stdout",
     "output_type": "stream",
     "text": [
      "125711.61865569273\n"
     ]
    }
   ],
   "source": [
    "d = c[::2].sum()\n",
    "print(d)"
   ]
  },
  {
   "cell_type": "markdown",
   "metadata": {},
   "source": [
    "<br>\n",
    "\n",
    "**1e) Take the element-wise [square root](https://numpy.org/doc/stable/reference/routines.math.html) of the** ```c``` **and store the result in an array called** ```e```**. Print** ```e```"
   ]
  },
  {
   "cell_type": "code",
   "execution_count": 6,
   "metadata": {},
   "outputs": [
    {
     "name": "stdout",
     "output_type": "stream",
     "text": [
      "[125.00399994 132.58870261 140.32964327 148.22605359 156.27685503\n",
      " 164.48074341 172.83625306 181.34180566 189.99574755 198.79637824]\n"
     ]
    }
   ],
   "source": [
    "e = np.sqrt(c)\n",
    "print(e)"
   ]
  },
  {
   "cell_type": "markdown",
   "metadata": {
    "colab_type": "text",
    "id": "tClN_KLOwVca"
   },
   "source": [
    "<br>\n",
    "\n",
    "**1f) [Append](https://numpy.org/doc/stable/reference/routines.array-manipulation.html)** ```b``` **to** ```a```, **[reshape](https://numpy.org/doc/stable/reference/routines.array-manipulation.html) the appended array so that it is a 4x5, 2D array and store the results in a variable called** ```m```**. Print** ```m```\n"
   ]
  },
  {
   "cell_type": "code",
   "execution_count": 7,
   "metadata": {
    "colab": {},
    "colab_type": "code",
    "id": "gViYRHLYwVcb",
    "outputId": "1297dacd-36a1-4637-b648-e370ec624ea3"
   },
   "outputs": [
    {
     "name": "stdout",
     "output_type": "stream",
     "text": [
      "[[25.         26.         27.         28.         29.        ]\n",
      " [30.         31.         32.         33.         34.        ]\n",
      " [ 1.          1.55555556  2.11111111  2.66666667  3.22222222]\n",
      " [ 3.77777778  4.33333333  4.88888889  5.44444444  6.        ]]\n"
     ]
    }
   ],
   "source": [
    "append_a_and_b = np.concatenate((a, b))\n",
    "m = append_a_and_b.reshape(4,5)\n",
    "print(m)"
   ]
  },
  {
   "cell_type": "markdown",
   "metadata": {
    "colab_type": "text",
    "id": "xlN4zLY-wVce"
   },
   "source": [
    "<br>\n",
    "\n",
    "**1g) Extract the third and the fourth column of the** ```m``` **matrix. Store the resulting 4x2 matrix in a new variable called** ```m2```**. Print** ```m2```\n"
   ]
  },
  {
   "cell_type": "code",
   "execution_count": 8,
   "metadata": {
    "colab": {},
    "colab_type": "code",
    "id": "DR8rJzSnwVce",
    "outputId": "eaa1f0b4-bbdc-4134-acd9-144f26aff820",
    "scrolled": true
   },
   "outputs": [
    {
     "name": "stdout",
     "output_type": "stream",
     "text": [
      "[[27.         28.        ]\n",
      " [32.         33.        ]\n",
      " [ 2.11111111  2.66666667]\n",
      " [ 4.88888889  5.44444444]]\n"
     ]
    }
   ],
   "source": [
    "m2 = m[:, 2:4]\n",
    "print(m2)"
   ]
  },
  {
   "cell_type": "markdown",
   "metadata": {
    "colab_type": "text",
    "id": "DqVr3xKmwVci"
   },
   "source": [
    "<br>\n",
    "\n",
    "**1h) Take the [dot product](https://numpy.org/doc/stable/reference/routines.array-manipulation.html) of** ```m``` **and** ```m2```**. Store the results in a matrix called** ```m3```**. Print** ```m3```\n",
    "\n",
    ">**Note:** the Dot product of two matrices is given by\n",
    "\n",
    "$$\\large{A\\cdot B = A^{T}B}$$\n",
    "\n",
    "<br>"
   ]
  },
  {
   "cell_type": "code",
   "execution_count": 9,
   "metadata": {
    "colab": {},
    "colab_type": "code",
    "id": "x15Fdc1GwVcj",
    "outputId": "8f4249ed-a113-48ec-e234-fa301ba77c9a"
   },
   "outputs": [
    {
     "name": "stdout",
     "output_type": "stream",
     "text": [
      "[[1655.58024691 1718.4691358  1781.35802469 1844.24691358 1907.13580247]\n",
      " [1713.2345679  1778.74074074 1844.24691358 1909.75308642 1975.25925926]]\n"
     ]
    }
   ],
   "source": [
    "transpose_m = np.transpose(m2)\n",
    "m3 = np.dot(transpose_m, m)\n",
    "print(m3)"
   ]
  },
  {
   "cell_type": "markdown",
   "metadata": {
    "colab_type": "text",
    "id": "VoHxFMETwVcm"
   },
   "source": [
    "<br>\n",
    "\n",
    "**1i) [Round](https://numpy.org/doc/stable/reference/routines.math.html) the** ```m3``` **matrix to three decimal points. Store the result in place and print the new** ```m3```\n"
   ]
  },
  {
   "cell_type": "code",
   "execution_count": 10,
   "metadata": {
    "colab": {},
    "colab_type": "code",
    "id": "HvL4WKVzwVcu",
    "outputId": "e7b0a45c-23e8-4644-f3f8-85bcdf57dc4a",
    "scrolled": false
   },
   "outputs": [
    {
     "name": "stdout",
     "output_type": "stream",
     "text": [
      "[[1655.58  1718.469 1781.358 1844.247 1907.136]\n",
      " [1713.235 1778.741 1844.247 1909.753 1975.259]]\n"
     ]
    }
   ],
   "source": [
    "m3 = np.round(m3, decimals=3)\n",
    "print(m3)"
   ]
  },
  {
   "cell_type": "markdown",
   "metadata": {},
   "source": [
    "<br>\n",
    "\n",
    "## NumPy and Masks"
   ]
  },
  {
   "cell_type": "markdown",
   "metadata": {},
   "source": [
    "<br>\n",
    "\n",
    "**2a) Create an array called** ```f``` **where the values are** ```cos(x)``` **for** ```x``` **from $0$ to $\\pi$ with 50 [equally spaced values](https://numpy.org/doc/stable/reference/routines.array-creation.html) (inclusive). Print** ```f```"
   ]
  },
  {
   "cell_type": "code",
   "execution_count": 11,
   "metadata": {},
   "outputs": [
    {
     "name": "stdout",
     "output_type": "stream",
     "text": [
      "[ 1.          0.99794539  0.99179001  0.98155916  0.96729486  0.94905575\n",
      "  0.92691676  0.90096887  0.8713187   0.8380881   0.80141362  0.76144596\n",
      "  0.71834935  0.67230089  0.6234898   0.57211666  0.51839257  0.46253829\n",
      "  0.40478334  0.34536505  0.28452759  0.22252093  0.1595999   0.09602303\n",
      "  0.03205158 -0.03205158 -0.09602303 -0.1595999  -0.22252093 -0.28452759\n",
      " -0.34536505 -0.40478334 -0.46253829 -0.51839257 -0.57211666 -0.6234898\n",
      " -0.67230089 -0.71834935 -0.76144596 -0.80141362 -0.8380881  -0.8713187\n",
      " -0.90096887 -0.92691676 -0.94905575 -0.96729486 -0.98155916 -0.99179001\n",
      " -0.99794539 -1.        ]\n"
     ]
    }
   ],
   "source": [
    "f = np.cos(np.linspace(0, np.pi, 50))\n",
    "print(f)"
   ]
  },
  {
   "cell_type": "markdown",
   "metadata": {},
   "source": [
    "<br>\n",
    "\n",
    "**2b) Use a [mask](https://numpy.org/doc/stable/reference/maskedarray.html) to get an array that is** ```True``` **when** ```f >= 1/2``` **and** ```False``` **when** ```f < 1/2```**. Store the result in an array called** ```g```**. Print** ```g```"
   ]
  },
  {
   "cell_type": "code",
   "execution_count": 12,
   "metadata": {},
   "outputs": [
    {
     "name": "stdout",
     "output_type": "stream",
     "text": [
      "[ True  True  True  True  True  True  True  True  True  True  True  True\n",
      "  True  True  True  True  True False False False False False False False\n",
      " False False False False False False False False False False False False\n",
      " False False False False False False False False False False False False\n",
      " False False]\n"
     ]
    }
   ],
   "source": [
    "g = (f >= 0.5)\n",
    "print(g)"
   ]
  },
  {
   "cell_type": "markdown",
   "metadata": {},
   "source": [
    "<br>\n",
    "\n",
    "**2c) Create an array called** ```h``` **that has only those values where** ```f>= 1/2```**. Print** ```h```"
   ]
  },
  {
   "cell_type": "code",
   "execution_count": 13,
   "metadata": {},
   "outputs": [
    {
     "name": "stdout",
     "output_type": "stream",
     "text": [
      "[1.         0.99794539 0.99179001 0.98155916 0.96729486 0.94905575\n",
      " 0.92691676 0.90096887 0.8713187  0.8380881  0.80141362 0.76144596\n",
      " 0.71834935 0.67230089 0.6234898  0.57211666 0.51839257]\n"
     ]
    }
   ],
   "source": [
    "h = f[g]\n",
    "print(h)"
   ]
  },
  {
   "cell_type": "markdown",
   "metadata": {},
   "source": [
    "<br>\n",
    "\n",
    "## Exploratory Data Analysis (EDA) - Data Visualization"
   ]
  },
  {
   "cell_type": "markdown",
   "metadata": {},
   "source": [
    "<br>\n",
    "\n",
    "**3.1) Using the** ```df_google``` **data, plot the daily** ```High``` **value as a time series. Give your plot a title.** \n",
    "\n",
    ">**Tip:**<br> \n",
    ">* To view your current working directory enter ```%pwd``` in cell and run it.\n",
    "\n",
    ">**To Do:**<br>\n",
    ">1. Extract the data from the *'column'* ```high```<br>\n",
    ">2. Use the datetime array, ```days``` with you extracted data to plot a lineplot (time series) using pyplot. Give your plot a tile.\n",
    "\n",
    "<br>\n",
    "\n",
    "**Note:** If you are having a hard time extracting the correct data, take a look at the *References and Additional Resources* section of the main notebook. In particular, the section titled *More on Multi-Dimensional Arrays* should have some valuable information. "
   ]
  },
  {
   "cell_type": "code",
   "execution_count": 29,
   "metadata": {},
   "outputs": [],
   "source": [
    "# Plotting Set Up \n",
    "import pandas as pd\n",
    "import matplotlib.pyplot as plt \n",
    "\n",
    "# jupyter notebook magic to display plots in output\n",
    "%matplotlib inline\n",
    "# make the plots bigger\n",
    "plt.rcParams['figure.figsize'] = (10,8) \n",
    "\n",
    "\n",
    "path_to_file = 'df_google.csv'\n",
    "\n",
    "data = np.genfromtxt(path_to_file, delimiter=',')"
   ]
  },
  {
   "cell_type": "code",
   "execution_count": 15,
   "metadata": {},
   "outputs": [
    {
     "data": {
      "text/plain": [
       "array(['2018-01-02', '2018-01-03', '2018-01-04', '2018-01-05',\n",
       "       '2018-01-06'], dtype='datetime64[D]')"
      ]
     },
     "execution_count": 15,
     "metadata": {},
     "output_type": "execute_result"
    }
   ],
   "source": [
    "# time stamps\n",
    "index = pd.date_range('1/2/2018', periods=525)\n",
    "\n",
    "# convert to np array include yyyy-mm-dd but not time\n",
    "days = np.array(index, dtype = 'datetime64[D]')\n",
    "\n",
    "# sanity check\n",
    "days[:5]"
   ]
  },
  {
   "cell_type": "code",
   "execution_count": 16,
   "metadata": {},
   "outputs": [],
   "source": [
    "# extract data\n",
    "high = data[1:, 3]    # flattend array of fourth column ('high') data, excluding array 'name'"
   ]
  },
  {
   "cell_type": "code",
   "execution_count": 17,
   "metadata": {},
   "outputs": [
    {
     "data": {
      "image/png": "[encoded data removed]",
      "text/plain": [
       "<Figure size 720x576 with 1 Axes>"
      ]
     },
     "metadata": {
      "needs_background": "light"
     },
     "output_type": "display_data"
    }
   ],
   "source": [
    "plt.plot(days, high, color = 'gray', linewidth = 2)\n",
    "plt.title('Market Daily High: 01/02/2018 - 02/03/2020')\n",
    "plt.show()"
   ]
  },
  {
   "cell_type": "markdown",
   "metadata": {},
   "source": [
    "<br>\n",
    "\n",
    "## NumPy and 2 Variable Prediction"
   ]
  },
  {
   "cell_type": "markdown",
   "metadata": {
    "colab_type": "text",
    "id": "p0vqbMtkwVc_"
   },
   "source": [
    "<br>\n",
    "\n",
    "**Below we have created 2 NumPy arrays each of size 100 that represent the following:**<br>\n",
    "> ```x``` (number of miles) ranges from 1 to 10 with a uniform noise of $(0, 1/2)$<br>  \n",
    "> ```y``` (money spent in dollars) will be from 1 to 20 with a uniform noise $(0, 1)$"
   ]
  },
  {
   "cell_type": "code",
   "execution_count": 18,
   "metadata": {
    "colab": {},
    "colab_type": "code",
    "id": "H1Ua7vhSwVc_",
    "outputId": "fa646249-2974-4a70-8a2d-1f9461dd0907"
   },
   "outputs": [
    {
     "name": "stdout",
     "output_type": "stream",
     "text": [
      "x =  [1.34683976 1.12176759 1.51512398 1.55233174 1.40619168 1.65075498\n",
      " 1.79399331 1.80243817 1.89844195 2.00100023]\n",
      "\n",
      "y =  [1.6635012  2.0214592  2.10816052 2.26016496 1.96287558 2.9554635\n",
      " 3.02881887 3.33565296 2.75465779 3.4250107 ]\n"
     ]
    }
   ],
   "source": [
    "# seed the random number generator with a fixed value\n",
    "import numpy as np\n",
    "np.random.seed(500)\n",
    "\n",
    "x=np.linspace(1, 10, 100) + np.random.uniform(low = 0, high = 0.5, size = 100) \n",
    "y=np.linspace(1, 20, 100) + np.random.uniform(low = 0, high = 1.0, size = 100)\n",
    "\n",
    "# sanity check\n",
    "print ('x = ', x[:10])\n",
    "print ('\\ny = ', y[:10])"
   ]
  },
  {
   "cell_type": "markdown",
   "metadata": {
    "colab_type": "text",
    "id": "QCUjCKKcwVdC"
   },
   "source": [
    "<br>\n",
    "\n",
    "**3a) Find the [expected](https://numpy.org/doc/stable/reference/routines.statistics.html) value of** ```x``` **and the expected value of** ```y```**. Store the results in two variables called** ```ex``` **and** ```ey```"
   ]
  },
  {
   "cell_type": "code",
   "execution_count": 19,
   "metadata": {
    "colab": {},
    "colab_type": "code",
    "id": "sf_51cOawVdC",
    "outputId": "7fb973bf-3947-4643-80b5-0ca71f42780e"
   },
   "outputs": [
    {
     "name": "stdout",
     "output_type": "stream",
     "text": [
      "5.782532541587923\n"
     ]
    }
   ],
   "source": [
    "ex = np.mean(x)\n",
    "print(ex)"
   ]
  },
  {
   "cell_type": "code",
   "execution_count": 20,
   "metadata": {
    "colab": {},
    "colab_type": "code",
    "id": "meFv08f5wVdF",
    "outputId": "3876350e-7dde-49b4-f8e6-ba8d62f6fe84"
   },
   "outputs": [
    {
     "name": "stdout",
     "output_type": "stream",
     "text": [
      "11.012981683344968\n"
     ]
    }
   ],
   "source": [
    "ey = np.mean(y)\n",
    "print(ey)"
   ]
  },
  {
   "cell_type": "markdown",
   "metadata": {
    "colab_type": "text",
    "id": "iIGocpd-wVdI"
   },
   "source": [
    "<br>\n",
    "\n",
    "**3b) Find [variance](https://numpy.org/doc/stable/reference/routines.statistics.html) of** ```x``` **and** ```y```**. Store the results in two variables called** ```varx``` **and** ```vary```"
   ]
  },
  {
   "cell_type": "code",
   "execution_count": 21,
   "metadata": {
    "colab": {},
    "colab_type": "code",
    "id": "U9WDZrIRwVdI",
    "outputId": "fa0a8d04-29f0-44ec-d19a-34a1e1f397b1"
   },
   "outputs": [
    {
     "name": "stdout",
     "output_type": "stream",
     "text": [
      "7.03332752947585\n"
     ]
    }
   ],
   "source": [
    "varx = np.var(x)\n",
    "print(varx)\n"
   ]
  },
  {
   "cell_type": "code",
   "execution_count": 22,
   "metadata": {
    "colab": {},
    "colab_type": "code",
    "id": "usHOw1qQwVdL",
    "outputId": "d5f45fec-eb4d-4c1a-89f8-53d34e85f7b9"
   },
   "outputs": [
    {
     "name": "stdout",
     "output_type": "stream",
     "text": [
      "30.113903575509635\n"
     ]
    }
   ],
   "source": [
    "vary = np.var(y)\n",
    "print(vary)\n"
   ]
  },
  {
   "cell_type": "markdown",
   "metadata": {
    "colab_type": "text",
    "id": "PaRd-E7bwVdQ"
   },
   "source": [
    "<br>\n",
    "\n",
    "**3c) Find [co-variance](https://numpy.org/doc/stable/reference/routines.statistics.html) of** ```x``` **and** ```y```**. Store the result in a variable called** ```cov```"
   ]
  },
  {
   "cell_type": "code",
   "execution_count": 23,
   "metadata": {
    "colab": {},
    "colab_type": "code",
    "id": "RrEBqs--wVdQ",
    "outputId": "633d4375-43fd-4e9f-da5b-8f5bd44ce1e9"
   },
   "outputs": [
    {
     "name": "stdout",
     "output_type": "stream",
     "text": [
      "14.657743832803437\n"
     ]
    }
   ],
   "source": [
    "cov = np.cov(x,y)[0][1]\n",
    "print(cov)\n"
   ]
  },
  {
   "cell_type": "markdown",
   "metadata": {
    "colab_type": "text",
    "id": "864yMGXBwVdS"
   },
   "source": [
    "<br>\n",
    "\n",
    "**3d) Assume that number of dollars spent in car fuel is only dependant on the miles driven -- a linear relationship. Write code that uses a linear predictor to calculate a predicted value of** ```y``` **for each** ```x``` **and store your predicitions in an array called** ```y_pred```**. Print first 5 elements in** ```y_pred```<br>\n",
    "\n",
    "$$\\large{y_{_{predicted}} = f(x) = y_0 + kx}$$\n",
    "\n",
    "<br>"
   ]
  },
  {
   "cell_type": "code",
   "execution_count": 24,
   "metadata": {},
   "outputs": [
    {
     "name": "stdout",
     "output_type": "stream",
     "text": [
      "[1.34683976 1.12176759 1.51512398]\n",
      "[1.6635012  2.0214592  2.10816052]\n",
      "5.782532541587923\n",
      "7.03332752947585\n",
      "14.657743832803437\n"
     ]
    }
   ],
   "source": [
    "# sanity check: from above executions\n",
    "print(x[:3])\n",
    "print(y[:3])\n",
    "print(ex)\n",
    "print(varx)\n",
    "print(cov)"
   ]
  },
  {
   "cell_type": "code",
   "execution_count": 25,
   "metadata": {
    "colab": {},
    "colab_type": "code",
    "id": "T_N-6hOGwVdT"
   },
   "outputs": [],
   "source": [
    "## Model ##\n",
    "y_0 = ey - cov/np.var(x)*ex   ## Intercept\n",
    "k = cov/np.var(x)             ## Slope\n",
    "y_pred = k*x + y_0            ## limear model\n"
   ]
  },
  {
   "cell_type": "code",
   "execution_count": 26,
   "metadata": {
    "colab": {},
    "colab_type": "code",
    "id": "n4NnMhd3wVdW",
    "outputId": "f0a62d21-6b1e-4219-9301-1da9f229a2a8"
   },
   "outputs": [
    {
     "name": "stdout",
     "output_type": "stream",
     "text": [
      "[1.76881551 1.29975583 2.11952674 2.19706924 1.89250733]\n"
     ]
    }
   ],
   "source": [
    "print(y_pred[:5])"
   ]
  },
  {
   "cell_type": "markdown",
   "metadata": {
    "colab_type": "text",
    "id": "-i5EMht_wVdZ"
   },
   "source": [
    "<br>\n",
    "\n",
    "**3e) Put the prediction error into an array called** ```y_error```**. Print first 5 elements in** ```y_error```"
   ]
  },
  {
   "cell_type": "code",
   "execution_count": 27,
   "metadata": {
    "colab": {},
    "colab_type": "code",
    "id": "s1cfUeJtwVda",
    "outputId": "7aa130ad-22e7-47fe-a8fd-30e18446b3e4"
   },
   "outputs": [
    {
     "name": "stdout",
     "output_type": "stream",
     "text": [
      "[ 0.10531431 -0.72170337  0.01136621 -0.06309572 -0.07036825]\n"
     ]
    }
   ],
   "source": [
    "y_error = y_pred - y\n",
    "print(y_error[:5])"
   ]
  },
  {
   "cell_type": "markdown",
   "metadata": {
    "colab_type": "text",
    "id": "yFVd2hgGwVde"
   },
   "source": [
    "<br>\n",
    "\n",
    "**3f) Write code that calculates the root mean square error (RMSE). Store the result in a variable called** ```rmse```**. Print** ```rmse```\n",
    "\n",
    "<br>\n",
    "\n",
    "$$\\large{RMSE = \\sqrt{\\frac{\\sum_{i=1}^{n} \\left(y_{_{predicted}} - y_{_{actual}}\\right)^{^2}}{n}}} $$\n",
    "\n",
    "<br>"
   ]
  },
  {
   "cell_type": "code",
   "execution_count": 28,
   "metadata": {
    "colab": {},
    "colab_type": "code",
    "id": "3E_ck9n8wVde",
    "outputId": "5cdabc96-81e8-4b75-db44-682c841df846",
    "scrolled": true
   },
   "outputs": [
    {
     "name": "stdout",
     "output_type": "stream",
     "text": [
      "0.4213186619970297\n"
     ]
    }
   ],
   "source": [
    "rmse = np.sqrt((y_error ** 2).mean())\n",
    "print(rmse)"
   ]
  },
  {
   "cell_type": "markdown",
   "metadata": {},
   "source": [
    "___\n",
    "\n",
    "### Deliverables\n",
    "\n",
    "Please submit your the following via the instructed method (lecture or Syllabus): \n",
    "\n",
    ">(1) A copy of your work, either a downloaded notebook or a pdf, by the assignment deadline\n",
    "\n",
    "<br>\n",
    "\n",
    "**Note:** Don't gorget to restart your kernel prior to extracting your data.\n",
    "\n",
    ">```Kernel --> Restart Kernel and Run all Cells```<br>\n",
    ">```File --> Export Notebooks As --> PDF``` (or as instructed)\n",
    "\n",
    "___"
   ]
  }
 ],
 "metadata": {
  "anaconda-cloud": {},
  "colab": {
   "name": "HW-03-Numpy-SOLUTIONS[draft].ipynb",
   "provenance": []
  },
  "kernelspec": {
   "display_name": "Python 3",
   "language": "python",
   "name": "python3"
  },
  "language_info": {
   "codemirror_mode": {
    "name": "ipython",
    "version": 3
   },
   "file_extension": ".py",
   "mimetype": "text/x-python",
   "name": "python",
   "nbconvert_exporter": "python",
   "pygments_lexer": "ipython3",
   "version": "3.6.10"
  }
 },
 "nbformat": 4,
 "nbformat_minor": 2
}
