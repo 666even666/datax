{
  "nbformat": 4,
  "nbformat_minor": 0,
  "metadata": {
    "celltoolbar": "Slideshow",
    "kernelspec": {
      "display_name": "Python 3",
      "language": "python",
      "name": "python3"
    },
    "language_info": {
      "codemirror_mode": {
        "name": "ipython",
        "version": 3
      },
      "file_extension": ".py",
      "mimetype": "text/x-python",
      "name": "python",
      "nbconvert_exporter": "python",
      "pygments_lexer": "ipython3",
      "version": "3.7.4"
    },
    "colab": {
      "name": "Notebook_WebScraping.ipynb",
      "provenance": [],
      "collapsed_sections": [
        "r7AiyC9hUg0a",
        "G5Lez9n3Ug0b",
        "N3wlRA0gUg1E",
        "MxL9Wp-mUg1F",
        "YZLNHcjkUg1J",
        "QiBHjDHkUg2Y",
        "tyxQyFIjUg26",
        "2eXM1VA6Ug3F",
        "8fNRR7_QUg3H",
        "rlyUE2U1Ug3P",
        "zSRubDrEUg3R",
        "TnMeFM0XUg3S",
        "Pgxog_7UUg3S",
        "U9rho3HLUg3S",
        "Z798_m49Ug3T",
        "QgdY-QZ4Ug3T",
        "VCfQmOgBUg3T",
        "-YSoP99ZUg3U",
        "0TaAIzKbUg3U",
        "YdRa7kiiUg3i",
        "GLC3m-yEUg3i",
        "mVOx8Us5Ug3v"
      ]
    }
  },
  "cells": [
    {
      "cell_type": "markdown",
      "metadata": {
        "id": "6YbxNTLxUgzl",
        "colab_type": "text"
      },
      "source": [
        "# Data-X Spring 2020\n",
        "\n",
        "## Notebook: Web Scraping & Web Crawling\n",
        "\n",
        "- How to obtain data the fun way and caveats to take care of when doing so"
      ]
    },
    {
      "cell_type": "markdown",
      "metadata": {
        "id": "KUpl1ChDUgzm",
        "colab_type": "text"
      },
      "source": [
        "**Author List**: \n",
        "- Alexander Fred-Ojala\n",
        "- Ishaan Malhi\n",
        "\n",
        "\n",
        "**Original Sources**: \n",
        "- https://www.crummy.com/software/BeautifulSoup/bs4/doc/\n",
        "- https://www.dataquest.io/blog/web-scraping-tutorial-python/\n",
        "\n",
        "**License**: Feel free to do whatever you want to with this code\n",
        "\n",
        "**Compatibility:** Python >= 3.5"
      ]
    },
    {
      "cell_type": "markdown",
      "metadata": {
        "id": "vU34GNZwUgzn",
        "colab_type": "text"
      },
      "source": [
        "## What we are learning today\n",
        "\n",
        "- Data is seldom all clean and readily available\n",
        "\n",
        "- Often times you might need to gather data from websites because of any or all of the following:\n",
        "\n",
        " - You need to update your data regularly (either as a live stream or in batch, i.e every hour, day etc)\n",
        " - Data isn't readily available, you need to collect data for your tasks\n",
        " - Because it's fun and why not to do it when you can"
      ]
    },
    {
      "cell_type": "markdown",
      "metadata": {
        "id": "bHsnPQoLUgzo",
        "colab_type": "text"
      },
      "source": [
        "### Data Gathering\n",
        "\n",
        " - Web scraping is an important arsenal to have in your toolkit if you want to gather different types of data.\n",
        " - Usually it's a part of the \"Data Gathering\" stage."
      ]
    },
    {
      "cell_type": "markdown",
      "metadata": {
        "id": "ZJvoQmiUUgzp",
        "colab_type": "text"
      },
      "source": [
        "- Once you gather your data, you clean, prepare/preprocess and use it in your tasks (prediction, analysis etc)\n",
        "\n",
        "<center><img src=\"https://media.giphy.com/media/mG1MxDDEMSAVkF7da3/giphy.gif\" /></center>"
      ]
    },
    {
      "cell_type": "markdown",
      "metadata": {
        "id": "t-xzmuOyUgzq",
        "colab_type": "text"
      },
      "source": [
        "### Popular Web Scraping tools & libraries\n",
        "\n",
        "This notebook mainly goes over how to get data with the Python packages `requests` and  `BeautifulSoup`. However, there are many other Python packages that can be used for scraping.\n",
        "\n",
        "Two very popular and widely used are:\n",
        "\n",
        "* **[Selenium:](http://selenium-python.readthedocs.io/)** Python scraper that can act as a human when visiting websites, almost like a macro. Makes sense of modern Javascript based websites built with React, Angular etc.\n",
        "\n",
        "\n",
        "* **[Scrapy:](https://scrapy.org/)** For automated scripting and has a lot of built in tools for web crawling and scraping that can facilitate the process (e.g. time based, IP rotation etc). Mainly script based scraping for larger projects."
      ]
    },
    {
      "cell_type": "markdown",
      "metadata": {
        "id": "OfgQJvW8Ugzq",
        "colab_type": "text"
      },
      "source": [
        "Q: Why do you think a library like `requests` and `BeautifulSoup` can't scrape websites using Frontend Web Apps (like React, Angular, Ember etc)?"
      ]
    },
    {
      "cell_type": "markdown",
      "metadata": {
        "id": "j0zl1uDwUgzs",
        "colab_type": "text"
      },
      "source": [
        "A: The `requests` library asks for static (html) content. Frontend apps (Angular, React, Ember.js etc) dynamically create/load content on the fly. That itself has led to their popularity since you don't need to render everything from scratch.\n",
        "\n",
        "Fun side note: Frontend web apps also break search engine indexing. If we can't scrape the full site, so can't most search engine bots. A workaround to this is called `Server Side Rendering`. It's an interesting way to \"run\" a frontend web app on the backend and give back static content. Most sites do this nowadays but this is a caveat you should keep in mind when scraping websites.\n",
        "\n",
        "An interesting application in industry is [how Airbnb does this](https://github.com/airbnb/hypernova)."
      ]
    },
    {
      "cell_type": "markdown",
      "metadata": {
        "id": "nE_m4OQAUgzs",
        "colab_type": "text"
      },
      "source": [
        "### API: Application Programming Interfaces\n",
        "\n",
        "Many services offer API's to grab data (Twitter, Wikipedia, Reddit etc.) We have already used an API in the Pandas notebook when we grabbed stock data in CSV format to do analysis. If a good API exists, it is usually the preferred method of obtaining data.\n"
      ]
    },
    {
      "cell_type": "markdown",
      "metadata": {
        "id": "cM3MWHAhUgzt",
        "colab_type": "text"
      },
      "source": [
        "### APIs vs Web Scraping\n",
        "\n",
        "Sometimes APIs don't give us everything we need, OR we need to gather data from websites that don't have an API. In this case, we use Web Scraping."
      ]
    },
    {
      "cell_type": "markdown",
      "metadata": {
        "id": "Ggss0zA3Ugzt",
        "colab_type": "text"
      },
      "source": [
        "# Helpful Web Scraping Cheat Sheet\n",
        "\n",
        "If you want a good documentation of functions in requests and Beautifulsoup (as well as how to save scraped data to an SQLite database), this is a good resource:\n",
        "\n",
        "- https://blog.hartleybrody.com/web-scraping-cheat-sheet/"
      ]
    },
    {
      "cell_type": "markdown",
      "metadata": {
        "id": "_l7G7pSrUgzu",
        "colab_type": "text"
      },
      "source": [
        "# Table of Contents\n",
        "(Clickable document links)\n",
        "___\n",
        "\n",
        "### [0: Pre-steup](#sec0)\n",
        "Document setup and Python 2 and Python 3 compability\n",
        "\n",
        "### [1: Simple webscraping intro](#sec1)\n",
        "\n",
        "Simple example of webscraping on a premade HTML template\n",
        "\n",
        "#### Subsection: Scraping Caveats: How to be nice and not make enemies\n",
        "\n",
        "### [2: IMDB top 250 movies w MetaScore](#sec3)\n",
        "\n",
        "Scrape IMDB and compare MetaScore to user reviews.\n",
        "\n",
        "### [3: Scrape Images and Files](#sec4)\n",
        "\n",
        "Scrape a website of Images, PDF's, CSV data or any other file type.\n",
        "\n",
        "## [Breakout Problem: Scrape Weather Data](#secBK)\n",
        "\n",
        "Scrape real time weather data in Berkeley.\n",
        "\n",
        "\n",
        "### [Appendix](#sec5)\n",
        "\n",
        "#### [Scrape Bloomberg sitemap for political news headlines](#sec6)\n",
        "\n",
        "#### [Webcrawl Twitter, recursive URL link fetcher + depth](#sec7)\n",
        "\n",
        "#### [SEO, visualize webite categories as a tree](#sec8)"
      ]
    },
    {
      "cell_type": "markdown",
      "metadata": {
        "id": "qJ-UYYGYUgzu",
        "colab_type": "text"
      },
      "source": [
        "<a id='sec0'></a>\n",
        "## Pre-Setup"
      ]
    },
    {
      "cell_type": "code",
      "metadata": {
        "id": "CId16r7mUgzv",
        "colab_type": "code",
        "colab": {
          "base_uri": "https://localhost:8080/",
          "height": 16
        },
        "outputId": "037a29f8-47a1-41e6-89ee-8a07db64836e"
      },
      "source": [
        "# stretch Jupyter coding blocks to fit screen\n",
        "from IPython.core.display import display, HTML\n",
        "display(HTML(\"<style>.container { width:90% !important; }</style>\")) \n",
        "# if 100% it would fit the screen"
      ],
      "execution_count": null,
      "outputs": [
        {
          "output_type": "display_data",
          "data": {
            "text/html": [
              "<style>.container { width:90% !important; }</style>"
            ],
            "text/plain": [
              "<IPython.core.display.HTML object>"
            ]
          },
          "metadata": {
            "tags": []
          }
        }
      ]
    },
    {
      "cell_type": "code",
      "metadata": {
        "id": "3nVc6Vy7Ugz0",
        "colab_type": "code",
        "colab": {}
      },
      "source": [
        "# make it run on py2 and py3\n",
        "from __future__ import division, print_function"
      ],
      "execution_count": null,
      "outputs": []
    },
    {
      "cell_type": "markdown",
      "metadata": {
        "id": "NHAVel79Ugz3",
        "colab_type": "text"
      },
      "source": [
        "<a id='sec1'></a>\n",
        "# Webscraping intro\n",
        "\n",
        "In order to scrape content from a website we first need to download the HTML contents of the website. This can be done with the Python library **requests** (with its `.get` method).\n",
        "\n",
        "Then when we want to extract certain information from a website we use the scraping tool **BeautifulSoup4** (import bs4). In order to parse information with beautifulsoup we have to create a soup object from the HTML source code of a website."
      ]
    },
    {
      "cell_type": "code",
      "metadata": {
        "id": "Y7_j3TMDUgz3",
        "colab_type": "code",
        "colab": {
          "base_uri": "https://localhost:8080/",
          "height": 35
        },
        "outputId": "37bcf1a4-d3fe-4432-dd15-2010e12ebb5b"
      },
      "source": [
        "import requests # The requests library is an HTTP library for getting and posting content etc.\n",
        "\n",
        "import bs4 as bs \n",
        "\n",
        "import pandas as pd\n",
        "\"\"\"\n",
        "BeautifulSoup4 is a Python library \n",
        "for pulling data out of HTML and XML code.\n",
        "We can query markup languages for specific content\n",
        "\"\"\""
      ],
      "execution_count": null,
      "outputs": [
        {
          "output_type": "execute_result",
          "data": {
            "application/vnd.google.colaboratory.intrinsic": {
              "type": "string"
            },
            "text/plain": [
              "'\\nBeautifulSoup4 is a Python library \\nfor pulling data out of HTML and XML code.\\nWe can query markup languages for specific content\\n'"
            ]
          },
          "metadata": {
            "tags": []
          },
          "execution_count": 3
        }
      ]
    },
    {
      "cell_type": "markdown",
      "metadata": {
        "id": "-dgjpOYNUgz6",
        "colab_type": "text"
      },
      "source": [
        "# Scraping a simple website"
      ]
    },
    {
      "cell_type": "code",
      "metadata": {
        "id": "XzGBfJSWUgz7",
        "colab_type": "code",
        "colab": {}
      },
      "source": [
        "source = requests.get(\"https://alex.fo/other/data-x/\") \n",
        "# a GET request will download the HTML webpage."
      ],
      "execution_count": null,
      "outputs": []
    },
    {
      "cell_type": "code",
      "metadata": {
        "id": "EfR-W7ILUgz_",
        "colab_type": "code",
        "colab": {
          "base_uri": "https://localhost:8080/",
          "height": 34
        },
        "outputId": "f3437162-63d7-4ebb-d7a2-6ff4cae9b06e"
      },
      "source": [
        "print(source) # If <Response [200]> then \n",
        "# the website has been downloaded succesfully"
      ],
      "execution_count": null,
      "outputs": [
        {
          "output_type": "stream",
          "text": [
            "<Response [200]>\n"
          ],
          "name": "stdout"
        }
      ]
    },
    {
      "cell_type": "markdown",
      "metadata": {
        "id": "qE8QTSEoUg0F",
        "colab_type": "text"
      },
      "source": [
        "**Different types of repsonses:**\n",
        "Generally status code starting with 2 indicates success. Status code starting with 4 or 5 indicates error. Frequent appearance of the status codes like 404 (Not Found), 403 (Forbidden), 408 (Request Timeout) might indicate that you got blocked by the server."
      ]
    },
    {
      "cell_type": "code",
      "metadata": {
        "id": "EcUDu6cLUg0F",
        "colab_type": "code",
        "colab": {
          "base_uri": "https://localhost:8080/",
          "height": 54
        },
        "outputId": "f8454e9a-056d-401d-d5ab-4fd36f5c8391"
      },
      "source": [
        "print(source.content) \n",
        "# This is the HTML content of the website,\n",
        "# as you can see it's quite hard to decipher"
      ],
      "execution_count": null,
      "outputs": [
        {
          "output_type": "stream",
          "text": [
            "b'<!DOCTYPE html>\\n<html>\\n<head>\\n\\n<title>Data-X Webscrape Tutorial</title>\\n\\n<style>\\ndiv.container {\\n    width: 100%;\\n    border: 1px solid gray;\\n}\\n\\n.header {\\n    color:green;\\n}\\n\\n#second {\\n    font-style: italic;\\n}\\n\\n</style>\\n\\n</head>\\n\\n<body style=\"background-color: pink\">\\n\\n<h1 class=\"header\">Simple Data-X site</h1>\\n\\n\\n<h3 id=\"second\">This site is only live to be scraped.</h3>\\n\\n\\n<div class=\"container\">\\n<p>Some cool text in a container</p>\\n</div>\\n  \\n\\n  <h4> Random list </h4>\\n<nav class=\"regular_list\">\\n  <ul>\\n    <li><a href=\"https://en.wikipedia.org/wiki/London\">London</a></li>\\n    <li><a href=\"https://en.wikipedia.org/wiki/Tokyo\">Tokyo</a></li>\\n  </ul>\\n</nav>\\n\\n\\n\\n\\n  <h2>Random London Information within p tags</h2>\\n\\n  <p>London is the capital city of England. It is the most populous city in the  United Kingdom, with a metropolitan area of over 13 million inhabitants.</p>\\n  <p>Standing on the River Thames, London has been a major settlement for two millennia, its history going back to its founding by the Romans, who named it Londinium.</p>\\n\\n<footer>footer content</footer>\\n\\n</div>\\n\\n</body>\\n</html>\\n'\n"
          ],
          "name": "stdout"
        }
      ]
    },
    {
      "cell_type": "code",
      "metadata": {
        "id": "keza_5gsUg0I",
        "colab_type": "code",
        "colab": {
          "base_uri": "https://localhost:8080/",
          "height": 34
        },
        "outputId": "bca200d2-04d4-49cf-d461-82aa798eb4b1"
      },
      "source": [
        "print(type(source.content)) # type byte in Python 3"
      ],
      "execution_count": null,
      "outputs": [
        {
          "output_type": "stream",
          "text": [
            "<class 'bytes'>\n"
          ],
          "name": "stdout"
        }
      ]
    },
    {
      "cell_type": "code",
      "metadata": {
        "id": "Ht8vMWtqUg0Q",
        "colab_type": "code",
        "colab": {}
      },
      "source": [
        "# Convert source.content to a beautifulsoup object \n",
        "# beautifulsoup can parse (extract specific information) HTML code\n",
        "\n",
        "soup = bs.BeautifulSoup(source.content, features='html.parser') \n",
        "# we pass in the source content\n",
        "# features specifies what type of code we are parsing, \n",
        "# here 'html.parser' specifies that we want beautiful soup to parse HTML code"
      ],
      "execution_count": null,
      "outputs": []
    },
    {
      "cell_type": "code",
      "metadata": {
        "id": "tqX8pjqIUg0T",
        "colab_type": "code",
        "colab": {
          "base_uri": "https://localhost:8080/",
          "height": 34
        },
        "outputId": "84bf30f7-41ab-4b29-8cb5-bebfcb522991"
      },
      "source": [
        "print(type(soup))"
      ],
      "execution_count": null,
      "outputs": [
        {
          "output_type": "stream",
          "text": [
            "<class 'bs4.BeautifulSoup'>\n"
          ],
          "name": "stdout"
        }
      ]
    },
    {
      "cell_type": "code",
      "metadata": {
        "id": "huP7fcTcUg0X",
        "colab_type": "code",
        "colab": {
          "base_uri": "https://localhost:8080/",
          "height": 763
        },
        "outputId": "be2f438b-80a1-415f-a83c-bbc7af299f18"
      },
      "source": [
        "print(soup) # looks a lot nicer!"
      ],
      "execution_count": null,
      "outputs": [
        {
          "output_type": "stream",
          "text": [
            "<!DOCTYPE html>\n",
            "\n",
            "<html>\n",
            "<head>\n",
            "<title>Data-X Webscrape Tutorial</title>\n",
            "<style>\n",
            "div.container {\n",
            "    width: 100%;\n",
            "    border: 1px solid gray;\n",
            "}\n",
            "\n",
            ".header {\n",
            "    color:green;\n",
            "}\n",
            "\n",
            "#second {\n",
            "    font-style: italic;\n",
            "}\n",
            "\n",
            "</style>\n",
            "</head>\n",
            "<body style=\"background-color: pink\">\n",
            "<h1 class=\"header\">Simple Data-X site</h1>\n",
            "<h3 id=\"second\">This site is only live to be scraped.</h3>\n",
            "<div class=\"container\">\n",
            "<p>Some cool text in a container</p>\n",
            "</div>\n",
            "<h4> Random list </h4>\n",
            "<nav class=\"regular_list\">\n",
            "<ul>\n",
            "<li><a href=\"https://en.wikipedia.org/wiki/London\">London</a></li>\n",
            "<li><a href=\"https://en.wikipedia.org/wiki/Tokyo\">Tokyo</a></li>\n",
            "</ul>\n",
            "</nav>\n",
            "<h2>Random London Information within p tags</h2>\n",
            "<p>London is the capital city of England. It is the most populous city in the  United Kingdom, with a metropolitan area of over 13 million inhabitants.</p>\n",
            "<p>Standing on the River Thames, London has been a major settlement for two millennia, its history going back to its founding by the Romans, who named it Londinium.</p>\n",
            "<footer>footer content</footer>\n",
            "</body></html>\n",
            "\n",
            "\n",
            "\n"
          ],
          "name": "stdout"
        }
      ]
    },
    {
      "cell_type": "markdown",
      "metadata": {
        "id": "r7AiyC9hUg0a",
        "colab_type": "text"
      },
      "source": [
        "Above we printed the HTML code of the website, decoded as a beautiful soup object.\n",
        "\n",
        "### HTML tags\n",
        "`<xxx> </xxx>`: are all the HTML tags, that specifies certain sections, stylings etc of the website, for more info: \n",
        "https://www.w3schools.com/tags/ref_byfunc.asp\n",
        "\n",
        "Full list of HTML tags: https://developer.mozilla.org/en-US/docs/Web/HTML/Element"
      ]
    },
    {
      "cell_type": "markdown",
      "metadata": {
        "id": "G5Lez9n3Ug0b",
        "colab_type": "text"
      },
      "source": [
        "### HTML DOM Tree\n",
        "\n",
        "The HTML DOM Tree is a logical tree that contains all the objects in a webpage.\n",
        "\n",
        "Any dynamic execution (Javascript, SVG etc) interacts with the DOM tree.\n",
        "\n",
        "Since HTML content has a hierarchy, a Tree structure appropriately models the relationships between different HTML elements.\n",
        "\n",
        "For more, see the [Mozilla Docs](https://developer.mozilla.org/en-US/docs/Web/API/Document_Object_Model). There's a great intro to the DOM [here](https://developer.mozilla.org/en-US/docs/Web/API/Document_Object_Model/Introduction).\n",
        "\n"
      ]
    },
    {
      "cell_type": "markdown",
      "metadata": {
        "id": "RSMQIVhzUg0b",
        "colab_type": "text"
      },
      "source": [
        "\n",
        "\n",
        "---\n",
        "## `class` and `id`:\n",
        "\n",
        "class and id attributes of HTML tags, they are used as hooks to give unique styling to certain elements and an id for sections / parts of the page.\n",
        "\n",
        "- **id:** is a unique tag for a specific element (this often does not change)\n",
        "- **class:** specifies a class of objects. Several elements in the HTML code can have the same class.\n",
        "\n",
        "We can use these attributes of an HTML tag to select elements in BeautifulSoup."
      ]
    },
    {
      "cell_type": "markdown",
      "metadata": {
        "id": "WQCX0AwfUg0b",
        "colab_type": "text"
      },
      "source": [
        "### Suppose we want to extract content that is shown on the website"
      ]
    },
    {
      "cell_type": "code",
      "metadata": {
        "id": "uGVsBqrJUg0c",
        "colab_type": "code",
        "colab": {
          "base_uri": "https://localhost:8080/",
          "height": 336
        },
        "outputId": "7bbcd4b4-1059-4fda-9f53-10916778e59e"
      },
      "source": [
        "# Inside the <body> tag of the website is where all the main content is\n",
        "print(soup.body)"
      ],
      "execution_count": null,
      "outputs": [
        {
          "output_type": "stream",
          "text": [
            "<body style=\"background-color: pink\">\n",
            "<h1 class=\"header\">Simple Data-X site</h1>\n",
            "<h3 id=\"second\">This site is only live to be scraped.</h3>\n",
            "<div class=\"container\">\n",
            "<p>Some cool text in a container</p>\n",
            "</div>\n",
            "<h4> Random list </h4>\n",
            "<nav class=\"regular_list\">\n",
            "<ul>\n",
            "<li><a href=\"https://en.wikipedia.org/wiki/London\">London</a></li>\n",
            "<li><a href=\"https://en.wikipedia.org/wiki/Tokyo\">Tokyo</a></li>\n",
            "</ul>\n",
            "</nav>\n",
            "<h2>Random London Information within p tags</h2>\n",
            "<p>London is the capital city of England. It is the most populous city in the  United Kingdom, with a metropolitan area of over 13 million inhabitants.</p>\n",
            "<p>Standing on the River Thames, London has been a major settlement for two millennia, its history going back to its founding by the Romans, who named it Londinium.</p>\n",
            "<footer>footer content</footer>\n",
            "</body>\n"
          ],
          "name": "stdout"
        }
      ]
    },
    {
      "cell_type": "code",
      "metadata": {
        "scrolled": true,
        "id": "jPlrhEr8Ug0f",
        "colab_type": "code",
        "colab": {
          "base_uri": "https://localhost:8080/",
          "height": 34
        },
        "outputId": "5ad03326-35ab-445d-ec97-79a76e03f5c3"
      },
      "source": [
        "print(soup.title) # Title of the website"
      ],
      "execution_count": null,
      "outputs": [
        {
          "output_type": "stream",
          "text": [
            "<title>Data-X Webscrape Tutorial</title>\n"
          ],
          "name": "stdout"
        }
      ]
    },
    {
      "cell_type": "code",
      "metadata": {
        "id": "QkO2WRRqUg0i",
        "colab_type": "code",
        "colab": {
          "base_uri": "https://localhost:8080/",
          "height": 34
        },
        "outputId": "aa6d2901-49e2-4740-da65-4749b2fe8ef8"
      },
      "source": [
        "print(soup.find('title')) # same as .title"
      ],
      "execution_count": null,
      "outputs": [
        {
          "output_type": "stream",
          "text": [
            "<title>Data-X Webscrape Tutorial</title>\n"
          ],
          "name": "stdout"
        }
      ]
    },
    {
      "cell_type": "code",
      "metadata": {
        "scrolled": true,
        "id": "6HmsXO_hUg0m",
        "colab_type": "code",
        "colab": {
          "base_uri": "https://localhost:8080/",
          "height": 34
        },
        "outputId": "ecd62d17-f35f-4f6b-b88f-acdfd34de6e3"
      },
      "source": [
        "# If we want to extract specific text\n",
        "print(soup.find('p')) # will only return first <p> tag"
      ],
      "execution_count": null,
      "outputs": [
        {
          "output_type": "stream",
          "text": [
            "<p>Some cool text in a container</p>\n"
          ],
          "name": "stdout"
        }
      ]
    },
    {
      "cell_type": "code",
      "metadata": {
        "id": "gmcCODd3Ug0q",
        "colab_type": "code",
        "colab": {
          "base_uri": "https://localhost:8080/",
          "height": 34
        },
        "outputId": "3ea00dad-a75e-46f8-9a34-1c52e3c5d564"
      },
      "source": [
        "print(soup.find('p').text) # extracts the string within the <p> tag, strips it of tag"
      ],
      "execution_count": null,
      "outputs": [
        {
          "output_type": "stream",
          "text": [
            "Some cool text in a container\n"
          ],
          "name": "stdout"
        }
      ]
    },
    {
      "cell_type": "code",
      "metadata": {
        "id": "O1oPKTr2Ug0s",
        "colab_type": "code",
        "colab": {
          "base_uri": "https://localhost:8080/",
          "height": 54
        },
        "outputId": "751bf371-01f2-4dc1-ad49-bf94afbbcf02"
      },
      "source": [
        "# If we want to extract all <p> tags\n",
        "print(soup.find_all('p')) # returns list of all <p> tags"
      ],
      "execution_count": null,
      "outputs": [
        {
          "output_type": "stream",
          "text": [
            "[<p>Some cool text in a container</p>, <p>London is the capital city of England. It is the most populous city in the  United Kingdom, with a metropolitan area of over 13 million inhabitants.</p>, <p>Standing on the River Thames, London has been a major settlement for two millennia, its history going back to its founding by the Romans, who named it Londinium.</p>]\n"
          ],
          "name": "stdout"
        }
      ]
    },
    {
      "cell_type": "code",
      "metadata": {
        "id": "N0bIb0ZZUg0v",
        "colab_type": "code",
        "colab": {
          "base_uri": "https://localhost:8080/",
          "height": 34
        },
        "outputId": "8c679e13-c9d2-467e-afdb-a45c2152802f"
      },
      "source": [
        "# we can also search for classes within all tags, using class_\n",
        "# note that the \"class_\" property is used to distinguish with Python's builtin `class` keyword/function\n",
        "\n",
        "print(soup.find(class_='header')) "
      ],
      "execution_count": null,
      "outputs": [
        {
          "output_type": "stream",
          "text": [
            "<h1 class=\"header\">Simple Data-X site</h1>\n"
          ],
          "name": "stdout"
        }
      ]
    },
    {
      "cell_type": "code",
      "metadata": {
        "id": "AFhwtzTbUg0y",
        "colab_type": "code",
        "colab": {
          "base_uri": "https://localhost:8080/",
          "height": 34
        },
        "outputId": "c93a1133-20b9-492f-df2a-d266e7e90d2b"
      },
      "source": [
        "# We can also find tags with a specific id\n",
        "\n",
        "print(soup.find(id='second'))"
      ],
      "execution_count": null,
      "outputs": [
        {
          "output_type": "stream",
          "text": [
            "<h3 id=\"second\">This site is only live to be scraped.</h3>\n"
          ],
          "name": "stdout"
        }
      ]
    },
    {
      "cell_type": "code",
      "metadata": {
        "id": "cY1eZHJYUg00",
        "colab_type": "code",
        "colab": {
          "base_uri": "https://localhost:8080/",
          "height": 123
        },
        "outputId": "da69852c-39a0-4729-9d93-598d3809f253"
      },
      "source": [
        "print(soup.find_all(class_='regular_list')) # find all returns list, \n",
        "# even if there is only one object"
      ],
      "execution_count": null,
      "outputs": [
        {
          "output_type": "stream",
          "text": [
            "[<nav class=\"regular_list\">\n",
            "<ul>\n",
            "<li><a href=\"https://en.wikipedia.org/wiki/London\">London</a></li>\n",
            "<li><a href=\"https://en.wikipedia.org/wiki/Tokyo\">Tokyo</a></li>\n",
            "</ul>\n",
            "</nav>]\n"
          ],
          "name": "stdout"
        }
      ]
    },
    {
      "cell_type": "code",
      "metadata": {
        "id": "6LexZHPkUg03",
        "colab_type": "code",
        "colab": {
          "base_uri": "https://localhost:8080/",
          "height": 70
        },
        "outputId": "fc45021d-4253-4eda-969a-050199754cfd"
      },
      "source": [
        "for p in soup.find_all('p'): # print all text paragraphs on the webpage\n",
        "    print(p.text)"
      ],
      "execution_count": null,
      "outputs": [
        {
          "output_type": "stream",
          "text": [
            "Some cool text in a container\n",
            "London is the capital city of England. It is the most populous city in the  United Kingdom, with a metropolitan area of over 13 million inhabitants.\n",
            "Standing on the River Thames, London has been a major settlement for two millennia, its history going back to its founding by the Romans, who named it Londinium.\n"
          ],
          "name": "stdout"
        }
      ]
    },
    {
      "cell_type": "code",
      "metadata": {
        "id": "GgiiTphgUg05",
        "colab_type": "code",
        "colab": {
          "base_uri": "https://localhost:8080/",
          "height": 52
        },
        "outputId": "cc908aec-d4b9-4fa6-e45c-a71a18473aec"
      },
      "source": [
        "# Extract links / urls\n",
        "# Links in html is usually coded as <a href=\"url\">\n",
        "# where the link is url\n",
        "\n",
        "print(soup.a)\n",
        "print(type(soup.a))\n"
      ],
      "execution_count": null,
      "outputs": [
        {
          "output_type": "stream",
          "text": [
            "<a href=\"https://en.wikipedia.org/wiki/London\">London</a>\n",
            "<class 'bs4.element.Tag'>\n"
          ],
          "name": "stdout"
        }
      ]
    },
    {
      "cell_type": "code",
      "metadata": {
        "id": "Nn5nqwSDUg07",
        "colab_type": "code",
        "colab": {
          "base_uri": "https://localhost:8080/",
          "height": 35
        },
        "outputId": "d91935dc-dbf0-4225-b3af-aae4c9815749"
      },
      "source": [
        "soup.a.get('href') \n",
        "# to get the link from href attribute"
      ],
      "execution_count": null,
      "outputs": [
        {
          "output_type": "execute_result",
          "data": {
            "application/vnd.google.colaboratory.intrinsic": {
              "type": "string"
            },
            "text/plain": [
              "'https://en.wikipedia.org/wiki/London'"
            ]
          },
          "metadata": {
            "tags": []
          },
          "execution_count": 22
        }
      ]
    },
    {
      "cell_type": "code",
      "metadata": {
        "id": "Gy62WwcyUg0_",
        "colab_type": "code",
        "colab": {
          "base_uri": "https://localhost:8080/",
          "height": 52
        },
        "outputId": "971a7320-aebb-4425-e589-715862b136fa"
      },
      "source": [
        "links = soup.find_all('a')\n",
        "\n",
        "links"
      ],
      "execution_count": null,
      "outputs": [
        {
          "output_type": "execute_result",
          "data": {
            "text/plain": [
              "[<a href=\"https://en.wikipedia.org/wiki/London\">London</a>,\n",
              " <a href=\"https://en.wikipedia.org/wiki/Tokyo\">Tokyo</a>]"
            ]
          },
          "metadata": {
            "tags": []
          },
          "execution_count": 23
        }
      ]
    },
    {
      "cell_type": "code",
      "metadata": {
        "id": "IrAJg9o4Ug1B",
        "colab_type": "code",
        "colab": {
          "base_uri": "https://localhost:8080/",
          "height": 52
        },
        "outputId": "9cae4cda-bc07-4a71-80eb-a8cdcd21596d"
      },
      "source": [
        "# if we want to list links and their text info\n",
        "\n",
        "links = soup.find_all('a')\n",
        "\n",
        "for l in links:\n",
        "    print(\"Info about {}: \".format(l.text), \\\n",
        "          l.get('href')) \n",
        "# then we have extracted the link"
      ],
      "execution_count": null,
      "outputs": [
        {
          "output_type": "stream",
          "text": [
            "Info about London:  https://en.wikipedia.org/wiki/London\n",
            "Info about Tokyo:  https://en.wikipedia.org/wiki/Tokyo\n"
          ],
          "name": "stdout"
        }
      ]
    },
    {
      "cell_type": "markdown",
      "metadata": {
        "id": "BSVAs1SnUg1E",
        "colab_type": "text"
      },
      "source": [
        "# Scraping Caveats: How to be nice and not make enemies"
      ]
    },
    {
      "cell_type": "markdown",
      "metadata": {
        "id": "Vv2ExOfJUg1E",
        "colab_type": "text"
      },
      "source": [
        "- Webscraping is not always a welcome activity. \n",
        "    As a founder and/or engineer, you don't want to wake up in the middle of the night because your website is down due to scraping!\n",
        "    \n",
        "- When webscraping a website, be mindful and nice and make sure you are not inadvertently sending too many requests to the website, which can lead to a potential problem at the website.\n",
        "\n",
        "- A pretty common reason for websites going temporarily offline is because they get scraped way too much."
      ]
    },
    {
      "cell_type": "markdown",
      "metadata": {
        "id": "N3wlRA0gUg1E",
        "colab_type": "text"
      },
      "source": [
        "## What do we lookout for when scraping?"
      ]
    },
    {
      "cell_type": "markdown",
      "metadata": {
        "id": "MxL9Wp-mUg1F",
        "colab_type": "text"
      },
      "source": [
        "### Cached content"
      ]
    },
    {
      "cell_type": "markdown",
      "metadata": {
        "id": "UvYWEBSlUg1F",
        "colab_type": "text"
      },
      "source": [
        "- Most website content is usually `cached`. This means the webservers are not serving the content directly, they are cached at a nearby caching server (usually called Point-of-Presence or POPs). Web requests usually hit these servers that are able to serve cached content at a higher frequency.\n",
        "\n",
        "    - You might have heard of services such as AWS Cloudfront or Cloudflare allowing web content to be cached.\n",
        "\n",
        "\n",
        "- That said, some websites might not do this! One way to check is to see the response headers. Let's see what this looks like."
      ]
    },
    {
      "cell_type": "code",
      "metadata": {
        "id": "IFUjGnrpUg1G",
        "colab_type": "code",
        "colab": {
          "base_uri": "https://localhost:8080/"
        },
        "outputId": "2b32a8b4-2970-448e-a96c-f91988094264"
      },
      "source": [
        "requests.get('https://wikipedia.org').headers"
      ],
      "execution_count": null,
      "outputs": [
        {
          "output_type": "execute_result",
          "data": {
            "text/plain": [
              "{'Date': 'Sat, 27 Jun 2020 07:36:36 GMT', 'Cache-Control': 's-maxage=86400, must-revalidate, max-age=3600', 'Server': 'ATS/8.0.8', 'ETag': 'W/\"10cc5-5a8a9c4623b07\"', 'Last-Modified': 'Mon, 22 Jun 2020 10:33:01 GMT', 'Content-Type': 'text/html', 'Content-Encoding': 'gzip', 'Vary': 'Accept-Encoding', 'Age': '79576', 'X-Cache': 'cp5009 hit, cp5010 hit/216109', 'X-Cache-Status': 'hit-front', 'Server-Timing': 'cache;desc=\"hit-front\"', 'Strict-Transport-Security': 'max-age=106384710; includeSubDomains; preload', 'X-Client-IP': '35.229.190.9', 'Accept-Ranges': 'bytes', 'Content-Length': '17844', 'Connection': 'keep-alive'}"
            ]
          },
          "metadata": {
            "tags": []
          },
          "execution_count": 25
        }
      ]
    },
    {
      "cell_type": "markdown",
      "metadata": {
        "id": "ZxXBekcKUg1I",
        "colab_type": "text"
      },
      "source": [
        "The `Cache-Control` header having a non-zero value means the web content is cached.\n",
        "\n",
        "The `X-Cache-Status` equaling `hit-front` or `hit` or similar means you hit a cached content, and the backend server did not directly service request.\n",
        "\n",
        "Yay! This means we can scrape without worrying about taking down Wikipedia.org"
      ]
    },
    {
      "cell_type": "markdown",
      "metadata": {
        "id": "YZLNHcjkUg1J",
        "colab_type": "text"
      },
      "source": [
        "\n",
        "\n",
        "# Other useful scraping tips\n",
        "\n",
        "### robots.txt\n",
        "\n",
        "Always check if a website has a `robots.txt` document specifying what parts of the site that you're allowed to scrape (however, the website cannot prevent requests from getting its content, but I'd recommend you all to be nice). It may also contain information about the scraping frequency allowed etc.\n",
        "\n",
        "E.g. \n",
        "- http://www.imdb.com/robots.txt\n",
        "- http://www.nytimes.com/robots.txt\n",
        "\n",
        "### user-agent\n",
        "\n",
        "When you're sending a request to a webpage (no matter if it comes from your computer, iphone, or Python's request package), then you also include a user-agent. This let's the webserver know how to render the contents for you. You can also send user-agent information via a request (to specify who you are for example, or to disguise that you're an automated scraper).\n",
        "\n",
        "Find your machine's / browser's true user agent here: https://www.whoishostingthis.com/tools/user-agent/"
      ]
    },
    {
      "cell_type": "code",
      "metadata": {
        "id": "A51735tKUg1J",
        "colab_type": "code",
        "colab": {
          "base_uri": "https://localhost:8080/"
        },
        "outputId": "4de83160-f6ea-4374-9064-b04836276b20"
      },
      "source": [
        "# user-agent example\n",
        "\n",
        "headers = {\n",
        "    'User-Agent': 'Mozilla/5.0 (X11; Ubuntu; Linux x86_64; rv:58.0) Gecko/20100101 Firefox/58.0',\n",
        "    'From': 'data-x@gmail.com' \n",
        "}\n",
        "\n",
        "response = requests.get('http://alex.fo/other/data-x', headers=headers)\n",
        "print(response)\n",
        "print(response.headers) # the response will also have some meta informaiton about the content"
      ],
      "execution_count": null,
      "outputs": [
        {
          "output_type": "stream",
          "text": [
            "<Response [200]>\n",
            "{'Date': 'Sun, 28 Jun 2020 05:42:54 GMT', 'Content-Type': 'text/html; charset=utf-8', 'Transfer-Encoding': 'chunked', 'Connection': 'keep-alive', 'Last-Modified': 'Tue, 19 May 2020 15:01:57 GMT', 'Vary': 'Accept-Encoding', 'Access-Control-Allow-Origin': '*', 'Expires': 'Sun, 28 Jun 2020 05:52:54 GMT', 'Cache-Control': 'max-age=600', 'X-Proxy-Cache': 'MISS', 'X-GitHub-Request-Id': '44D2:1151:2730B8:310DB2:5EF82DDE', 'CF-Cache-Status': 'DYNAMIC', 'cf-request-id': '039b0c43380000dae02f05b200000001', 'Expect-CT': 'max-age=604800, report-uri=\"https://report-uri.cloudflare.com/cdn-cgi/beacon/expect-ct\"', 'Server': 'cloudflare', 'CF-RAY': '5aa5164b8d38dae0-TPE', 'Content-Encoding': 'gzip'}\n"
          ],
          "name": "stdout"
        }
      ]
    },
    {
      "cell_type": "markdown",
      "metadata": {
        "id": "QiBHjDHkUg2Y",
        "colab_type": "text"
      },
      "source": [
        "# Keep a current list IMDB top 250 vs MetaScore\n",
        "\n",
        "Let's say that we want to build an app that can display the most popular movies at the IMDB website.\n",
        "\n",
        "We got to the URL that lists the top 250 movies according to the reviews: http://www.imdb.com/chart/top\n",
        "\n",
        "We see that the entries are stored in a table format, so we try pandas."
      ]
    },
    {
      "cell_type": "code",
      "metadata": {
        "id": "Z4VbVAsnUg2Z",
        "colab_type": "code",
        "colab": {}
      },
      "source": [
        "df_imdb = pd.read_html('http://www.imdb.com/chart/top',attrs={'class':'chart full-width'})[0]"
      ],
      "execution_count": null,
      "outputs": []
    },
    {
      "cell_type": "code",
      "metadata": {
        "id": "aN-7fQyKUg2b",
        "colab_type": "code",
        "colab": {
          "base_uri": "https://localhost:8080/",
          "height": 197
        },
        "outputId": "02bd68c6-23f1-435a-a14a-7d93d4e86591"
      },
      "source": [
        "df_imdb.head()"
      ],
      "execution_count": null,
      "outputs": [
        {
          "output_type": "execute_result",
          "data": {
            "text/html": [
              "<div>\n",
              "<style scoped>\n",
              "    .dataframe tbody tr th:only-of-type {\n",
              "        vertical-align: middle;\n",
              "    }\n",
              "\n",
              "    .dataframe tbody tr th {\n",
              "        vertical-align: top;\n",
              "    }\n",
              "\n",
              "    .dataframe thead th {\n",
              "        text-align: right;\n",
              "    }\n",
              "</style>\n",
              "<table border=\"1\" class=\"dataframe\">\n",
              "  <thead>\n",
              "    <tr style=\"text-align: right;\">\n",
              "      <th></th>\n",
              "      <th>Unnamed: 0</th>\n",
              "      <th>Rank &amp; Title</th>\n",
              "      <th>IMDb Rating</th>\n",
              "      <th>Your Rating</th>\n",
              "      <th>Unnamed: 4</th>\n",
              "    </tr>\n",
              "  </thead>\n",
              "  <tbody>\n",
              "    <tr>\n",
              "      <th>0</th>\n",
              "      <td>NaN</td>\n",
              "      <td>1.  The Shawshank Redemption  (1994)</td>\n",
              "      <td>9.2</td>\n",
              "      <td>12345678910 NOT YET RELEASED  Seen</td>\n",
              "      <td>NaN</td>\n",
              "    </tr>\n",
              "    <tr>\n",
              "      <th>1</th>\n",
              "      <td>NaN</td>\n",
              "      <td>2.  The Godfather  (1972)</td>\n",
              "      <td>9.1</td>\n",
              "      <td>12345678910 NOT YET RELEASED  Seen</td>\n",
              "      <td>NaN</td>\n",
              "    </tr>\n",
              "    <tr>\n",
              "      <th>2</th>\n",
              "      <td>NaN</td>\n",
              "      <td>3.  The Godfather: Part II  (1974)</td>\n",
              "      <td>9.0</td>\n",
              "      <td>12345678910 NOT YET RELEASED  Seen</td>\n",
              "      <td>NaN</td>\n",
              "    </tr>\n",
              "    <tr>\n",
              "      <th>3</th>\n",
              "      <td>NaN</td>\n",
              "      <td>4.  The Dark Knight  (2008)</td>\n",
              "      <td>9.0</td>\n",
              "      <td>12345678910 NOT YET RELEASED  Seen</td>\n",
              "      <td>NaN</td>\n",
              "    </tr>\n",
              "    <tr>\n",
              "      <th>4</th>\n",
              "      <td>NaN</td>\n",
              "      <td>5.  12 Angry Men  (1957)</td>\n",
              "      <td>8.9</td>\n",
              "      <td>12345678910 NOT YET RELEASED  Seen</td>\n",
              "      <td>NaN</td>\n",
              "    </tr>\n",
              "  </tbody>\n",
              "</table>\n",
              "</div>"
            ],
            "text/plain": [
              "   Unnamed: 0  ... Unnamed: 4\n",
              "0         NaN  ...        NaN\n",
              "1         NaN  ...        NaN\n",
              "2         NaN  ...        NaN\n",
              "3         NaN  ...        NaN\n",
              "4         NaN  ...        NaN\n",
              "\n",
              "[5 rows x 5 columns]"
            ]
          },
          "metadata": {
            "tags": []
          },
          "execution_count": 28
        }
      ]
    },
    {
      "cell_type": "code",
      "metadata": {
        "id": "bP60R9sXUg2h",
        "colab_type": "code",
        "colab": {}
      },
      "source": [
        "df_imdb.drop(df_imdb.columns[[0,3,4]],axis=1,inplace=True)"
      ],
      "execution_count": null,
      "outputs": []
    },
    {
      "cell_type": "code",
      "metadata": {
        "id": "M7tew-QEUg2k",
        "colab_type": "code",
        "colab": {
          "base_uri": "https://localhost:8080/",
          "height": 197
        },
        "outputId": "1ab416d3-c897-4213-e5b7-7877704f5f20"
      },
      "source": [
        "df_imdb.tail()"
      ],
      "execution_count": null,
      "outputs": [
        {
          "output_type": "execute_result",
          "data": {
            "text/html": [
              "<div>\n",
              "<style scoped>\n",
              "    .dataframe tbody tr th:only-of-type {\n",
              "        vertical-align: middle;\n",
              "    }\n",
              "\n",
              "    .dataframe tbody tr th {\n",
              "        vertical-align: top;\n",
              "    }\n",
              "\n",
              "    .dataframe thead th {\n",
              "        text-align: right;\n",
              "    }\n",
              "</style>\n",
              "<table border=\"1\" class=\"dataframe\">\n",
              "  <thead>\n",
              "    <tr style=\"text-align: right;\">\n",
              "      <th></th>\n",
              "      <th>Rank &amp; Title</th>\n",
              "      <th>IMDb Rating</th>\n",
              "    </tr>\n",
              "  </thead>\n",
              "  <tbody>\n",
              "    <tr>\n",
              "      <th>245</th>\n",
              "      <td>246.  Swades  (2004)</td>\n",
              "      <td>8.0</td>\n",
              "    </tr>\n",
              "    <tr>\n",
              "      <th>246</th>\n",
              "      <td>247.  Winter Sleep  (2014)</td>\n",
              "      <td>8.0</td>\n",
              "    </tr>\n",
              "    <tr>\n",
              "      <th>247</th>\n",
              "      <td>248.  Aladdin  (1992)</td>\n",
              "      <td>8.0</td>\n",
              "    </tr>\n",
              "    <tr>\n",
              "      <th>248</th>\n",
              "      <td>249.  Chak de! India  (2007)</td>\n",
              "      <td>8.0</td>\n",
              "    </tr>\n",
              "    <tr>\n",
              "      <th>249</th>\n",
              "      <td>250.  A Silent Voice: The Movie  (2016)</td>\n",
              "      <td>8.0</td>\n",
              "    </tr>\n",
              "  </tbody>\n",
              "</table>\n",
              "</div>"
            ],
            "text/plain": [
              "                                Rank & Title  IMDb Rating\n",
              "245                     246.  Swades  (2004)          8.0\n",
              "246               247.  Winter Sleep  (2014)          8.0\n",
              "247                    248.  Aladdin  (1992)          8.0\n",
              "248             249.  Chak de! India  (2007)          8.0\n",
              "249  250.  A Silent Voice: The Movie  (2016)          8.0"
            ]
          },
          "metadata": {
            "tags": []
          },
          "execution_count": 30
        }
      ]
    },
    {
      "cell_type": "code",
      "metadata": {
        "id": "_3UQjZexUg2o",
        "colab_type": "code",
        "colab": {}
      },
      "source": [
        "# Extract all URLs to find meta score\n",
        "imdb_html = requests.get('http://www.imdb.com/chart/top').content\n",
        "soup = bs.BeautifulSoup(imdb_html, features='html.parser')"
      ],
      "execution_count": null,
      "outputs": []
    },
    {
      "cell_type": "code",
      "metadata": {
        "id": "w2nu3HR6Ug2r",
        "colab_type": "code",
        "colab": {
          "base_uri": "https://localhost:8080/",
          "height": 35
        },
        "outputId": "8095ba93-6066-4925-c294-fcaabcee5c41"
      },
      "source": [
        "links = soup.find('table').find_all('a')\n",
        "urls = ['http://www.imdb.com'+l.get('href') for l in links]\n",
        "urls[0]"
      ],
      "execution_count": null,
      "outputs": [
        {
          "output_type": "execute_result",
          "data": {
            "application/vnd.google.colaboratory.intrinsic": {
              "type": "string"
            },
            "text/plain": [
              "'http://www.imdb.com/title/tt0111161/'"
            ]
          },
          "metadata": {
            "tags": []
          },
          "execution_count": 32
        }
      ]
    },
    {
      "cell_type": "code",
      "metadata": {
        "id": "KdGBYvf_Ug2t",
        "colab_type": "code",
        "colab": {
          "base_uri": "https://localhost:8080/",
          "height": 35
        },
        "outputId": "277cc7ef-ea03-4003-edd2-0a9afe337fc5"
      },
      "source": [
        "urls[-1]"
      ],
      "execution_count": null,
      "outputs": [
        {
          "output_type": "execute_result",
          "data": {
            "application/vnd.google.colaboratory.intrinsic": {
              "type": "string"
            },
            "text/plain": [
              "'http://www.imdb.com/title/tt5323662/'"
            ]
          },
          "metadata": {
            "tags": []
          },
          "execution_count": 33
        }
      ]
    },
    {
      "cell_type": "code",
      "metadata": {
        "id": "kQCnvOlwUg2v",
        "colab_type": "code",
        "colab": {}
      },
      "source": [
        "import numpy as np\n",
        "meta_scores = np.zeros(250, dtype=int)"
      ],
      "execution_count": null,
      "outputs": []
    },
    {
      "cell_type": "code",
      "metadata": {
        "id": "7BiysF2HUg2z",
        "colab_type": "code",
        "colab": {
          "base_uri": "https://localhost:8080/",
          "height": 230
        },
        "outputId": "cb14e20f-b553-4123-a526-2f67d8e70c1d"
      },
      "source": [
        "\n",
        "headers = {\n",
        "    'User-Agent': 'Mozilla/5.0 (X11; Ubuntu; Linux x86_64; rv:58.0) Gecko/20100101 Firefox/58.0',\n",
        "    'From': 'data-x@gmail.com' \n",
        "}\n",
        "\n",
        "for idx,url in enumerate(urls):\n",
        "    print('Getting metscore for movie {}'.format(idx))\n",
        "    film = requests.get(url, headers=headers, timeout=10)\n",
        "    print(film)\n",
        "    soup = bs.BeautifulSoup(film.content, features='html.parser')\n",
        "    info = soup.find(class_='metacriticScore score_favorable titleReviewBarSubItem')\n",
        "    meta_scores[idx] = int(info.find('span').text)\n",
        "    if idx == 5:\n",
        "        break"
      ],
      "execution_count": null,
      "outputs": [
        {
          "output_type": "stream",
          "text": [
            "Getting metscore for movie 0\n",
            "<Response [200]>\n",
            "Getting metscore for movie 1\n",
            "<Response [200]>\n",
            "Getting metscore for movie 2\n",
            "<Response [200]>\n",
            "Getting metscore for movie 3\n",
            "<Response [200]>\n",
            "Getting metscore for movie 4\n",
            "<Response [200]>\n",
            "Getting metscore for movie 5\n",
            "<Response [200]>\n"
          ],
          "name": "stdout"
        }
      ]
    },
    {
      "cell_type": "code",
      "metadata": {
        "id": "zP1yU1cMUg21",
        "colab_type": "code",
        "colab": {}
      },
      "source": [
        "df_imdb['meta_scores'] = meta_scores"
      ],
      "execution_count": null,
      "outputs": []
    },
    {
      "cell_type": "code",
      "metadata": {
        "id": "3yN5rbFyUg24",
        "colab_type": "code",
        "colab": {
          "base_uri": "https://localhost:8080/",
          "height": 197
        },
        "outputId": "971e663d-ec17-47bc-bb5d-d6f6d979e308"
      },
      "source": [
        "df_imdb.head()"
      ],
      "execution_count": null,
      "outputs": [
        {
          "output_type": "execute_result",
          "data": {
            "text/html": [
              "<div>\n",
              "<style scoped>\n",
              "    .dataframe tbody tr th:only-of-type {\n",
              "        vertical-align: middle;\n",
              "    }\n",
              "\n",
              "    .dataframe tbody tr th {\n",
              "        vertical-align: top;\n",
              "    }\n",
              "\n",
              "    .dataframe thead th {\n",
              "        text-align: right;\n",
              "    }\n",
              "</style>\n",
              "<table border=\"1\" class=\"dataframe\">\n",
              "  <thead>\n",
              "    <tr style=\"text-align: right;\">\n",
              "      <th></th>\n",
              "      <th>Rank &amp; Title</th>\n",
              "      <th>IMDb Rating</th>\n",
              "      <th>meta_scores</th>\n",
              "    </tr>\n",
              "  </thead>\n",
              "  <tbody>\n",
              "    <tr>\n",
              "      <th>0</th>\n",
              "      <td>1.  The Shawshank Redemption  (1994)</td>\n",
              "      <td>9.2</td>\n",
              "      <td>80</td>\n",
              "    </tr>\n",
              "    <tr>\n",
              "      <th>1</th>\n",
              "      <td>2.  The Godfather  (1972)</td>\n",
              "      <td>9.1</td>\n",
              "      <td>80</td>\n",
              "    </tr>\n",
              "    <tr>\n",
              "      <th>2</th>\n",
              "      <td>3.  The Godfather: Part II  (1974)</td>\n",
              "      <td>9.0</td>\n",
              "      <td>100</td>\n",
              "    </tr>\n",
              "    <tr>\n",
              "      <th>3</th>\n",
              "      <td>4.  The Dark Knight  (2008)</td>\n",
              "      <td>9.0</td>\n",
              "      <td>100</td>\n",
              "    </tr>\n",
              "    <tr>\n",
              "      <th>4</th>\n",
              "      <td>5.  12 Angry Men  (1957)</td>\n",
              "      <td>8.9</td>\n",
              "      <td>90</td>\n",
              "    </tr>\n",
              "  </tbody>\n",
              "</table>\n",
              "</div>"
            ],
            "text/plain": [
              "                           Rank & Title  IMDb Rating  meta_scores\n",
              "0  1.  The Shawshank Redemption  (1994)          9.2           80\n",
              "1             2.  The Godfather  (1972)          9.1           80\n",
              "2    3.  The Godfather: Part II  (1974)          9.0          100\n",
              "3           4.  The Dark Knight  (2008)          9.0          100\n",
              "4              5.  12 Angry Men  (1957)          8.9           90"
            ]
          },
          "metadata": {
            "tags": []
          },
          "execution_count": 37
        }
      ]
    },
    {
      "cell_type": "markdown",
      "metadata": {
        "id": "tyxQyFIjUg26",
        "colab_type": "text"
      },
      "source": [
        "<a id='sec4'></a>\n",
        "# Scrape images and other files\n",
        "\n",
        "Let's see how we can automatically find and download files linked at any website.\n",
        "\n",
        "The data you need for your projects might not always be raw data, but in the form of files (images, .txt files etc)"
      ]
    },
    {
      "cell_type": "code",
      "metadata": {
        "id": "uKbl5EUoUg27",
        "colab_type": "code",
        "colab": {
          "base_uri": "https://localhost:8080/"
        },
        "outputId": "22b8ecd0-7bfe-4919-dc08-eed01153cfcc"
      },
      "source": [
        "# As we can see there are two images on the data-x.blog/resources\n",
        "# say that we want to download them\n",
        "# Images are displayed with the <img> tag in HTML\n",
        "\n",
        "# open connection and create new soup\n",
        "\n",
        "raw = requests.get('https://data-x.blog/resources/').content\n",
        "soup = bs.BeautifulSoup(raw,features='html.parser')\n",
        "\n",
        "print(soup.find('img')) \n",
        "# as we can see below the image urls \n",
        "# are stored in the src attribute inside the img tag"
      ],
      "execution_count": null,
      "outputs": [
        {
          "output_type": "stream",
          "text": [
            "<img alt=\"Data-X at Berkeley\" height=\"973\" sizes=\"100vw\" src=\"https://data-x.blog/wp-content/uploads/2018/04/cropped-AdobeStock_120712749-Converted.png\" srcset=\"https://i2.wp.com/data-x.blog/wp-content/uploads/2018/04/cropped-AdobeStock_120712749-Converted.png?w=2000&amp;ssl=1 2000w, https://i2.wp.com/data-x.blog/wp-content/uploads/2018/04/cropped-AdobeStock_120712749-Converted.png?resize=300%2C146&amp;ssl=1 300w, https://i2.wp.com/data-x.blog/wp-content/uploads/2018/04/cropped-AdobeStock_120712749-Converted.png?resize=768%2C374&amp;ssl=1 768w, https://i2.wp.com/data-x.blog/wp-content/uploads/2018/04/cropped-AdobeStock_120712749-Converted.png?resize=1024%2C498&amp;ssl=1 1024w, https://i2.wp.com/data-x.blog/wp-content/uploads/2018/04/cropped-AdobeStock_120712749-Converted.png?w=1480&amp;ssl=1 1480w\" width=\"2000\"/>\n"
          ],
          "name": "stdout"
        }
      ]
    },
    {
      "cell_type": "code",
      "metadata": {
        "id": "_ztjbl_OUg28",
        "colab_type": "code",
        "colab": {
          "base_uri": "https://localhost:8080/"
        },
        "outputId": "083d5df7-7387-4476-c38e-160619654017"
      },
      "source": [
        "# Parse all url to the images\n",
        "img_urls = list()\n",
        "for img in soup.find_all('img'):\n",
        "    img_url = img.get('src') \n",
        "    if '.jpeg' in img_url or '.jpg' in img_url:\n",
        "        print(img_url)\n",
        "        img_urls.append(img_url)\n",
        "    "
      ],
      "execution_count": null,
      "outputs": [
        {
          "output_type": "stream",
          "text": [
            "https://i2.wp.com/data-x.blog/wp-content/uploads/2017/05/unnamed-2.jpg?resize=740%2C416&ssl=1\n"
          ],
          "name": "stdout"
        }
      ]
    },
    {
      "cell_type": "code",
      "metadata": {
        "id": "djeNGK7mUg2-",
        "colab_type": "code",
        "colab": {
          "base_uri": "https://localhost:8080/"
        },
        "outputId": "6b2f1f5e-cd3e-4d36-ba6f-35d1233d8f97"
      },
      "source": [
        "## Let's look at what our current file directory looks like\n",
        "\n",
        "%ls"
      ],
      "execution_count": null,
      "outputs": [
        {
          "output_type": "stream",
          "text": [
            "\u001b[0m\u001b[01;34msample_data\u001b[0m/\n"
          ],
          "name": "stdout"
        }
      ]
    },
    {
      "cell_type": "code",
      "metadata": {
        "id": "g90o91jVUg3A",
        "colab_type": "code",
        "colab": {}
      },
      "source": [
        "# To download and save files with Python we can use \n",
        "# the shutil library which is a file operations library\n",
        "'''\n",
        "The shutil module offers a number of high-level operations on files and \n",
        "collections of files. In particular, functions are provided which support \n",
        "file copying and removal.\n",
        "'''\n",
        "\n",
        "import shutil\n",
        "\n",
        "for idx, img_url in enumerate(img_urls): \n",
        "    #enumarte to create a file integer name for every image\n",
        "    \n",
        "    # make a request to the image URL\n",
        "    img_source = requests.get(img_url, stream=True) \n",
        "    # we set stream = True to download/ \n",
        "    # stream the content of the data\n",
        "    \n",
        "    with open('img'+str(idx)+'.jpg', 'wb') as file: \n",
        "        # open file connection, create file and write to it\n",
        "        shutil.copyfileobj(img_source.raw, file) \n",
        "        # save the raw file object\n",
        "\n",
        "    del img_source # to remove the file from memory"
      ],
      "execution_count": null,
      "outputs": []
    },
    {
      "cell_type": "code",
      "metadata": {
        "id": "a3gpLq2MUg3B",
        "colab_type": "code",
        "colab": {
          "base_uri": "https://localhost:8080/"
        },
        "outputId": "335069e0-1b3f-4609-e78b-531346595577"
      },
      "source": [
        "## Let's see if the file has been saved\n",
        "%ls"
      ],
      "execution_count": null,
      "outputs": [
        {
          "output_type": "stream",
          "text": [
            "img0.jpg  \u001b[0m\u001b[01;34msample_data\u001b[0m/\n"
          ],
          "name": "stdout"
        }
      ]
    },
    {
      "cell_type": "markdown",
      "metadata": {
        "id": "2eXM1VA6Ug3F",
        "colab_type": "text"
      },
      "source": [
        "## Scraping function to download files of any type from a website\n",
        "\n",
        "Below is a function that takes in a website and a specific file type to download X of them from the website."
      ]
    },
    {
      "cell_type": "code",
      "metadata": {
        "id": "ZOSIo03bUg3F",
        "colab_type": "code",
        "colab": {}
      },
      "source": [
        "# Extended scraping function of any file format\n",
        "import os # To interact with operating system and format file name\n",
        "import shutil # To copy file object from python to disk\n",
        "import requests\n",
        "import bs4 as bs\n",
        "\n",
        "def py_file_scraper(url, html_tag='img', source_tag='src', file_type='.jpg',max=-1):\n",
        "    \n",
        "    '''\n",
        "    Function that scrapes a website for certain file formats.\n",
        "    The files will be placed in a folder called \"files\" \n",
        "    in the working directory.\n",
        "    \n",
        "    url = the url we want to scrape from\n",
        "    html_tag = the file tag (usually img for images or \n",
        "    a for file links)\n",
        "    \n",
        "    source_tag = the source tag for the file url \n",
        "    (usually src for images or href for files)\n",
        "    \n",
        "    file_type = .png, .jpg, .pdf, .csv, .xls etc.\n",
        "    \n",
        "    max = integer (max number of files to scrape, \n",
        "    if = -1 it will scrape all files)\n",
        "    '''\n",
        "    \n",
        "    # make a directory called 'files' \n",
        "    # for the files if it does not exist\n",
        "    if not os.path.exists('files/'):\n",
        "        os.makedirs('files/')\n",
        "    print('Loading content from the url...')\n",
        "    source = requests.get(url).content\n",
        "    print('Creating content soup...')\n",
        "    soup = bs.BeautifulSoup(source,'html.parser')\n",
        "    \n",
        "    i=0\n",
        "    print('Finding tag:%s...'%html_tag)\n",
        "    for n, link in enumerate(soup.find_all(html_tag)):\n",
        "        file_url=link.get(source_tag)\n",
        "        print ('\\n',n+1,'. File url',file_url)\n",
        "        \n",
        "        \n",
        "        if 'http' in file_url: # check that it is a valid link\n",
        "            print('It is a valid url..')\n",
        "            \n",
        "            \n",
        "            if file_type in file_url: #only check for specific \n",
        "                # file type\n",
        "                \n",
        "                print('%s FILE TYPE FOUND IN THE URL...'%file_type)\n",
        "                file_name = os.path.splitext(os.path.basename(file_url))[0] + file_type \n",
        "                #extract file name from url\n",
        "\n",
        "                file_source = requests.get(file_url, stream = True)\n",
        "             \n",
        "                # open new stream connection\n",
        "\n",
        "                with open('./files/'+file_name, 'wb') as file: \n",
        "                    # open file connection, create file and \n",
        "                    # write to it\n",
        "                    \n",
        "                    shutil.copyfileobj(file_source.raw, file) \n",
        "                    # save the raw file object\n",
        "                    \n",
        "                    print('DOWNLOADED:',file_name)\n",
        "                    \n",
        "                    i+=1\n",
        "                    \n",
        "                del file_source # delete from memory\n",
        "            else:\n",
        "                print('%s file type NOT found in url:'%file_type)\n",
        "                print('EXCLUDED:',file_url) \n",
        "                # urls not downloaded from\n",
        "                \n",
        "        if i == max:\n",
        "            print('Max reached')\n",
        "            break\n",
        "            \n",
        "\n",
        "    print('Done!')"
      ],
      "execution_count": null,
      "outputs": []
    },
    {
      "cell_type": "markdown",
      "metadata": {
        "id": "8fNRR7_QUg3H",
        "colab_type": "text"
      },
      "source": [
        "# Scrape funny cat pictures"
      ]
    },
    {
      "cell_type": "code",
      "metadata": {
        "scrolled": true,
        "id": "5oWhsozXUg3H",
        "colab_type": "code",
        "colab": {
          "base_uri": "https://localhost:8080/"
        },
        "outputId": "29dc88b7-3e3c-4ce4-fbb9-96604b321c56"
      },
      "source": [
        "py_file_scraper('https://funcatpictures.com/') \n",
        "# scrape cats"
      ],
      "execution_count": null,
      "outputs": [
        {
          "output_type": "stream",
          "text": [
            "Loading content from the url...\n",
            "Creating content soup...\n",
            "Finding tag:img...\n",
            "\n",
            " 1 . File url https://funcatpictures.com/wp-content/uploads/2018/03/fcp2018.png\n",
            "It is a valid url..\n",
            ".jpg file type NOT found in url:\n",
            "EXCLUDED: https://funcatpictures.com/wp-content/uploads/2018/03/fcp2018.png\n",
            "\n",
            " 2 . File url https://funcatpictures.com/wp-content/uploads/2020/06/filmkvall.jpg\n",
            "It is a valid url..\n",
            ".jpg FILE TYPE FOUND IN THE URL...\n",
            "DOWNLOADED: filmkvall.jpg\n",
            "\n",
            " 3 . File url https://funcatpictures.com/wp-content/uploads/2020/05/funny-cat-greeting-700x859.jpg\n",
            "It is a valid url..\n",
            ".jpg FILE TYPE FOUND IN THE URL...\n",
            "DOWNLOADED: funny-cat-greeting-700x859.jpg\n",
            "\n",
            " 4 . File url https://funcatpictures.com/wp-content/uploads/2020/04/fun-cat-pictures-lazy-cat-700x881.jpg\n",
            "It is a valid url..\n",
            ".jpg FILE TYPE FOUND IN THE URL...\n",
            "DOWNLOADED: fun-cat-pictures-lazy-cat-700x881.jpg\n",
            "\n",
            " 5 . File url https://funcatpictures.com/wp-content/uploads/2020/03/funny-cat-when-you-think-youre-done-arguing-700x893.jpg\n",
            "It is a valid url..\n",
            ".jpg FILE TYPE FOUND IN THE URL...\n",
            "DOWNLOADED: funny-cat-when-you-think-youre-done-arguing-700x893.jpg\n",
            "\n",
            " 6 . File url https://funcatpictures.com/wp-content/uploads/2020/03/fun-cat-pictures-if-ed-sheeran-was-a-cat-700x771.jpg\n",
            "It is a valid url..\n",
            ".jpg FILE TYPE FOUND IN THE URL...\n",
            "DOWNLOADED: fun-cat-pictures-if-ed-sheeran-was-a-cat-700x771.jpg\n",
            "\n",
            " 7 . File url https://funcatpictures.com/wp-content/uploads/2020/03/funny-cat-notices-your-new-couch-700x633.gif\n",
            "It is a valid url..\n",
            ".jpg file type NOT found in url:\n",
            "EXCLUDED: https://funcatpictures.com/wp-content/uploads/2020/03/funny-cat-notices-your-new-couch-700x633.gif\n",
            "\n",
            " 8 . File url https://funcatpictures.com/wp-content/uploads/2020/06/filmkvall-150x150.jpg\n",
            "It is a valid url..\n",
            ".jpg FILE TYPE FOUND IN THE URL...\n",
            "DOWNLOADED: filmkvall-150x150.jpg\n",
            "\n",
            " 9 . File url https://funcatpictures.com/wp-content/uploads/2020/05/funny-cat-greeting-150x150.jpg\n",
            "It is a valid url..\n",
            ".jpg FILE TYPE FOUND IN THE URL...\n",
            "DOWNLOADED: funny-cat-greeting-150x150.jpg\n",
            "\n",
            " 10 . File url https://funcatpictures.com/wp-content/uploads/2020/04/fun-cat-pictures-lazy-cat-150x150.jpg\n",
            "It is a valid url..\n",
            ".jpg FILE TYPE FOUND IN THE URL...\n",
            "DOWNLOADED: fun-cat-pictures-lazy-cat-150x150.jpg\n",
            "\n",
            " 11 . File url https://funcatpictures.com/wp-content/uploads/2020/03/funny-cat-when-you-think-youre-done-arguing-150x150.jpg\n",
            "It is a valid url..\n",
            ".jpg FILE TYPE FOUND IN THE URL...\n",
            "DOWNLOADED: funny-cat-when-you-think-youre-done-arguing-150x150.jpg\n",
            "\n",
            " 12 . File url https://funcatpictures.com/wp-content/uploads/2020/03/fun-cat-pictures-if-ed-sheeran-was-a-cat-150x150.jpg\n",
            "It is a valid url..\n",
            ".jpg FILE TYPE FOUND IN THE URL...\n",
            "DOWNLOADED: fun-cat-pictures-if-ed-sheeran-was-a-cat-150x150.jpg\n",
            "Done!\n"
          ],
          "name": "stdout"
        }
      ]
    },
    {
      "cell_type": "code",
      "metadata": {
        "id": "t_ktDHHwUg3J",
        "colab_type": "code",
        "colab": {
          "base_uri": "https://localhost:8080/"
        },
        "outputId": "0752ff4c-5311-4290-d42a-2321345d8422"
      },
      "source": [
        "!ls ./files"
      ],
      "execution_count": null,
      "outputs": [
        {
          "output_type": "stream",
          "text": [
            "filmkvall-150x150.jpg\n",
            "filmkvall.jpg\n",
            "fun-cat-pictures-if-ed-sheeran-was-a-cat-150x150.jpg\n",
            "fun-cat-pictures-if-ed-sheeran-was-a-cat-700x771.jpg\n",
            "fun-cat-pictures-lazy-cat-150x150.jpg\n",
            "fun-cat-pictures-lazy-cat-700x881.jpg\n",
            "funny-cat-greeting-150x150.jpg\n",
            "funny-cat-greeting-700x859.jpg\n",
            "funny-cat-when-you-think-youre-done-arguing-150x150.jpg\n",
            "funny-cat-when-you-think-youre-done-arguing-700x893.jpg\n"
          ],
          "name": "stdout"
        }
      ]
    },
    {
      "cell_type": "markdown",
      "metadata": {
        "id": "rlyUE2U1Ug3P",
        "colab_type": "text"
      },
      "source": [
        "# Scrape real data CSV files from websites"
      ]
    },
    {
      "cell_type": "code",
      "metadata": {
        "scrolled": true,
        "id": "XF_1nkeNUg3P",
        "colab_type": "code",
        "colab": {
          "base_uri": "https://localhost:8080/"
        },
        "outputId": "f35fecb5-bb8d-4bc2-a565-d6757a634f23"
      },
      "source": [
        "py_file_scraper('http://www-eio.upc.edu/~pau/cms/rdata/datasets.html',\n",
        "                html_tag='a', # R data sets\n",
        "                source_tag='href', file_type='.csv',max=5)"
      ],
      "execution_count": null,
      "outputs": [
        {
          "output_type": "stream",
          "text": [
            "Loading content from the url...\n",
            "Creating content soup...\n",
            "Finding tag:a...\n",
            "\n",
            " 1 . File url http://www-eio.upc.edu/~pau/cms/rdata/csv/datasets/AirPassengers.csv\n",
            "It is a valid url..\n",
            ".csv FILE TYPE FOUND IN THE URL...\n",
            "DOWNLOADED: AirPassengers.csv\n",
            "\n",
            " 2 . File url http://www-eio.upc.edu/~pau/cms/rdata/doc/datasets/AirPassengers.html\n",
            "It is a valid url..\n",
            ".csv file type NOT found in url:\n",
            "EXCLUDED: http://www-eio.upc.edu/~pau/cms/rdata/doc/datasets/AirPassengers.html\n",
            "\n",
            " 3 . File url http://www-eio.upc.edu/~pau/cms/rdata/csv/datasets/BJsales.csv\n",
            "It is a valid url..\n",
            ".csv FILE TYPE FOUND IN THE URL...\n",
            "DOWNLOADED: BJsales.csv\n",
            "\n",
            " 4 . File url http://www-eio.upc.edu/~pau/cms/rdata/doc/datasets/BJsales.html\n",
            "It is a valid url..\n",
            ".csv file type NOT found in url:\n",
            "EXCLUDED: http://www-eio.upc.edu/~pau/cms/rdata/doc/datasets/BJsales.html\n",
            "\n",
            " 5 . File url http://www-eio.upc.edu/~pau/cms/rdata/csv/datasets/BOD.csv\n",
            "It is a valid url..\n",
            ".csv FILE TYPE FOUND IN THE URL...\n",
            "DOWNLOADED: BOD.csv\n",
            "\n",
            " 6 . File url http://www-eio.upc.edu/~pau/cms/rdata/doc/datasets/BOD.html\n",
            "It is a valid url..\n",
            ".csv file type NOT found in url:\n",
            "EXCLUDED: http://www-eio.upc.edu/~pau/cms/rdata/doc/datasets/BOD.html\n",
            "\n",
            " 7 . File url http://www-eio.upc.edu/~pau/cms/rdata/csv/datasets/Formaldehyde.csv\n",
            "It is a valid url..\n",
            ".csv FILE TYPE FOUND IN THE URL...\n",
            "DOWNLOADED: Formaldehyde.csv\n",
            "\n",
            " 8 . File url http://www-eio.upc.edu/~pau/cms/rdata/doc/datasets/Formaldehyde.html\n",
            "It is a valid url..\n",
            ".csv file type NOT found in url:\n",
            "EXCLUDED: http://www-eio.upc.edu/~pau/cms/rdata/doc/datasets/Formaldehyde.html\n",
            "\n",
            " 9 . File url http://www-eio.upc.edu/~pau/cms/rdata/csv/datasets/HairEyeColor.csv\n",
            "It is a valid url..\n",
            ".csv FILE TYPE FOUND IN THE URL...\n",
            "DOWNLOADED: HairEyeColor.csv\n",
            "Max reached\n",
            "Done!\n"
          ],
          "name": "stdout"
        }
      ]
    },
    {
      "cell_type": "markdown",
      "metadata": {
        "id": "zSRubDrEUg3R",
        "colab_type": "text"
      },
      "source": [
        "# Extended tip: IP rotation\n",
        "\n",
        "The website might get suspicious if a lot of requests are coming from the same IP address. If you use a shared proxy, VPN or TOR that can help you get around that problem\n",
        "\n",
        "For example:\n",
        "\n",
        "```pyton\n",
        "proxies = {'http' : 'http://10.10.0.0:0000',  \n",
        "          'https': 'http://120.10.0.0:0000'}\n",
        "response = requests.get('https://whateverwebsite.com', proxies=proxies, timeout=5)\n",
        "\n",
        "```\n",
        "\n",
        "Also note the `timeout` argument, this specifies that the request should not be carried out indefinitely (prevents the webserver from detecting scraping activity).\n",
        " \n",
        "\n",
        "By using a shared proxy, the website will see the IP address of the proxy server and not yours. A VPN connects you to another network and the IP address of the VPN provider will be sent to the website."
      ]
    },
    {
      "cell_type": "markdown",
      "metadata": {
        "id": "TnMeFM0XUg3S",
        "colab_type": "text"
      },
      "source": [
        "## Again, be NICE. Don't use IP rotation unless you know the content is cached and/or you know the website can handle your load."
      ]
    },
    {
      "cell_type": "markdown",
      "metadata": {
        "id": "Pgxog_7UUg3S",
        "colab_type": "text"
      },
      "source": [
        "## Websites often rely on IP blocking, rate limiting and other techniques to either:\n",
        "\n",
        "a) Dissuade web scraping\n",
        "\n",
        "b) Block large web scraping requests that turn to Denial of Service (DOS)\n",
        "\n",
        "c) Block scraping on restricted parts of the website"
      ]
    },
    {
      "cell_type": "markdown",
      "metadata": {
        "id": "U9rho3HLUg3S",
        "colab_type": "text"
      },
      "source": [
        "## IP Blocking\n",
        "- The IP address of your machine(s) is temporarily blocked. (If you are using a VPN, often times this means the *VPNs* IP is blocked, which can inconvenience others using the VPN. Be careful.)"
      ]
    },
    {
      "cell_type": "markdown",
      "metadata": {
        "id": "Z798_m49Ug3T",
        "colab_type": "text"
      },
      "source": [
        "## Rate Limiting\n",
        "- You might get a 4xx http error if you scrape websites at a higher rate than they can handle. Rate limiting is often multi-tiered, i.e you can be limited per second (concurrent requests), per minute or per hour. Rate limits are sometimes temporary but can be permanent (IP Block) if you routinely hit rate limits.\n",
        "\n",
        "<center><img src=\"https://media.giphy.com/media/8abAbOrQ9rvLG/giphy.gif\"></center>"
      ]
    },
    {
      "cell_type": "markdown",
      "metadata": {
        "id": "QgdY-QZ4Ug3T",
        "colab_type": "text"
      },
      "source": [
        "## Honeypot Servers\n",
        "- If you are not nice and continue scraping websites at high rates, websites can route your request to special \"Honeypot\" Servers, which essentially redirect your requests to servers that are designed to waste your CPU resources."
      ]
    },
    {
      "cell_type": "markdown",
      "metadata": {
        "id": "VCfQmOgBUg3T",
        "colab_type": "text"
      },
      "source": [
        "---\n",
        "<a id='secBK'></a>\n",
        "# Breakout problem\n",
        "\n",
        "\n",
        "In this Breakout Problem you should extract live weather data in Berkeley from:\n",
        "\n",
        "[http://forecast.weather.gov/MapClick.php?lat=37.87158815800046&lon=-122.27274583799971](http://forecast.weather.gov/MapClick.php?lat=37.87158815800046&lon=-122.27274583799971)\n",
        "\n",
        "* Task scrape\n",
        "    * period / day (as Tonight, Friday, FridayNight etc.)\n",
        "    * the temperature for the period (as Low, High)\n",
        "    * the long weather description (e.g. Partly cloudy, with a low around 49..)\n",
        "    \n",
        "Store the scraped data strings in a Pandas DataFrame\n",
        "\n",
        "\n",
        "\n",
        "**Hint:** The weather information is found in a div tag with `id='seven-day-forecast'`\n",
        "\n"
      ]
    },
    {
      "cell_type": "markdown",
      "metadata": {
        "id": "-YSoP99ZUg3U",
        "colab_type": "text"
      },
      "source": [
        "\n",
        "# Appendix"
      ]
    },
    {
      "cell_type": "markdown",
      "metadata": {
        "id": "0TaAIzKbUg3U",
        "colab_type": "text"
      },
      "source": [
        "<a id='sec6'></a>\n",
        "# Scrape Bloomberg sitemap (XML) for current political news"
      ]
    },
    {
      "cell_type": "code",
      "metadata": {
        "id": "2O_U1DFDUg3V",
        "colab_type": "code",
        "colab": {
          "base_uri": "https://localhost:8080/"
        },
        "outputId": "aa19bef7-6563-4061-ac3e-2aa65ec7467d"
      },
      "source": [
        "# XML documents - site maps, all the urls. just between tags\n",
        "# XML human and machine readable.\n",
        "# Newest links: all the links for FIND SITE MAP!\n",
        "# News websites will have sitemaps for politics, bot constantly\n",
        "# tracking news track the sitemaps\n",
        "\n",
        "# Before scraping a website look at robots.txt file\n",
        "bs.BeautifulSoup(requests.get('https://www.bloomberg.com/robots.txt').content,'lxml')"
      ],
      "execution_count": null,
      "outputs": [
        {
          "output_type": "execute_result",
          "data": {
            "text/plain": [
              "<html><body><p># Bot rules:\n",
              "# 1. A bot may not injure a human being or, through inaction, allow a human being to come to harm.\n",
              "# 2. A bot must obey orders given it by human beings except where such orders would conflict with the First Law.\n",
              "# 3. A bot must protect its own existence as long as such protection does not conflict with the First or Second Law.\n",
              "# If you can read this then you should apply here https://www.bloomberg.com/careers/\n",
              "User-agent: *\n",
              "Disallow: /polska\n",
              "Disallow: /account/*\n",
              "\n",
              "User-agent: Mediapartners-Google\n",
              "Disallow: /about/careers\n",
              "Disallow: /about/careers/\n",
              "Disallow: /offlinemessage/\n",
              "Disallow: /apps/fbk\n",
              "Disallow: /bb/newsarchive/\n",
              "Disallow: /apps/news\n",
              "\n",
              "User-agent: Spinn3r\n",
              "Disallow: /podcasts/\n",
              "Disallow: /feed/podcast/\n",
              "Disallow: /bb/avfile/\n",
              "\n",
              "User-agent: Googlebot-News\n",
              "Disallow: /sponsor/\n",
              "Disallow: /news/sponsors/*\n",
              "\n",
              "Sitemap: https://www.bloomberg.com/sitemap.xml\n",
              "Sitemap: https://www.bloomberg.com/feeds/bbiz/sitemap_index.xml\n",
              "Sitemap: https://www.bloomberg.com/feeds/bpol/sitemap_index.xml\n",
              "Sitemap: https://www.bloomberg.com/feeds/businessweek/sitemap_index.xml\n",
              "Sitemap: https://www.bloomberg.com/feeds/citylab/sitemap_index.xml\n",
              "Sitemap: https://www.bloomberg.com/feeds/green/sitemap_index.xml\n",
              "Sitemap: https://www.bloomberg.com/feeds/technology/sitemap_index.xml\n",
              "Sitemap: https://www.bloomberg.com/feeds/bbiz/sitemap_securities_index.xml\n",
              "Sitemap: https://www.bloomberg.com/feeds/bbiz/sitemap_profiles_company_index.xml\n",
              "Sitemap: https://www.bloomberg.com/billionaires/sitemap.xml\n",
              "Sitemap: https://www.bloomberg.com/feeds/bbiz/sitemap_news.xml\n",
              "Sitemap: https://www.bloomberg.com/feeds/dynamic/private-company-index.xml\n",
              "Sitemap: https://www.bloomberg.com/feeds/dynamic/person-index.xml\n",
              "Sitemap: https://www.bloomberg.com/feeds/curated/feeds/graphics_news.xml\n",
              "Sitemap: https://www.bloomberg.com/feeds/curated/feeds/graphics_sitemap.xml\n",
              "Sitemap: https://www.bloomberg.com/pursuits/property-listings/sitemap.xml\n",
              "</p></body></html>"
            ]
          },
          "metadata": {
            "tags": []
          },
          "execution_count": 47
        }
      ]
    },
    {
      "cell_type": "code",
      "metadata": {
        "id": "Z347Tx8AUg3Y",
        "colab_type": "code",
        "colab": {}
      },
      "source": [
        "source = requests.get('https://www.bloomberg.com/feeds/bpol/sitemap_news.xml').content\n",
        "soup = bs.BeautifulSoup(source,'xml') # Note parser 'xml'"
      ],
      "execution_count": null,
      "outputs": []
    },
    {
      "cell_type": "code",
      "metadata": {
        "id": "DfXZ_h7NUg3b",
        "colab_type": "code",
        "colab": {
          "base_uri": "https://localhost:8080/"
        },
        "outputId": "9eabacdc-f807-43b1-8c62-83dd971cbb56"
      },
      "source": [
        "print(soup.prettify())"
      ],
      "execution_count": null,
      "outputs": [
        {
          "output_type": "stream",
          "text": [
            "<?xml version=\"1.0\" encoding=\"utf-8\"?>\n",
            "<urlset xmlns=\"http://www.sitemaps.org/schemas/sitemap/0.9\" xmlns:image=\"http://www.google.com/schemas/sitemap-image/1.1\" xmlns:news=\"http://www.google.com/schemas/sitemap-news/0.9\">\n",
            " <url>\n",
            "  <loc>\n",
            "   https://www.bloomberg.com/news/articles/2020-06-26/mexico-city-s-public-security-chief-wounded-in-shooting\n",
            "  </loc>\n",
            "  <news:news>\n",
            "   <news:publication>\n",
            "    <news:name>\n",
            "     Bloomberg\n",
            "    </news:name>\n",
            "    <news:language>\n",
            "     en\n",
            "    </news:language>\n",
            "   </news:publication>\n",
            "   <news:publication_date>\n",
            "    2020-06-28T00:31:32.800Z\n",
            "   </news:publication_date>\n",
            "   <news:title>\n",
            "    Mexico City’s Police Chief Recovering From Bullet Wounds in Cartel Ambush\n",
            "   </news:title>\n",
            "   <news:keywords>\n",
            "    Drugs, Foreign Affairs, Human Rights, Law, Economic Development, Android, Sport Utility Vehicles, iPhone, Government, War, Cities, National Security, Economics, ESG Concerns, Emerging Markets, Infrastructure, Mobile Phones, Automotive, Megacity, ESG, Consumer Discretionary, Emerging Markets Economics, Transportation, Ulises Fernandez De Lara, Omar Garcia\n",
            "   </news:keywords>\n",
            "   <news:stock_tickers>\n",
            "    NYSE:TWTR\n",
            "   </news:stock_tickers>\n",
            "  </news:news>\n",
            "  <image:image>\n",
            "   <image:loc>\n",
            "    https://assets.bwbx.io/images/users/iqjWHBFdfxIU/iAOEGp6VTvsQ/v1/1200x-1.jpg\n",
            "   </image:loc>\n",
            "   <image:license>\n",
            "    https://www.bloomberg.com/tos\n",
            "   </image:license>\n",
            "  </image:image>\n",
            " </url>\n",
            " <url>\n",
            "  <loc>\n",
            "   https://www.bloomberg.com/news/articles/2020-06-27/trump-tweets-wanted-posters-of-people-in-statue-teardown-attempt\n",
            "  </loc>\n",
            "  <news:news>\n",
            "   <news:publication>\n",
            "    <news:name>\n",
            "     Bloomberg\n",
            "    </news:name>\n",
            "    <news:language>\n",
            "     en\n",
            "    </news:language>\n",
            "   </news:publication>\n",
            "   <news:publication_date>\n",
            "    2020-06-27T23:53:34.944Z\n",
            "   </news:publication_date>\n",
            "   <news:title>\n",
            "    Trump Tweets Wanted Posters of People in Statue-Teardown Attempt\n",
            "   </news:title>\n",
            "   <news:keywords>\n",
            "    Golf, Social Media, Policy, Conservative, Law, Government, Megacity, Joseph Robinette Biden, Donald John Trump\n",
            "   </news:keywords>\n",
            "   <news:stock_tickers>\n",
            "    NYSE:TWTR\n",
            "   </news:stock_tickers>\n",
            "  </news:news>\n",
            "  <image:image>\n",
            "   <image:loc>\n",
            "    https://assets.bwbx.io/images/users/iqjWHBFdfxIU/i8UBMon2yReA/v0/1200x-1.jpg\n",
            "   </image:loc>\n",
            "   <image:license>\n",
            "    https://www.bloomberg.com/tos\n",
            "   </image:license>\n",
            "  </image:image>\n",
            " </url>\n",
            " <url>\n",
            "  <loc>\n",
            "   https://www.bloomberg.com/news/articles/2020-06-27/biden-slams-trump-for-inaction-after-russian-bounty-report\n",
            "  </loc>\n",
            "  <news:news>\n",
            "   <news:publication>\n",
            "    <news:name>\n",
            "     Bloomberg\n",
            "    </news:name>\n",
            "    <news:language>\n",
            "     en\n",
            "    </news:language>\n",
            "   </news:publication>\n",
            "   <news:publication_date>\n",
            "    2020-06-27T22:53:29.312Z\n",
            "   </news:publication_date>\n",
            "   <news:title>\n",
            "    White House Denies Trump Briefed on Russia’s ‘Bounty’ Plan\n",
            "   </news:title>\n",
            "   <news:keywords>\n",
            "    Congress, National Security, Military, Emerging Markets, BRICS, Lindsey Olin Graham, Joseph Robinette Biden, Vladimir Putin, Donald John Trump\n",
            "   </news:keywords>\n",
            "   <news:stock_tickers>\n",
            "    NYSE:TWTR, NYSE:NYT\n",
            "   </news:stock_tickers>\n",
            "  </news:news>\n",
            "  <image:image>\n",
            "   <image:loc>\n",
            "    https://assets.bwbx.io/images/users/iqjWHBFdfxIU/ipqKY.m.rKlg/v2/1200x-1.jpg\n",
            "   </image:loc>\n",
            "   <image:license>\n",
            "    https://www.bloomberg.com/tos\n",
            "   </image:license>\n",
            "  </image:image>\n",
            " </url>\n",
            " <url>\n",
            "  <loc>\n",
            "   https://www.bloomberg.com/news/articles/2020-06-27/pence-events-postponed-in-arizona-florida-as-virus-cases-spike\n",
            "  </loc>\n",
            "  <news:news>\n",
            "   <news:publication>\n",
            "    <news:name>\n",
            "     Bloomberg\n",
            "    </news:name>\n",
            "    <news:language>\n",
            "     en\n",
            "    </news:language>\n",
            "   </news:publication>\n",
            "   <news:publication_date>\n",
            "    2020-06-27T22:16:05.380Z\n",
            "   </news:publication_date>\n",
            "   <news:title>\n",
            "    Pence’s Arizona, Florida Events Scrapped as Virus Cases Jump\n",
            "   </news:title>\n",
            "   <news:keywords>\n",
            "    Media, Travel, Public Health, Coronavirus, Media and Entertainment, Donald John Trump, Michael Richard Pence\n",
            "   </news:keywords>\n",
            "   <news:stock_tickers/>\n",
            "  </news:news>\n",
            "  <image:image>\n",
            "   <image:loc>\n",
            "    https://assets.bwbx.io/images/users/iqjWHBFdfxIU/iWhey_1ZPF68/v1/1200x-1.jpg\n",
            "   </image:loc>\n",
            "   <image:license>\n",
            "    https://www.bloomberg.com/tos\n",
            "   </image:license>\n",
            "  </image:image>\n",
            " </url>\n",
            " <url>\n",
            "  <loc>\n",
            "   https://www.bloomberg.com/news/articles/2020-06-26/u-s-cases-up-1-7-fauci-urges-public-to-do-more-virus-update\n",
            "  </loc>\n",
            "  <news:news>\n",
            "   <news:publication>\n",
            "    <news:name>\n",
            "     Bloomberg\n",
            "    </news:name>\n",
            "    <news:language>\n",
            "     en\n",
            "    </news:language>\n",
            "   </news:publication>\n",
            "   <news:publication_date>\n",
            "    2020-06-27T21:07:36.458Z\n",
            "   </news:publication_date>\n",
            "   <news:title>\n",
            "    Pence Delays Campaign Events; U.S. Cases Jump 1.9%: Virus Update\n",
            "   </news:title>\n",
            "   <news:keywords>\n",
            "    Science, Aviation, Government, prognosis, Coronavirus, Culture, Emerging Markets, BRICS, Christoph Franz, Jason Day, Dennis E McCarthy, Michael Richard Pence\n",
            "   </news:keywords>\n",
            "   <news:stock_tickers>\n",
            "    VTX:ROG, NYSE:TWTR, LON:AZN\n",
            "   </news:stock_tickers>\n",
            "  </news:news>\n",
            "  <image:image>\n",
            "   <image:loc>\n",
            "    https://assets.bwbx.io/images/users/iqjWHBFdfxIU/iMhtm0Bh1Hz8/v1/1200x-1.png\n",
            "   </image:loc>\n",
            "   <image:license>\n",
            "    https://www.bloomberg.com/tos\n",
            "   </image:license>\n",
            "  </image:image>\n",
            " </url>\n",
            " <url>\n",
            "  <loc>\n",
            "   https://www.bloomberg.com/news/articles/2020-06-28/biden-campaign-staff-more-than-half-women-35-people-of-color\n",
            "  </loc>\n",
            "  <news:news>\n",
            "   <news:publication>\n",
            "    <news:name>\n",
            "     Bloomberg\n",
            "    </news:name>\n",
            "    <news:language>\n",
            "     en\n",
            "    </news:language>\n",
            "   </news:publication>\n",
            "   <news:publication_date>\n",
            "    2020-06-28T01:18:45.276Z\n",
            "   </news:publication_date>\n",
            "   <news:title>\n",
            "    Trump and Biden Say Campaign Staffs Are More Than Half Women\n",
            "   </news:title>\n",
            "   <news:keywords>\n",
            "    Immigration, Women, Equality, ESG Concerns, Inclusion, Gender Equality, Donald John Trump, Joseph Robinette Biden\n",
            "   </news:keywords>\n",
            "   <news:stock_tickers/>\n",
            "  </news:news>\n",
            "  <image:image>\n",
            "   <image:loc>\n",
            "    https://assets.bwbx.io/images/users/iqjWHBFdfxIU/ijYrBOPOB_aE/v0/1200x-1.jpg\n",
            "   </image:loc>\n",
            "   <image:license>\n",
            "    https://www.bloomberg.com/tos\n",
            "   </image:license>\n",
            "  </image:image>\n",
            " </url>\n",
            " <url>\n",
            "  <loc>\n",
            "   https://www.bloomberg.com/news/articles/2020-06-27/florida-covid-19-cases-rise-by-9-585-most-during-pandemic\n",
            "  </loc>\n",
            "  <news:news>\n",
            "   <news:publication>\n",
            "    <news:name>\n",
            "     Bloomberg\n",
            "    </news:name>\n",
            "    <news:language>\n",
            "     en\n",
            "    </news:language>\n",
            "   </news:publication>\n",
            "   <news:publication_date>\n",
            "    2020-06-27T19:40:39.665Z\n",
            "   </news:publication_date>\n",
            "   <news:title>\n",
            "    Florida Covid-19 Cases Rise by 9,585, Most During Pandemic\n",
            "   </news:title>\n",
            "   <news:keywords>\n",
            "    Cities, Coronavirus, Carlos Gimenez\n",
            "   </news:keywords>\n",
            "   <news:stock_tickers/>\n",
            "  </news:news>\n",
            "  <image:image>\n",
            "   <image:loc>\n",
            "    https://assets.bwbx.io/images/users/iqjWHBFdfxIU/ikfHIblD6Hm0/v1/1200x-1.jpg\n",
            "   </image:loc>\n",
            "   <image:license>\n",
            "    https://www.bloomberg.com/tos\n",
            "   </image:license>\n",
            "  </image:image>\n",
            " </url>\n",
            " <url>\n",
            "  <loc>\n",
            "   https://www.bloomberg.com/news/articles/2020-06-27/ireland-s-martin-wins-two-years-to-beat-nation-s-greatest-crisis\n",
            "  </loc>\n",
            "  <news:news>\n",
            "   <news:publication>\n",
            "    <news:name>\n",
            "     Bloomberg\n",
            "    </news:name>\n",
            "    <news:language>\n",
            "     en\n",
            "    </news:language>\n",
            "   </news:publication>\n",
            "   <news:publication_date>\n",
            "    2020-06-27T18:03:09.383Z\n",
            "   </news:publication_date>\n",
            "   <news:title>\n",
            "    Martin Wins Two Years to Beat Ireland’s Greatest Crisis\n",
            "   </news:title>\n",
            "   <news:keywords>\n",
            "    Unemployment, Bonds, Career, Foreign Affairs, Brexit, Jobs, Coronavirus, Government, Well Spent, Fixed Income, Global Trade\n",
            "   </news:keywords>\n",
            "   <news:stock_tickers/>\n",
            "  </news:news>\n",
            "  <image:image>\n",
            "   <image:loc>\n",
            "    https://assets.bwbx.io/images/users/iqjWHBFdfxIU/iTKf0fqwjguA/v2/1200x-1.jpg\n",
            "   </image:loc>\n",
            "   <image:license>\n",
            "    https://www.bloomberg.com/tos\n",
            "   </image:license>\n",
            "  </image:image>\n",
            " </url>\n",
            " <url>\n",
            "  <loc>\n",
            "   https://www.bloomberg.com/news/articles/2020-06-28/china-lawmaking-body-adds-hk-security-law-to-agenda-now-tv-says\n",
            "  </loc>\n",
            "  <news:news>\n",
            "   <news:publication>\n",
            "    <news:name>\n",
            "     Bloomberg\n",
            "    </news:name>\n",
            "    <news:language>\n",
            "     en\n",
            "    </news:language>\n",
            "   </news:publication>\n",
            "   <news:publication_date>\n",
            "    2020-06-28T01:58:15.298Z\n",
            "   </news:publication_date>\n",
            "   <news:title>\n",
            "    China Lawmaking Body Adds HK Security Law to Agenda, NOW TV Says\n",
            "   </news:title>\n",
            "   <news:keywords>\n",
            "    Media, Public Opinion, Government, Congress, Cities, Law, Emerging Markets, terror, BRICS, Materials, Megacity, Terrorism, Media and Entertainment, Yuk Yeung Ng, Jinping Xi\n",
            "   </news:keywords>\n",
            "   <news:stock_tickers>\n",
            "    KRX:004250\n",
            "   </news:stock_tickers>\n",
            "  </news:news>\n",
            "  <image:image>\n",
            "   <image:loc>\n",
            "    https://assets.bwbx.io/images/users/iqjWHBFdfxIU/iZRq2rurdRPw/v0/1200x-1.jpg\n",
            "   </image:loc>\n",
            "   <image:license>\n",
            "    https://www.bloomberg.com/tos\n",
            "   </image:license>\n",
            "  </image:image>\n",
            " </url>\n",
            " <url>\n",
            "  <loc>\n",
            "   https://www.bloomberg.com/news/articles/2020-06-27/malawi-s-opposition-leader-clinches-victory-in-election-rerun\n",
            "  </loc>\n",
            "  <news:news>\n",
            "   <news:publication>\n",
            "    <news:name>\n",
            "     Bloomberg\n",
            "    </news:name>\n",
            "    <news:language>\n",
            "     en\n",
            "    </news:language>\n",
            "   </news:publication>\n",
            "   <news:publication_date>\n",
            "    2020-06-27T21:07:36.095Z\n",
            "   </news:publication_date>\n",
            "   <news:title>\n",
            "    Malawi’s Opposition Leader Clinches Victory in Election Rerun\n",
            "   </news:title>\n",
            "   <news:keywords>\n",
            "    Tourism, Economic Growth, Law, Farming, Jobs, Congress, World Bank, Government, Travel, Economics, Emerging Markets, Agriculture, Infrastructure, BRICS, Banking, Consumer Discretionary, Saulos Chilima\n",
            "   </news:keywords>\n",
            "   <news:stock_tickers/>\n",
            "  </news:news>\n",
            "  <image:image>\n",
            "   <image:loc>\n",
            "    https://assets.bwbx.io/images/users/iqjWHBFdfxIU/i2Fo.jkq_K4M/v1/1200x-1.jpg\n",
            "   </image:loc>\n",
            "   <image:license>\n",
            "    https://www.bloomberg.com/tos\n",
            "   </image:license>\n",
            "  </image:image>\n",
            " </url>\n",
            " <url>\n",
            "  <loc>\n",
            "   https://www.bloomberg.com/news/articles/2020-06-27/princeton-pulls-wilson-name-order-guards-statues-protest-wrap\n",
            "  </loc>\n",
            "  <news:news>\n",
            "   <news:publication>\n",
            "    <news:name>\n",
            "     Bloomberg\n",
            "    </news:name>\n",
            "    <news:language>\n",
            "     en\n",
            "    </news:language>\n",
            "   </news:publication>\n",
            "   <news:publication_date>\n",
            "    2020-06-28T04:55:48.835Z\n",
            "   </news:publication_date>\n",
            "   <news:title>\n",
            "    Princeton Erases Wilson; John Wayne at Risk in OC: Protest Wrap\n",
            "   </news:title>\n",
            "   <news:keywords>\n",
            "    Law, Coronavirus, Cities, Social Media, Policy, Culture, Hot Job, Consumer Staples, Megacity, Retail, Government, Lecia Brooks, Donald John Trump, John C Wayne\n",
            "   </news:keywords>\n",
            "   <news:stock_tickers>\n",
            "    NYSE:TWTR, NYSE:KO, AMS:UNA, NASDAQ:PEP, NASDAQ:FB\n",
            "   </news:stock_tickers>\n",
            "  </news:news>\n",
            "  <image:image>\n",
            "   <image:loc>\n",
            "    https://assets.bwbx.io/images/users/iqjWHBFdfxIU/i7bxTIIHqKh4/v1/1200x-1.jpg\n",
            "   </image:loc>\n",
            "   <image:license>\n",
            "    https://www.bloomberg.com/tos\n",
            "   </image:license>\n",
            "  </image:image>\n",
            " </url>\n",
            "</urlset>\n"
          ],
          "name": "stdout"
        }
      ]
    },
    {
      "cell_type": "code",
      "metadata": {
        "scrolled": true,
        "id": "Lg_jqG9_Ug3f",
        "colab_type": "code",
        "colab": {
          "base_uri": "https://localhost:8080/"
        },
        "outputId": "9ff8dc49-9158-4970-97bd-67a221766caa"
      },
      "source": [
        "# Find political news headlines\n",
        "for news in soup.find_all({'news'}):\n",
        "    print(news.title.text)\n",
        "    print(news.publication_date.text)\n",
        "    #print(news.keywords.text)\n",
        "    print('\\n')"
      ],
      "execution_count": null,
      "outputs": [
        {
          "output_type": "stream",
          "text": [
            "Mexico City’s Police Chief Recovering From Bullet Wounds in Cartel Ambush\n",
            "2020-06-28T00:31:32.800Z\n",
            "\n",
            "\n",
            "Trump Tweets Wanted Posters of People in Statue-Teardown Attempt\n",
            "2020-06-27T23:53:34.944Z\n",
            "\n",
            "\n",
            "White House Denies Trump Briefed on Russia’s ‘Bounty’ Plan\n",
            "2020-06-27T22:53:29.312Z\n",
            "\n",
            "\n",
            "Pence’s Arizona, Florida Events Scrapped as Virus Cases Jump\n",
            "2020-06-27T22:16:05.380Z\n",
            "\n",
            "\n",
            "Pence Delays Campaign Events; U.S. Cases Jump 1.9%: Virus Update\n",
            "2020-06-27T21:07:36.458Z\n",
            "\n",
            "\n",
            "Trump and Biden Say Campaign Staffs Are More Than Half Women\n",
            "2020-06-28T01:18:45.276Z\n",
            "\n",
            "\n",
            "Florida Covid-19 Cases Rise by 9,585, Most During Pandemic\n",
            "2020-06-27T19:40:39.665Z\n",
            "\n",
            "\n",
            "Martin Wins Two Years to Beat Ireland’s Greatest Crisis\n",
            "2020-06-27T18:03:09.383Z\n",
            "\n",
            "\n",
            "China Lawmaking Body Adds HK Security Law to Agenda, NOW TV Says\n",
            "2020-06-28T01:58:15.298Z\n",
            "\n",
            "\n",
            "Malawi’s Opposition Leader Clinches Victory in Election Rerun\n",
            "2020-06-27T21:07:36.095Z\n",
            "\n",
            "\n",
            "Princeton Erases Wilson; John Wayne at Risk in OC: Protest Wrap\n",
            "2020-06-28T04:55:48.835Z\n",
            "\n",
            "\n"
          ],
          "name": "stdout"
        }
      ]
    },
    {
      "cell_type": "markdown",
      "metadata": {
        "id": "YdRa7kiiUg3i",
        "colab_type": "text"
      },
      "source": [
        "<a id='sec7'></a>\n",
        "# Web crawl\n",
        "\n",
        "Web crawling is almost like webscraping, but instead you crawl a specific website (and often its subsites) and extract meta information. It can be seen as simple, recursive scraping. This can be used for web indexing (in order to build a web search engine)."
      ]
    },
    {
      "cell_type": "markdown",
      "metadata": {
        "id": "GLC3m-yEUg3i",
        "colab_type": "text"
      },
      "source": [
        "## Web crawl Twitter account\n",
        "**Authors:** Kunal Desai & Alexander Fred Ojala"
      ]
    },
    {
      "cell_type": "code",
      "metadata": {
        "id": "SxC8fuaeUg3i",
        "colab_type": "code",
        "colab": {}
      },
      "source": [
        "import bs4\n",
        "from bs4 import BeautifulSoup\n",
        "import requests"
      ],
      "execution_count": null,
      "outputs": []
    },
    {
      "cell_type": "code",
      "metadata": {
        "id": "B6iz46YLUg3m",
        "colab_type": "code",
        "colab": {}
      },
      "source": [
        "# Helper function to maintain the urls and the number of times they appear\n",
        "\n",
        "url_dict = dict()\n",
        "\n",
        "def add_to_dict(url_d, key):\n",
        "    if key in url_d:\n",
        "        url_d[key] = url_d[key] + 1\n",
        "    else:\n",
        "        url_d[key] = 1"
      ],
      "execution_count": null,
      "outputs": []
    },
    {
      "cell_type": "code",
      "metadata": {
        "id": "v9Ahqmg7Ug3p",
        "colab_type": "code",
        "colab": {}
      },
      "source": [
        "# Recursive function which extracts links from the given url upto a given 'depth'.\n",
        "\n",
        "def get_urls(url, depth):\n",
        "    if depth == 0:\n",
        "        return\n",
        "    r = requests.get(url)\n",
        "    soup = BeautifulSoup(r.text, 'html.parser')\n",
        "    for link in soup.find_all('a'):\n",
        "        if link.has_attr('href') and \"https://\" in link['href']:\n",
        "#             print(link['href'])\n",
        "            add_to_dict(url_dict, link['href'])\n",
        "            get_urls(link['href'], depth - 1)"
      ],
      "execution_count": null,
      "outputs": []
    },
    {
      "cell_type": "code",
      "metadata": {
        "id": "nbsxCWMgUg3s",
        "colab_type": "code",
        "colab": {}
      },
      "source": [
        "# Iterative function which extracts links from the given url upto a given 'depth'.\n",
        "\n",
        "def get_urls_iterative(url, depth):\n",
        "    urls = [url]\n",
        "    for url in urls:\n",
        "        r = requests.get(url)\n",
        "        soup = BeautifulSoup(r.text, 'html.parser')\n",
        "        for link in soup.find_all('a'):\n",
        "            if link.has_attr('href') and \"https://\" in link['href']:\n",
        "                add_to_dict(url_dict, link['href'])\n",
        "                urls.append(link['href'])\n",
        "        if len(urls) > depth:\n",
        "            break"
      ],
      "execution_count": null,
      "outputs": []
    },
    {
      "cell_type": "code",
      "metadata": {
        "id": "MSIwJiEgUg3u",
        "colab_type": "code",
        "colab": {}
      },
      "source": [
        "get_urls(\"https://twitter.com/GolfWorld\", 2)\n",
        "for key in url_dict:\n",
        "    print(str(key) + \"  ----   \" + str(url_dict[key]))"
      ],
      "execution_count": null,
      "outputs": []
    },
    {
      "cell_type": "markdown",
      "metadata": {
        "id": "mVOx8Us5Ug3v",
        "colab_type": "text"
      },
      "source": [
        "<a id='sec8'></a>\n",
        "# SEO: Visualize sitemap and categories in a website\n",
        "\n",
        "**Source:** https://www.ayima.com/guides/how-to-visualize-an-xml-sitemap-using-python.html"
      ]
    },
    {
      "cell_type": "code",
      "metadata": {
        "id": "Lh5gUlBzUg3w",
        "colab_type": "code",
        "colab": {
          "base_uri": "https://localhost:8080/"
        },
        "outputId": "f35ec054-3c5f-4ae6-bc5c-8f2cd24f65be"
      },
      "source": [
        "# Visualize XML sitemap with categories!\n",
        "import requests\n",
        "from bs4 import BeautifulSoup\n",
        "\n",
        "url = 'https://www.sportchek.ca/sitemap.xml'\n",
        "url = 'https://www.bloomberg.com/feeds/bpol/sitemap_index.xml'\n",
        "page = requests.get(url)\n",
        "print('Loaded page with: %s' % page)\n",
        "\n",
        "sitemap_index = BeautifulSoup(page.content, 'html.parser')\n",
        "print('Created %s object' % type(sitemap_index))"
      ],
      "execution_count": null,
      "outputs": [
        {
          "output_type": "stream",
          "text": [
            "Loaded page with: <Response [200]>\n",
            "Created <class 'bs4.BeautifulSoup'> object\n"
          ],
          "name": "stdout"
        }
      ]
    },
    {
      "cell_type": "code",
      "metadata": {
        "scrolled": true,
        "id": "IDloFQhHUg3x",
        "colab_type": "code",
        "colab": {
          "base_uri": "https://localhost:8080/"
        },
        "outputId": "b702f400-49ce-492b-fdfa-4362f33bb929"
      },
      "source": [
        "urls = [element.text for element in sitemap_index.findAll('loc')]\n",
        "print(urls)"
      ],
      "execution_count": null,
      "outputs": [
        {
          "output_type": "stream",
          "text": [
            "['https://www.bloomberg.com/feeds/bpol/sitemap_recent.xml', 'https://www.bloomberg.com/feeds/bpol/sitemap_news.xml', 'https://www.bloomberg.com/feeds/bpol/sitemap_video_recent.xml', 'https://www.bloomberg.com/feeds/bpol/sitemap_2020_6.xml', 'https://www.bloomberg.com/feeds/bpol/sitemap_2020_5.xml', 'https://www.bloomberg.com/feeds/bpol/sitemap_2020_4.xml', 'https://www.bloomberg.com/feeds/bpol/sitemap_2020_3.xml', 'https://www.bloomberg.com/feeds/bpol/sitemap_2020_2.xml', 'https://www.bloomberg.com/feeds/bpol/sitemap_2020_1.xml', 'https://www.bloomberg.com/feeds/bpol/sitemap_2019_12.xml', 'https://www.bloomberg.com/feeds/bpol/sitemap_2019_11.xml', 'https://www.bloomberg.com/feeds/bpol/sitemap_2019_10.xml', 'https://www.bloomberg.com/feeds/bpol/sitemap_2019_9.xml', 'https://www.bloomberg.com/feeds/bpol/sitemap_2019_8.xml', 'https://www.bloomberg.com/feeds/bpol/sitemap_2019_7.xml', 'https://www.bloomberg.com/feeds/bpol/sitemap_2019_6.xml', 'https://www.bloomberg.com/feeds/bpol/sitemap_2019_5.xml', 'https://www.bloomberg.com/feeds/bpol/sitemap_2019_4.xml', 'https://www.bloomberg.com/feeds/bpol/sitemap_2019_3.xml', 'https://www.bloomberg.com/feeds/bpol/sitemap_2019_2.xml', 'https://www.bloomberg.com/feeds/bpol/sitemap_2019_1.xml', 'https://www.bloomberg.com/feeds/bpol/sitemap_2018_12.xml', 'https://www.bloomberg.com/feeds/bpol/sitemap_2018_11.xml', 'https://www.bloomberg.com/feeds/bpol/sitemap_2018_10.xml', 'https://www.bloomberg.com/feeds/bpol/sitemap_2018_9.xml', 'https://www.bloomberg.com/feeds/bpol/sitemap_2018_8.xml', 'https://www.bloomberg.com/feeds/bpol/sitemap_2018_7.xml', 'https://www.bloomberg.com/feeds/bpol/sitemap_2018_6.xml', 'https://www.bloomberg.com/feeds/bpol/sitemap_2018_5.xml', 'https://www.bloomberg.com/feeds/bpol/sitemap_2018_4.xml', 'https://www.bloomberg.com/feeds/bpol/sitemap_2018_3.xml', 'https://www.bloomberg.com/feeds/bpol/sitemap_2018_2.xml', 'https://www.bloomberg.com/feeds/bpol/sitemap_2018_1.xml', 'https://www.bloomberg.com/feeds/bpol/sitemap_2017_12.xml', 'https://www.bloomberg.com/feeds/bpol/sitemap_2017_11.xml', 'https://www.bloomberg.com/feeds/bpol/sitemap_2017_10.xml', 'https://www.bloomberg.com/feeds/bpol/sitemap_2017_9.xml', 'https://www.bloomberg.com/feeds/bpol/sitemap_2017_8.xml', 'https://www.bloomberg.com/feeds/bpol/sitemap_2017_7.xml', 'https://www.bloomberg.com/feeds/bpol/sitemap_2017_6.xml', 'https://www.bloomberg.com/feeds/bpol/sitemap_2017_5.xml', 'https://www.bloomberg.com/feeds/bpol/sitemap_2017_4.xml', 'https://www.bloomberg.com/feeds/bpol/sitemap_2017_3.xml', 'https://www.bloomberg.com/feeds/bpol/sitemap_2017_2.xml', 'https://www.bloomberg.com/feeds/bpol/sitemap_2017_1.xml', 'https://www.bloomberg.com/feeds/bpol/sitemap_2016_12.xml', 'https://www.bloomberg.com/feeds/bpol/sitemap_2016_11.xml', 'https://www.bloomberg.com/feeds/bpol/sitemap_2016_10.xml', 'https://www.bloomberg.com/feeds/bpol/sitemap_2016_9.xml', 'https://www.bloomberg.com/feeds/bpol/sitemap_2016_8.xml', 'https://www.bloomberg.com/feeds/bpol/sitemap_2016_7.xml', 'https://www.bloomberg.com/feeds/bpol/sitemap_2016_6.xml', 'https://www.bloomberg.com/feeds/bpol/sitemap_2016_5.xml', 'https://www.bloomberg.com/feeds/bpol/sitemap_2016_4.xml', 'https://www.bloomberg.com/feeds/bpol/sitemap_2016_3.xml', 'https://www.bloomberg.com/feeds/bpol/sitemap_2016_2.xml', 'https://www.bloomberg.com/feeds/bpol/sitemap_2016_1.xml', 'https://www.bloomberg.com/feeds/bpol/sitemap_2015_12.xml', 'https://www.bloomberg.com/feeds/bpol/sitemap_2015_11.xml', 'https://www.bloomberg.com/feeds/bpol/sitemap_2015_10.xml', 'https://www.bloomberg.com/feeds/bpol/sitemap_2015_9.xml', 'https://www.bloomberg.com/feeds/bpol/sitemap_2015_8.xml', 'https://www.bloomberg.com/feeds/bpol/sitemap_2015_7.xml', 'https://www.bloomberg.com/feeds/bpol/sitemap_2015_6.xml', 'https://www.bloomberg.com/feeds/bpol/sitemap_2015_5.xml', 'https://www.bloomberg.com/feeds/bpol/sitemap_2015_4.xml', 'https://www.bloomberg.com/feeds/bpol/sitemap_2015_3.xml', 'https://www.bloomberg.com/feeds/bpol/sitemap_2015_2.xml', 'https://www.bloomberg.com/feeds/bpol/sitemap_2015_1.xml', 'https://www.bloomberg.com/feeds/bpol/sitemap_2014_12.xml', 'https://www.bloomberg.com/feeds/bpol/sitemap_2014_11.xml', 'https://www.bloomberg.com/feeds/bpol/sitemap_2014_10.xml', 'https://www.bloomberg.com/feeds/bpol/sitemap_2014_9.xml', 'https://www.bloomberg.com/feeds/bpol/sitemap_2014_8.xml', 'https://www.bloomberg.com/feeds/bpol/sitemap_2014_7.xml', 'https://www.bloomberg.com/feeds/bpol/sitemap_2014_6.xml', 'https://www.bloomberg.com/feeds/bpol/sitemap_2014_5.xml', 'https://www.bloomberg.com/feeds/bpol/sitemap_2014_4.xml', 'https://www.bloomberg.com/feeds/bpol/sitemap_2014_3.xml', 'https://www.bloomberg.com/feeds/bpol/sitemap_2014_2.xml', 'https://www.bloomberg.com/feeds/bpol/sitemap_2014_1.xml', 'https://www.bloomberg.com/feeds/bpol/sitemap_2013_12.xml', 'https://www.bloomberg.com/feeds/bpol/sitemap_2013_11.xml', 'https://www.bloomberg.com/feeds/bpol/sitemap_2013_10.xml', 'https://www.bloomberg.com/feeds/bpol/sitemap_2013_9.xml', 'https://www.bloomberg.com/feeds/bpol/sitemap_2013_8.xml', 'https://www.bloomberg.com/feeds/bpol/sitemap_2013_7.xml', 'https://www.bloomberg.com/feeds/bpol/sitemap_2013_6.xml', 'https://www.bloomberg.com/feeds/bpol/sitemap_2013_5.xml', 'https://www.bloomberg.com/feeds/bpol/sitemap_video_2020_6.xml', 'https://www.bloomberg.com/feeds/bpol/sitemap_video_2020_5.xml', 'https://www.bloomberg.com/feeds/bpol/sitemap_video_2020_4.xml', 'https://www.bloomberg.com/feeds/bpol/sitemap_video_2020_3.xml', 'https://www.bloomberg.com/feeds/bpol/sitemap_video_2020_2.xml', 'https://www.bloomberg.com/feeds/bpol/sitemap_video_2020_1.xml', 'https://www.bloomberg.com/feeds/bpol/sitemap_video_2019_12.xml', 'https://www.bloomberg.com/feeds/bpol/sitemap_video_2019_11.xml', 'https://www.bloomberg.com/feeds/bpol/sitemap_video_2019_10.xml', 'https://www.bloomberg.com/feeds/bpol/sitemap_video_2019_9.xml', 'https://www.bloomberg.com/feeds/bpol/sitemap_video_2019_8.xml', 'https://www.bloomberg.com/feeds/bpol/sitemap_video_2019_7.xml', 'https://www.bloomberg.com/feeds/bpol/sitemap_video_2019_6.xml', 'https://www.bloomberg.com/feeds/bpol/sitemap_video_2019_5.xml', 'https://www.bloomberg.com/feeds/bpol/sitemap_video_2019_4.xml', 'https://www.bloomberg.com/feeds/bpol/sitemap_video_2019_3.xml', 'https://www.bloomberg.com/feeds/bpol/sitemap_video_2019_2.xml', 'https://www.bloomberg.com/feeds/bpol/sitemap_video_2019_1.xml', 'https://www.bloomberg.com/feeds/bpol/sitemap_video_2018_12.xml', 'https://www.bloomberg.com/feeds/bpol/sitemap_video_2018_11.xml', 'https://www.bloomberg.com/feeds/bpol/sitemap_video_2018_10.xml', 'https://www.bloomberg.com/feeds/bpol/sitemap_video_2018_9.xml', 'https://www.bloomberg.com/feeds/bpol/sitemap_video_2018_8.xml', 'https://www.bloomberg.com/feeds/bpol/sitemap_video_2018_7.xml', 'https://www.bloomberg.com/feeds/bpol/sitemap_video_2018_6.xml', 'https://www.bloomberg.com/feeds/bpol/sitemap_video_2018_5.xml', 'https://www.bloomberg.com/feeds/bpol/sitemap_video_2018_4.xml', 'https://www.bloomberg.com/feeds/bpol/sitemap_video_2018_3.xml', 'https://www.bloomberg.com/feeds/bpol/sitemap_video_2018_2.xml', 'https://www.bloomberg.com/feeds/bpol/sitemap_video_2018_1.xml', 'https://www.bloomberg.com/feeds/bpol/sitemap_video_2017_12.xml', 'https://www.bloomberg.com/feeds/bpol/sitemap_video_2017_11.xml', 'https://www.bloomberg.com/feeds/bpol/sitemap_video_2017_10.xml', 'https://www.bloomberg.com/feeds/bpol/sitemap_video_2017_9.xml', 'https://www.bloomberg.com/feeds/bpol/sitemap_video_2017_8.xml', 'https://www.bloomberg.com/feeds/bpol/sitemap_video_2017_7.xml', 'https://www.bloomberg.com/feeds/bpol/sitemap_video_2017_6.xml', 'https://www.bloomberg.com/feeds/bpol/sitemap_video_2017_5.xml', 'https://www.bloomberg.com/feeds/bpol/sitemap_video_2017_4.xml', 'https://www.bloomberg.com/feeds/bpol/sitemap_video_2017_3.xml', 'https://www.bloomberg.com/feeds/bpol/sitemap_video_2017_2.xml', 'https://www.bloomberg.com/feeds/bpol/sitemap_video_2017_1.xml', 'https://www.bloomberg.com/feeds/bpol/sitemap_video_2016_12.xml', 'https://www.bloomberg.com/feeds/bpol/sitemap_video_2016_11.xml', 'https://www.bloomberg.com/feeds/bpol/sitemap_video_2016_10.xml', 'https://www.bloomberg.com/feeds/bpol/sitemap_video_2016_9.xml', 'https://www.bloomberg.com/feeds/bpol/sitemap_video_2016_8.xml', 'https://www.bloomberg.com/feeds/bpol/sitemap_video_2016_7.xml', 'https://www.bloomberg.com/feeds/bpol/sitemap_video_2016_6.xml', 'https://www.bloomberg.com/feeds/bpol/sitemap_video_2016_5.xml', 'https://www.bloomberg.com/feeds/bpol/sitemap_video_2016_4.xml', 'https://www.bloomberg.com/feeds/bpol/sitemap_video_2016_3.xml', 'https://www.bloomberg.com/feeds/bpol/sitemap_video_2016_2.xml', 'https://www.bloomberg.com/feeds/bpol/sitemap_video_2016_1.xml', 'https://www.bloomberg.com/feeds/bpol/sitemap_video_2015_12.xml', 'https://www.bloomberg.com/feeds/bpol/sitemap_video_2015_11.xml', 'https://www.bloomberg.com/feeds/bpol/sitemap_video_2015_10.xml', 'https://www.bloomberg.com/feeds/bpol/sitemap_video_2015_9.xml', 'https://www.bloomberg.com/feeds/bpol/sitemap_video_2015_8.xml', 'https://www.bloomberg.com/feeds/bpol/sitemap_video_2015_7.xml', 'https://www.bloomberg.com/feeds/bpol/sitemap_video_2015_6.xml', 'https://www.bloomberg.com/feeds/bpol/sitemap_video_2015_5.xml', 'https://www.bloomberg.com/feeds/bpol/sitemap_video_2015_4.xml', 'https://www.bloomberg.com/feeds/bpol/sitemap_video_2015_3.xml', 'https://www.bloomberg.com/feeds/bpol/sitemap_video_2015_2.xml', 'https://www.bloomberg.com/feeds/bpol/sitemap_video_2015_1.xml', 'https://www.bloomberg.com/feeds/bpol/sitemap_video_2014_12.xml', 'https://www.bloomberg.com/feeds/bpol/sitemap_video_2014_11.xml', 'https://www.bloomberg.com/feeds/bpol/sitemap_video_2014_10.xml', 'https://www.bloomberg.com/feeds/bpol/sitemap_video_2014_9.xml']\n"
          ],
          "name": "stdout"
        }
      ]
    },
    {
      "cell_type": "code",
      "metadata": {
        "id": "Qc1oudSSUg3y",
        "colab_type": "code",
        "colab": {
          "base_uri": "https://localhost:8080/"
        },
        "outputId": "78f89cfd-5572-45bb-caf2-fd37a9fec6af"
      },
      "source": [
        "def extract_links(url):\n",
        "    ''' Open an XML sitemap and find content wrapped in loc tags. '''\n",
        "\n",
        "    page = requests.get(url)\n",
        "    soup = BeautifulSoup(page.content, 'html.parser')\n",
        "    links = [element.text for element in soup.findAll('loc')]\n",
        "\n",
        "    return links\n",
        "\n",
        "sitemap_urls = []\n",
        "for url in urls:\n",
        "    links = extract_links(url)\n",
        "    sitemap_urls += links\n",
        "\n",
        "print('Found {:,} URLs in the sitemap'.format(len(sitemap_urls)))"
      ],
      "execution_count": null,
      "outputs": [
        {
          "output_type": "stream",
          "text": [
            "Found 38,100 URLs in the sitemap\n"
          ],
          "name": "stdout"
        }
      ]
    },
    {
      "cell_type": "code",
      "metadata": {
        "id": "uV5D5-faUg31",
        "colab_type": "code",
        "colab": {}
      },
      "source": [
        "with open('sitemap_urls.dat', 'w') as f:\n",
        "    for url in sitemap_urls:\n",
        "        f.write(url + '\\n')"
      ],
      "execution_count": null,
      "outputs": []
    },
    {
      "cell_type": "code",
      "metadata": {
        "id": "cLYtSYlqUg33",
        "colab_type": "code",
        "colab": {
          "base_uri": "https://localhost:8080/"
        },
        "outputId": "724a1660-41c2-4b7c-f2dd-b0ce739142ce"
      },
      "source": [
        "'''\n",
        "Categorize a list of URLs by site path.\n",
        "The file containing the URLs should exist in the working directory and be\n",
        "named sitemap_urls.dat. It should contain one URL per line.\n",
        "Categorization depth can be specified by executing a call like this in the\n",
        "terminal (where we set the granularity depth level to 5):\n",
        "    python categorize_urls.py --depth 5\n",
        "The same result can be achieved by setting the categorization_depth variable\n",
        "manually at the head of this file and running the script with:\n",
        "    python categorize_urls.py\n",
        "'''\n",
        "from __future__ import print_function\n",
        "\n",
        "\n",
        "categorization_depth=3\n",
        "\n",
        "\n",
        "\n",
        "# Main script functions\n",
        "\n",
        "\n",
        "def peel_layers(urls, layers=3):\n",
        "    ''' Builds a dataframe containing all unique page identifiers up\n",
        "    to a specified depth and counts the number of sub-pages for each.\n",
        "    Prints results to a CSV file.\n",
        "    urls : list\n",
        "        List of page URLs.\n",
        "    layers : int\n",
        "        Depth of automated URL search. Large values for this parameter\n",
        "        may cause long runtimes depending on the number of URLs.\n",
        "    '''\n",
        "\n",
        "    # Store results in a dataframe\n",
        "    sitemap_layers = pd.DataFrame()\n",
        "\n",
        "    # Get base levels\n",
        "    bases = pd.Series([url.split('//')[-1].split('/')[0] for url in urls])\n",
        "    sitemap_layers[0] = bases\n",
        "\n",
        "    # Get specified number of layers\n",
        "    for layer in range(1, layers+1):\n",
        "\n",
        "        page_layer = []\n",
        "        for url, base in zip(urls, bases):\n",
        "            try:\n",
        "                page_layer.append(url.split(base)[-1].split('/')[layer])\n",
        "            except:\n",
        "                # There is nothing that deep!\n",
        "                page_layer.append('')\n",
        "\n",
        "        sitemap_layers[layer] = page_layer\n",
        "\n",
        "    # Count and drop duplicate rows + sort\n",
        "    sitemap_layers = sitemap_layers.groupby(list(range(0, layers+1)))[0].count()\\\n",
        "                     .rename('counts').reset_index()\\\n",
        "                     .sort_values('counts', ascending=False)\\\n",
        "                     .sort_values(list(range(0, layers)), ascending=True)\\\n",
        "                     .reset_index(drop=True)\n",
        "\n",
        "    # Convert column names to string types and export\n",
        "    sitemap_layers.columns = [str(col) for col in sitemap_layers.columns]\n",
        "    sitemap_layers.to_csv('sitemap_layers.csv', index=False)\n",
        "\n",
        "    # Return the dataframe\n",
        "    return sitemap_layers\n",
        "\n",
        "\n",
        "\n",
        "\n",
        "sitemap_urls = open('sitemap_urls.dat', 'r').read().splitlines()\n",
        "print('Loaded {:,} URLs'.format(len(sitemap_urls)))\n",
        "\n",
        "print('Categorizing up to a depth of %d' % categorization_depth)\n",
        "sitemap_layers = peel_layers(urls=sitemap_urls,\n",
        "                             layers=categorization_depth)\n",
        "print('Printed {:,} rows of data to sitemap_layers.csv'.format(len(sitemap_layers)))\n"
      ],
      "execution_count": null,
      "outputs": [
        {
          "output_type": "stream",
          "text": [
            "Loaded 38,100 URLs\n",
            "Categorizing up to a depth of 3\n",
            "Printed 3,100 rows of data to sitemap_layers.csv\n"
          ],
          "name": "stdout"
        }
      ]
    },
    {
      "cell_type": "code",
      "metadata": {
        "id": "Qg4l_ty3Ug35",
        "colab_type": "code",
        "colab": {
          "base_uri": "https://localhost:8080/"
        },
        "outputId": "736eedae-b239-4a6f-b30e-d96cf948829e"
      },
      "source": [
        "'''\n",
        "Visualize a list of URLs by site path.\n",
        "This script reads in the sitemap_layers.csv file created by the\n",
        "categorize_urls.py script and builds a graph visualization using Graphviz.\n",
        "Graph depth can be specified by executing a call like this in the\n",
        "terminal:\n",
        "    python visualize_urls.py --depth 4 --limit 10 --title \"My Sitemap\" --style \"dark\" --size \"40\"\n",
        "The same result can be achieved by setting the variables manually at the head\n",
        "of this file and running the script with:\n",
        "    python visualize_urls.py\n",
        "'''\n",
        "from __future__ import print_function\n",
        "\n",
        "\n",
        "# Set global variables\n",
        "\n",
        "graph_depth = 3  # Number of layers deep to plot categorization\n",
        "limit = 3       # Maximum number of nodes for a branch\n",
        "title = ''       # Graph title\n",
        "style = 'light'  # Graph style, can be \"light\" or \"dark\"\n",
        "size = '8,5'     # Size of rendered PDF graph\n",
        "\n",
        "\n",
        "# Import external library dependencies\n",
        "\n",
        "import pandas as pd\n",
        "import graphviz\n",
        "\n",
        "\n",
        "\n",
        "# Main script functions\n",
        "\n",
        "def make_sitemap_graph(df, layers=3, limit=50, size='8,5'):\n",
        "    ''' Make a sitemap graph up to a specified layer depth.\n",
        "    sitemap_layers : DataFrame\n",
        "        The dataframe created by the peel_layers function\n",
        "        containing sitemap information.\n",
        "    layers : int\n",
        "        Maximum depth to plot.\n",
        "    limit : int\n",
        "        The maximum number node edge connections. Good to set this\n",
        "        low for visualizing deep into site maps.\n",
        "    '''\n",
        "\n",
        "\n",
        "    # Check to make sure we are not trying to plot too many layers\n",
        "    if layers > len(df) - 1:\n",
        "        layers = len(df)-1\n",
        "        print('There are only %d layers available to plot, setting layers=%d'\n",
        "              % (layers, layers))\n",
        "\n",
        "\n",
        "    # Initialize graph\n",
        "    f = graphviz.Digraph('sitemap', filename='sitemap_graph_%d_layer' % layers)\n",
        "    f.body.extend(['rankdir=LR', 'size=\"%s\"' % size])\n",
        "\n",
        "\n",
        "    def add_branch(f, names, vals, limit, connect_to=''):\n",
        "        ''' Adds a set of nodes and edges to nodes on the previous layer. '''\n",
        "\n",
        "        # Get the currently existing node names\n",
        "        node_names = [item.split('\"')[1] for item in f.body if 'label' in item]\n",
        "\n",
        "        # Only add a new branch it it will connect to a previously created node\n",
        "        if connect_to:\n",
        "            if connect_to in node_names:\n",
        "                for name, val in list(zip(names, vals))[:limit]:\n",
        "                    f.node(name='%s-%s' % (connect_to, name), label=name)\n",
        "                    f.edge(connect_to, '%s-%s' % (connect_to, name), label='{:,}'.format(val))\n",
        "\n",
        "\n",
        "    f.attr('node', shape='rectangle') # Plot nodes as rectangles\n",
        "\n",
        "    # Add the first layer of nodes\n",
        "    for name, counts in df.groupby(['0'])['counts'].sum().reset_index()\\\n",
        "                          .sort_values(['counts'], ascending=False).values:\n",
        "        f.node(name=name, label='{} ({:,})'.format(name, counts))\n",
        "\n",
        "    if layers == 0:\n",
        "        return f\n",
        "\n",
        "    f.attr('node', shape='oval') # Plot nodes as ovals\n",
        "    f.graph_attr.update()\n",
        "\n",
        "    # Loop over each layer adding nodes and edges to prior nodes\n",
        "    for i in range(1, layers+1):\n",
        "        cols = [str(i_) for i_ in range(i)]\n",
        "        nodes = df[cols].drop_duplicates().values\n",
        "        for j, k in enumerate(nodes):\n",
        "\n",
        "            # Compute the mask to select correct data\n",
        "            mask = True\n",
        "            for j_, ki in enumerate(k):\n",
        "                mask &= df[str(j_)] == ki\n",
        "\n",
        "            # Select the data then count branch size, sort, and truncate\n",
        "            data = df[mask].groupby([str(i)])['counts'].sum()\\\n",
        "                    .reset_index().sort_values(['counts'], ascending=False)\n",
        "\n",
        "            # Add to the graph\n",
        "            add_branch(f,\n",
        "                       names=data[str(i)].values,\n",
        "                       vals=data['counts'].values,\n",
        "                       limit=limit,\n",
        "                       connect_to='-'.join(['%s']*i) % tuple(k))\n",
        "\n",
        "            print(('Built graph up to node %d / %d in layer %d' % (j, len(nodes), i))\\\n",
        "                    .ljust(50), end='\\r')\n",
        "\n",
        "    return f\n",
        "\n",
        "\n",
        "def apply_style(f, style, title=''):\n",
        "    ''' Apply the style and add a title if desired. More styling options are\n",
        "    documented here: http://www.graphviz.org/doc/info/attrs.html#d:style\n",
        "    f : graphviz.dot.Digraph\n",
        "        The graph object as created by graphviz.\n",
        "    style : str\n",
        "        Available styles: 'light', 'dark'\n",
        "    title : str\n",
        "        Optional title placed at the bottom of the graph.\n",
        "    '''\n",
        "\n",
        "    dark_style = {\n",
        "        'graph': {\n",
        "            'label': title,\n",
        "            'bgcolor': '#3a3a3a',\n",
        "            'fontname': 'Helvetica',\n",
        "            'fontsize': '18',\n",
        "            'fontcolor': 'white',\n",
        "        },\n",
        "        'nodes': {\n",
        "            'style': 'filled',\n",
        "            'color': 'white',\n",
        "            'fillcolor': 'black',\n",
        "            'fontname': 'Helvetica',\n",
        "            'fontsize': '14',\n",
        "            'fontcolor': 'white',\n",
        "        },\n",
        "        'edges': {\n",
        "            'color': 'white',\n",
        "            'arrowhead': 'open',\n",
        "            'fontname': 'Helvetica',\n",
        "            'fontsize': '12',\n",
        "            'fontcolor': 'white',\n",
        "        }\n",
        "    }\n",
        "\n",
        "    light_style = {\n",
        "        'graph': {\n",
        "            'label': title,\n",
        "            'fontname': 'Helvetica',\n",
        "            'fontsize': '18',\n",
        "            'fontcolor': 'black',\n",
        "        },\n",
        "        'nodes': {\n",
        "            'style': 'filled',\n",
        "            'color': 'black',\n",
        "            'fillcolor': '#dbdddd',\n",
        "            'fontname': 'Helvetica',\n",
        "            'fontsize': '14',\n",
        "            'fontcolor': 'black',\n",
        "        },\n",
        "        'edges': {\n",
        "            'color': 'black',\n",
        "            'arrowhead': 'open',\n",
        "            'fontname': 'Helvetica',\n",
        "            'fontsize': '12',\n",
        "            'fontcolor': 'black',\n",
        "        }\n",
        "    }\n",
        "\n",
        "    if style == 'light':\n",
        "        apply_style = light_style\n",
        "\n",
        "    elif style == 'dark':\n",
        "        apply_style = dark_style\n",
        "\n",
        "    f.graph_attr = apply_style['graph']\n",
        "    f.node_attr = apply_style['nodes']\n",
        "    f.edge_attr = apply_style['edges']\n",
        "\n",
        "    return f\n",
        "\n",
        "\n",
        "\n",
        "\n",
        "# Read in categorized data\n",
        "sitemap_layers = pd.read_csv('sitemap_layers.csv', dtype=str)\n",
        "# Convert numerical column to integer\n",
        "sitemap_layers.counts = sitemap_layers.counts.apply(int)\n",
        "print('Loaded {:,} rows of categorized data from sitemap_layers.csv'\\\n",
        "        .format(len(sitemap_layers)))\n",
        "\n",
        "print('Building %d layer deep sitemap graph' % graph_depth)\n",
        "f = make_sitemap_graph(sitemap_layers, layers=graph_depth,\n",
        "                       limit=limit, size=size)\n",
        "f = apply_style(f, style=style, title=title)\n",
        "\n",
        "f.render(cleanup=True)\n",
        "print('Exported graph to sitemap_graph_%d_layer.pdf' % graph_depth)\n",
        "\n",
        "\n"
      ],
      "execution_count": null,
      "outputs": [
        {
          "output_type": "stream",
          "text": [
            "Loaded 3,100 rows of categorized data from sitemap_layers.csv\n",
            "Building 3 layer deep sitemap graph\n",
            "Exported graph to sitemap_graph_3_layer.pdf\n"
          ],
          "name": "stdout"
        }
      ]
    },
    {
      "cell_type": "code",
      "metadata": {
        "id": "KjC4qxVqUg39",
        "colab_type": "code",
        "colab": {}
      },
      "source": [
        ""
      ],
      "execution_count": null,
      "outputs": []
    }
  ]
}